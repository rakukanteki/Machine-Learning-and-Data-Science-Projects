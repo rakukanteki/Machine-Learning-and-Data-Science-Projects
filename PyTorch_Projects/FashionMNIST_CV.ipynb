{
  "nbformat": 4,
  "nbformat_minor": 0,
  "metadata": {
    "colab": {
      "provenance": [],
      "collapsed_sections": [
        "UYOli8erzinK",
        "4-BdY6Gs0S2t",
        "8v7vdXPj-_fi",
        "slYyyRWPKCfC",
        "9GPFI0y7KZuv",
        "19qatFNuSCFn",
        "JCWTuILwVkFw",
        "MfPVhR7VbitX",
        "BwYkBm7BfpDl",
        "F34t9GYygRko",
        "67PwZo_vffgr",
        "pNaPmBVHf-D5",
        "Tzj-6Nd4evqm",
        "3hA5yRb0s-hd",
        "RsxtInKU7wWd",
        "i1M8hNKSYBP5",
        "b7EfA67DYG3N",
        "kQkPVxt8Yezf",
        "xtrUNZsjbWTN",
        "XPgbCt0rbzav",
        "nmmO2G-bdsaJ",
        "2jjMSfLLiNtW",
        "rJjEn9LvAljG"
      ]
    },
    "kernelspec": {
      "name": "python3",
      "display_name": "Python 3"
    },
    "language_info": {
      "name": "python"
    },
    "widgets": {
      "application/vnd.jupyter.widget-state+json": {
        "66964770751d4d14a40b296edddc54b5": {
          "model_module": "@jupyter-widgets/controls",
          "model_name": "HBoxModel",
          "model_module_version": "1.5.0",
          "state": {
            "_dom_classes": [],
            "_model_module": "@jupyter-widgets/controls",
            "_model_module_version": "1.5.0",
            "_model_name": "HBoxModel",
            "_view_count": null,
            "_view_module": "@jupyter-widgets/controls",
            "_view_module_version": "1.5.0",
            "_view_name": "HBoxView",
            "box_style": "",
            "children": [
              "IPY_MODEL_4fececc45b9444249cb5dcbf663025da",
              "IPY_MODEL_8045d1f643654751b1ab0804669275be",
              "IPY_MODEL_affc9f0940004698b819221d629cbb91"
            ],
            "layout": "IPY_MODEL_2e95366e686c49c6a95c52f02c764c38"
          }
        },
        "4fececc45b9444249cb5dcbf663025da": {
          "model_module": "@jupyter-widgets/controls",
          "model_name": "HTMLModel",
          "model_module_version": "1.5.0",
          "state": {
            "_dom_classes": [],
            "_model_module": "@jupyter-widgets/controls",
            "_model_module_version": "1.5.0",
            "_model_name": "HTMLModel",
            "_view_count": null,
            "_view_module": "@jupyter-widgets/controls",
            "_view_module_version": "1.5.0",
            "_view_name": "HTMLView",
            "description": "",
            "description_tooltip": null,
            "layout": "IPY_MODEL_e9580d6cd5744441ba698e127523c560",
            "placeholder": "​",
            "style": "IPY_MODEL_6098fcc4301d4c278aed7ffabe3ed3c1",
            "value": "100%"
          }
        },
        "8045d1f643654751b1ab0804669275be": {
          "model_module": "@jupyter-widgets/controls",
          "model_name": "FloatProgressModel",
          "model_module_version": "1.5.0",
          "state": {
            "_dom_classes": [],
            "_model_module": "@jupyter-widgets/controls",
            "_model_module_version": "1.5.0",
            "_model_name": "FloatProgressModel",
            "_view_count": null,
            "_view_module": "@jupyter-widgets/controls",
            "_view_module_version": "1.5.0",
            "_view_name": "ProgressView",
            "bar_style": "success",
            "description": "",
            "description_tooltip": null,
            "layout": "IPY_MODEL_d2c503e30764459abc4fec1368720380",
            "max": 3,
            "min": 0,
            "orientation": "horizontal",
            "style": "IPY_MODEL_ad915f3da06f4eff9828cab5c0a944f8",
            "value": 3
          }
        },
        "affc9f0940004698b819221d629cbb91": {
          "model_module": "@jupyter-widgets/controls",
          "model_name": "HTMLModel",
          "model_module_version": "1.5.0",
          "state": {
            "_dom_classes": [],
            "_model_module": "@jupyter-widgets/controls",
            "_model_module_version": "1.5.0",
            "_model_name": "HTMLModel",
            "_view_count": null,
            "_view_module": "@jupyter-widgets/controls",
            "_view_module_version": "1.5.0",
            "_view_name": "HTMLView",
            "description": "",
            "description_tooltip": null,
            "layout": "IPY_MODEL_0eea9c75251b45c3a4ceaec1ae29463c",
            "placeholder": "​",
            "style": "IPY_MODEL_36797f0e651e47a2a486bd753c1e38c1",
            "value": " 3/3 [00:35&lt;00:00, 11.84s/it]"
          }
        },
        "2e95366e686c49c6a95c52f02c764c38": {
          "model_module": "@jupyter-widgets/base",
          "model_name": "LayoutModel",
          "model_module_version": "1.2.0",
          "state": {
            "_model_module": "@jupyter-widgets/base",
            "_model_module_version": "1.2.0",
            "_model_name": "LayoutModel",
            "_view_count": null,
            "_view_module": "@jupyter-widgets/base",
            "_view_module_version": "1.2.0",
            "_view_name": "LayoutView",
            "align_content": null,
            "align_items": null,
            "align_self": null,
            "border": null,
            "bottom": null,
            "display": null,
            "flex": null,
            "flex_flow": null,
            "grid_area": null,
            "grid_auto_columns": null,
            "grid_auto_flow": null,
            "grid_auto_rows": null,
            "grid_column": null,
            "grid_gap": null,
            "grid_row": null,
            "grid_template_areas": null,
            "grid_template_columns": null,
            "grid_template_rows": null,
            "height": null,
            "justify_content": null,
            "justify_items": null,
            "left": null,
            "margin": null,
            "max_height": null,
            "max_width": null,
            "min_height": null,
            "min_width": null,
            "object_fit": null,
            "object_position": null,
            "order": null,
            "overflow": null,
            "overflow_x": null,
            "overflow_y": null,
            "padding": null,
            "right": null,
            "top": null,
            "visibility": null,
            "width": null
          }
        },
        "e9580d6cd5744441ba698e127523c560": {
          "model_module": "@jupyter-widgets/base",
          "model_name": "LayoutModel",
          "model_module_version": "1.2.0",
          "state": {
            "_model_module": "@jupyter-widgets/base",
            "_model_module_version": "1.2.0",
            "_model_name": "LayoutModel",
            "_view_count": null,
            "_view_module": "@jupyter-widgets/base",
            "_view_module_version": "1.2.0",
            "_view_name": "LayoutView",
            "align_content": null,
            "align_items": null,
            "align_self": null,
            "border": null,
            "bottom": null,
            "display": null,
            "flex": null,
            "flex_flow": null,
            "grid_area": null,
            "grid_auto_columns": null,
            "grid_auto_flow": null,
            "grid_auto_rows": null,
            "grid_column": null,
            "grid_gap": null,
            "grid_row": null,
            "grid_template_areas": null,
            "grid_template_columns": null,
            "grid_template_rows": null,
            "height": null,
            "justify_content": null,
            "justify_items": null,
            "left": null,
            "margin": null,
            "max_height": null,
            "max_width": null,
            "min_height": null,
            "min_width": null,
            "object_fit": null,
            "object_position": null,
            "order": null,
            "overflow": null,
            "overflow_x": null,
            "overflow_y": null,
            "padding": null,
            "right": null,
            "top": null,
            "visibility": null,
            "width": null
          }
        },
        "6098fcc4301d4c278aed7ffabe3ed3c1": {
          "model_module": "@jupyter-widgets/controls",
          "model_name": "DescriptionStyleModel",
          "model_module_version": "1.5.0",
          "state": {
            "_model_module": "@jupyter-widgets/controls",
            "_model_module_version": "1.5.0",
            "_model_name": "DescriptionStyleModel",
            "_view_count": null,
            "_view_module": "@jupyter-widgets/base",
            "_view_module_version": "1.2.0",
            "_view_name": "StyleView",
            "description_width": ""
          }
        },
        "d2c503e30764459abc4fec1368720380": {
          "model_module": "@jupyter-widgets/base",
          "model_name": "LayoutModel",
          "model_module_version": "1.2.0",
          "state": {
            "_model_module": "@jupyter-widgets/base",
            "_model_module_version": "1.2.0",
            "_model_name": "LayoutModel",
            "_view_count": null,
            "_view_module": "@jupyter-widgets/base",
            "_view_module_version": "1.2.0",
            "_view_name": "LayoutView",
            "align_content": null,
            "align_items": null,
            "align_self": null,
            "border": null,
            "bottom": null,
            "display": null,
            "flex": null,
            "flex_flow": null,
            "grid_area": null,
            "grid_auto_columns": null,
            "grid_auto_flow": null,
            "grid_auto_rows": null,
            "grid_column": null,
            "grid_gap": null,
            "grid_row": null,
            "grid_template_areas": null,
            "grid_template_columns": null,
            "grid_template_rows": null,
            "height": null,
            "justify_content": null,
            "justify_items": null,
            "left": null,
            "margin": null,
            "max_height": null,
            "max_width": null,
            "min_height": null,
            "min_width": null,
            "object_fit": null,
            "object_position": null,
            "order": null,
            "overflow": null,
            "overflow_x": null,
            "overflow_y": null,
            "padding": null,
            "right": null,
            "top": null,
            "visibility": null,
            "width": null
          }
        },
        "ad915f3da06f4eff9828cab5c0a944f8": {
          "model_module": "@jupyter-widgets/controls",
          "model_name": "ProgressStyleModel",
          "model_module_version": "1.5.0",
          "state": {
            "_model_module": "@jupyter-widgets/controls",
            "_model_module_version": "1.5.0",
            "_model_name": "ProgressStyleModel",
            "_view_count": null,
            "_view_module": "@jupyter-widgets/base",
            "_view_module_version": "1.2.0",
            "_view_name": "StyleView",
            "bar_color": null,
            "description_width": ""
          }
        },
        "0eea9c75251b45c3a4ceaec1ae29463c": {
          "model_module": "@jupyter-widgets/base",
          "model_name": "LayoutModel",
          "model_module_version": "1.2.0",
          "state": {
            "_model_module": "@jupyter-widgets/base",
            "_model_module_version": "1.2.0",
            "_model_name": "LayoutModel",
            "_view_count": null,
            "_view_module": "@jupyter-widgets/base",
            "_view_module_version": "1.2.0",
            "_view_name": "LayoutView",
            "align_content": null,
            "align_items": null,
            "align_self": null,
            "border": null,
            "bottom": null,
            "display": null,
            "flex": null,
            "flex_flow": null,
            "grid_area": null,
            "grid_auto_columns": null,
            "grid_auto_flow": null,
            "grid_auto_rows": null,
            "grid_column": null,
            "grid_gap": null,
            "grid_row": null,
            "grid_template_areas": null,
            "grid_template_columns": null,
            "grid_template_rows": null,
            "height": null,
            "justify_content": null,
            "justify_items": null,
            "left": null,
            "margin": null,
            "max_height": null,
            "max_width": null,
            "min_height": null,
            "min_width": null,
            "object_fit": null,
            "object_position": null,
            "order": null,
            "overflow": null,
            "overflow_x": null,
            "overflow_y": null,
            "padding": null,
            "right": null,
            "top": null,
            "visibility": null,
            "width": null
          }
        },
        "36797f0e651e47a2a486bd753c1e38c1": {
          "model_module": "@jupyter-widgets/controls",
          "model_name": "DescriptionStyleModel",
          "model_module_version": "1.5.0",
          "state": {
            "_model_module": "@jupyter-widgets/controls",
            "_model_module_version": "1.5.0",
            "_model_name": "DescriptionStyleModel",
            "_view_count": null,
            "_view_module": "@jupyter-widgets/base",
            "_view_module_version": "1.2.0",
            "_view_name": "StyleView",
            "description_width": ""
          }
        },
        "bb54854f11684821921661f5f28e7849": {
          "model_module": "@jupyter-widgets/controls",
          "model_name": "HBoxModel",
          "model_module_version": "1.5.0",
          "state": {
            "_dom_classes": [],
            "_model_module": "@jupyter-widgets/controls",
            "_model_module_version": "1.5.0",
            "_model_name": "HBoxModel",
            "_view_count": null,
            "_view_module": "@jupyter-widgets/controls",
            "_view_module_version": "1.5.0",
            "_view_name": "HBoxView",
            "box_style": "",
            "children": [
              "IPY_MODEL_bda3c9fe05c84f82a24c18445e6a1c04",
              "IPY_MODEL_c4c038d8dc5b4abc85be5727c24bb549",
              "IPY_MODEL_755b7aead2cb4d649349feaa172cc46a"
            ],
            "layout": "IPY_MODEL_c20c0c1657a14fa1a2f358e5ab17c997"
          }
        },
        "bda3c9fe05c84f82a24c18445e6a1c04": {
          "model_module": "@jupyter-widgets/controls",
          "model_name": "HTMLModel",
          "model_module_version": "1.5.0",
          "state": {
            "_dom_classes": [],
            "_model_module": "@jupyter-widgets/controls",
            "_model_module_version": "1.5.0",
            "_model_name": "HTMLModel",
            "_view_count": null,
            "_view_module": "@jupyter-widgets/controls",
            "_view_module_version": "1.5.0",
            "_view_name": "HTMLView",
            "description": "",
            "description_tooltip": null,
            "layout": "IPY_MODEL_5dfddcad50d941628729536930889f48",
            "placeholder": "​",
            "style": "IPY_MODEL_69ac528e95764a618d63d8e597c65f03",
            "value": "100%"
          }
        },
        "c4c038d8dc5b4abc85be5727c24bb549": {
          "model_module": "@jupyter-widgets/controls",
          "model_name": "FloatProgressModel",
          "model_module_version": "1.5.0",
          "state": {
            "_dom_classes": [],
            "_model_module": "@jupyter-widgets/controls",
            "_model_module_version": "1.5.0",
            "_model_name": "FloatProgressModel",
            "_view_count": null,
            "_view_module": "@jupyter-widgets/controls",
            "_view_module_version": "1.5.0",
            "_view_name": "ProgressView",
            "bar_style": "success",
            "description": "",
            "description_tooltip": null,
            "layout": "IPY_MODEL_779d5d17f1ae41efaa2ae05a8b3aa9f0",
            "max": 313,
            "min": 0,
            "orientation": "horizontal",
            "style": "IPY_MODEL_68ff089087eb40f488a6e458a10871c4",
            "value": 313
          }
        },
        "755b7aead2cb4d649349feaa172cc46a": {
          "model_module": "@jupyter-widgets/controls",
          "model_name": "HTMLModel",
          "model_module_version": "1.5.0",
          "state": {
            "_dom_classes": [],
            "_model_module": "@jupyter-widgets/controls",
            "_model_module_version": "1.5.0",
            "_model_name": "HTMLModel",
            "_view_count": null,
            "_view_module": "@jupyter-widgets/controls",
            "_view_module_version": "1.5.0",
            "_view_name": "HTMLView",
            "description": "",
            "description_tooltip": null,
            "layout": "IPY_MODEL_61c51414383c41ffbc4854ca609b67a6",
            "placeholder": "​",
            "style": "IPY_MODEL_ffaead56f6794e549ce1e815fd94017d",
            "value": " 313/313 [00:01&lt;00:00, 158.80it/s]"
          }
        },
        "c20c0c1657a14fa1a2f358e5ab17c997": {
          "model_module": "@jupyter-widgets/base",
          "model_name": "LayoutModel",
          "model_module_version": "1.2.0",
          "state": {
            "_model_module": "@jupyter-widgets/base",
            "_model_module_version": "1.2.0",
            "_model_name": "LayoutModel",
            "_view_count": null,
            "_view_module": "@jupyter-widgets/base",
            "_view_module_version": "1.2.0",
            "_view_name": "LayoutView",
            "align_content": null,
            "align_items": null,
            "align_self": null,
            "border": null,
            "bottom": null,
            "display": null,
            "flex": null,
            "flex_flow": null,
            "grid_area": null,
            "grid_auto_columns": null,
            "grid_auto_flow": null,
            "grid_auto_rows": null,
            "grid_column": null,
            "grid_gap": null,
            "grid_row": null,
            "grid_template_areas": null,
            "grid_template_columns": null,
            "grid_template_rows": null,
            "height": null,
            "justify_content": null,
            "justify_items": null,
            "left": null,
            "margin": null,
            "max_height": null,
            "max_width": null,
            "min_height": null,
            "min_width": null,
            "object_fit": null,
            "object_position": null,
            "order": null,
            "overflow": null,
            "overflow_x": null,
            "overflow_y": null,
            "padding": null,
            "right": null,
            "top": null,
            "visibility": null,
            "width": null
          }
        },
        "5dfddcad50d941628729536930889f48": {
          "model_module": "@jupyter-widgets/base",
          "model_name": "LayoutModel",
          "model_module_version": "1.2.0",
          "state": {
            "_model_module": "@jupyter-widgets/base",
            "_model_module_version": "1.2.0",
            "_model_name": "LayoutModel",
            "_view_count": null,
            "_view_module": "@jupyter-widgets/base",
            "_view_module_version": "1.2.0",
            "_view_name": "LayoutView",
            "align_content": null,
            "align_items": null,
            "align_self": null,
            "border": null,
            "bottom": null,
            "display": null,
            "flex": null,
            "flex_flow": null,
            "grid_area": null,
            "grid_auto_columns": null,
            "grid_auto_flow": null,
            "grid_auto_rows": null,
            "grid_column": null,
            "grid_gap": null,
            "grid_row": null,
            "grid_template_areas": null,
            "grid_template_columns": null,
            "grid_template_rows": null,
            "height": null,
            "justify_content": null,
            "justify_items": null,
            "left": null,
            "margin": null,
            "max_height": null,
            "max_width": null,
            "min_height": null,
            "min_width": null,
            "object_fit": null,
            "object_position": null,
            "order": null,
            "overflow": null,
            "overflow_x": null,
            "overflow_y": null,
            "padding": null,
            "right": null,
            "top": null,
            "visibility": null,
            "width": null
          }
        },
        "69ac528e95764a618d63d8e597c65f03": {
          "model_module": "@jupyter-widgets/controls",
          "model_name": "DescriptionStyleModel",
          "model_module_version": "1.5.0",
          "state": {
            "_model_module": "@jupyter-widgets/controls",
            "_model_module_version": "1.5.0",
            "_model_name": "DescriptionStyleModel",
            "_view_count": null,
            "_view_module": "@jupyter-widgets/base",
            "_view_module_version": "1.2.0",
            "_view_name": "StyleView",
            "description_width": ""
          }
        },
        "779d5d17f1ae41efaa2ae05a8b3aa9f0": {
          "model_module": "@jupyter-widgets/base",
          "model_name": "LayoutModel",
          "model_module_version": "1.2.0",
          "state": {
            "_model_module": "@jupyter-widgets/base",
            "_model_module_version": "1.2.0",
            "_model_name": "LayoutModel",
            "_view_count": null,
            "_view_module": "@jupyter-widgets/base",
            "_view_module_version": "1.2.0",
            "_view_name": "LayoutView",
            "align_content": null,
            "align_items": null,
            "align_self": null,
            "border": null,
            "bottom": null,
            "display": null,
            "flex": null,
            "flex_flow": null,
            "grid_area": null,
            "grid_auto_columns": null,
            "grid_auto_flow": null,
            "grid_auto_rows": null,
            "grid_column": null,
            "grid_gap": null,
            "grid_row": null,
            "grid_template_areas": null,
            "grid_template_columns": null,
            "grid_template_rows": null,
            "height": null,
            "justify_content": null,
            "justify_items": null,
            "left": null,
            "margin": null,
            "max_height": null,
            "max_width": null,
            "min_height": null,
            "min_width": null,
            "object_fit": null,
            "object_position": null,
            "order": null,
            "overflow": null,
            "overflow_x": null,
            "overflow_y": null,
            "padding": null,
            "right": null,
            "top": null,
            "visibility": null,
            "width": null
          }
        },
        "68ff089087eb40f488a6e458a10871c4": {
          "model_module": "@jupyter-widgets/controls",
          "model_name": "ProgressStyleModel",
          "model_module_version": "1.5.0",
          "state": {
            "_model_module": "@jupyter-widgets/controls",
            "_model_module_version": "1.5.0",
            "_model_name": "ProgressStyleModel",
            "_view_count": null,
            "_view_module": "@jupyter-widgets/base",
            "_view_module_version": "1.2.0",
            "_view_name": "StyleView",
            "bar_color": null,
            "description_width": ""
          }
        },
        "61c51414383c41ffbc4854ca609b67a6": {
          "model_module": "@jupyter-widgets/base",
          "model_name": "LayoutModel",
          "model_module_version": "1.2.0",
          "state": {
            "_model_module": "@jupyter-widgets/base",
            "_model_module_version": "1.2.0",
            "_model_name": "LayoutModel",
            "_view_count": null,
            "_view_module": "@jupyter-widgets/base",
            "_view_module_version": "1.2.0",
            "_view_name": "LayoutView",
            "align_content": null,
            "align_items": null,
            "align_self": null,
            "border": null,
            "bottom": null,
            "display": null,
            "flex": null,
            "flex_flow": null,
            "grid_area": null,
            "grid_auto_columns": null,
            "grid_auto_flow": null,
            "grid_auto_rows": null,
            "grid_column": null,
            "grid_gap": null,
            "grid_row": null,
            "grid_template_areas": null,
            "grid_template_columns": null,
            "grid_template_rows": null,
            "height": null,
            "justify_content": null,
            "justify_items": null,
            "left": null,
            "margin": null,
            "max_height": null,
            "max_width": null,
            "min_height": null,
            "min_width": null,
            "object_fit": null,
            "object_position": null,
            "order": null,
            "overflow": null,
            "overflow_x": null,
            "overflow_y": null,
            "padding": null,
            "right": null,
            "top": null,
            "visibility": null,
            "width": null
          }
        },
        "ffaead56f6794e549ce1e815fd94017d": {
          "model_module": "@jupyter-widgets/controls",
          "model_name": "DescriptionStyleModel",
          "model_module_version": "1.5.0",
          "state": {
            "_model_module": "@jupyter-widgets/controls",
            "_model_module_version": "1.5.0",
            "_model_name": "DescriptionStyleModel",
            "_view_count": null,
            "_view_module": "@jupyter-widgets/base",
            "_view_module_version": "1.2.0",
            "_view_name": "StyleView",
            "description_width": ""
          }
        },
        "b24e153a59824f31aa1acde95164f8de": {
          "model_module": "@jupyter-widgets/controls",
          "model_name": "HBoxModel",
          "model_module_version": "1.5.0",
          "state": {
            "_dom_classes": [],
            "_model_module": "@jupyter-widgets/controls",
            "_model_module_version": "1.5.0",
            "_model_name": "HBoxModel",
            "_view_count": null,
            "_view_module": "@jupyter-widgets/controls",
            "_view_module_version": "1.5.0",
            "_view_name": "HBoxView",
            "box_style": "",
            "children": [
              "IPY_MODEL_ad644cac6b1043b3b8b8b61821c34fb0",
              "IPY_MODEL_d4021df84fed443d86a0771bdd2bb0c9",
              "IPY_MODEL_4247379e2483471784730dbdb3c55e5a"
            ],
            "layout": "IPY_MODEL_1f138e586acc4d50a5b3a23f3500a838"
          }
        },
        "ad644cac6b1043b3b8b8b61821c34fb0": {
          "model_module": "@jupyter-widgets/controls",
          "model_name": "HTMLModel",
          "model_module_version": "1.5.0",
          "state": {
            "_dom_classes": [],
            "_model_module": "@jupyter-widgets/controls",
            "_model_module_version": "1.5.0",
            "_model_name": "HTMLModel",
            "_view_count": null,
            "_view_module": "@jupyter-widgets/controls",
            "_view_module_version": "1.5.0",
            "_view_name": "HTMLView",
            "description": "",
            "description_tooltip": null,
            "layout": "IPY_MODEL_30f8d87439dc49d2a474a4ed1240096f",
            "placeholder": "​",
            "style": "IPY_MODEL_d20ae3dc7e4e4eefb8345dbb66588ff4",
            "value": "100%"
          }
        },
        "d4021df84fed443d86a0771bdd2bb0c9": {
          "model_module": "@jupyter-widgets/controls",
          "model_name": "FloatProgressModel",
          "model_module_version": "1.5.0",
          "state": {
            "_dom_classes": [],
            "_model_module": "@jupyter-widgets/controls",
            "_model_module_version": "1.5.0",
            "_model_name": "FloatProgressModel",
            "_view_count": null,
            "_view_module": "@jupyter-widgets/controls",
            "_view_module_version": "1.5.0",
            "_view_name": "ProgressView",
            "bar_style": "success",
            "description": "",
            "description_tooltip": null,
            "layout": "IPY_MODEL_127db8eae6704fc2bfd3d9347624b59d",
            "max": 3,
            "min": 0,
            "orientation": "horizontal",
            "style": "IPY_MODEL_805ca8bfbe3e4906a8361103dbd996da",
            "value": 3
          }
        },
        "4247379e2483471784730dbdb3c55e5a": {
          "model_module": "@jupyter-widgets/controls",
          "model_name": "HTMLModel",
          "model_module_version": "1.5.0",
          "state": {
            "_dom_classes": [],
            "_model_module": "@jupyter-widgets/controls",
            "_model_module_version": "1.5.0",
            "_model_name": "HTMLModel",
            "_view_count": null,
            "_view_module": "@jupyter-widgets/controls",
            "_view_module_version": "1.5.0",
            "_view_name": "HTMLView",
            "description": "",
            "description_tooltip": null,
            "layout": "IPY_MODEL_a1d8a8d52ee34ac486c70f3cb1cda58e",
            "placeholder": "​",
            "style": "IPY_MODEL_b5838da1cfcb45298c29619aa468c73a",
            "value": " 3/3 [00:36&lt;00:00, 12.27s/it]"
          }
        },
        "1f138e586acc4d50a5b3a23f3500a838": {
          "model_module": "@jupyter-widgets/base",
          "model_name": "LayoutModel",
          "model_module_version": "1.2.0",
          "state": {
            "_model_module": "@jupyter-widgets/base",
            "_model_module_version": "1.2.0",
            "_model_name": "LayoutModel",
            "_view_count": null,
            "_view_module": "@jupyter-widgets/base",
            "_view_module_version": "1.2.0",
            "_view_name": "LayoutView",
            "align_content": null,
            "align_items": null,
            "align_self": null,
            "border": null,
            "bottom": null,
            "display": null,
            "flex": null,
            "flex_flow": null,
            "grid_area": null,
            "grid_auto_columns": null,
            "grid_auto_flow": null,
            "grid_auto_rows": null,
            "grid_column": null,
            "grid_gap": null,
            "grid_row": null,
            "grid_template_areas": null,
            "grid_template_columns": null,
            "grid_template_rows": null,
            "height": null,
            "justify_content": null,
            "justify_items": null,
            "left": null,
            "margin": null,
            "max_height": null,
            "max_width": null,
            "min_height": null,
            "min_width": null,
            "object_fit": null,
            "object_position": null,
            "order": null,
            "overflow": null,
            "overflow_x": null,
            "overflow_y": null,
            "padding": null,
            "right": null,
            "top": null,
            "visibility": null,
            "width": null
          }
        },
        "30f8d87439dc49d2a474a4ed1240096f": {
          "model_module": "@jupyter-widgets/base",
          "model_name": "LayoutModel",
          "model_module_version": "1.2.0",
          "state": {
            "_model_module": "@jupyter-widgets/base",
            "_model_module_version": "1.2.0",
            "_model_name": "LayoutModel",
            "_view_count": null,
            "_view_module": "@jupyter-widgets/base",
            "_view_module_version": "1.2.0",
            "_view_name": "LayoutView",
            "align_content": null,
            "align_items": null,
            "align_self": null,
            "border": null,
            "bottom": null,
            "display": null,
            "flex": null,
            "flex_flow": null,
            "grid_area": null,
            "grid_auto_columns": null,
            "grid_auto_flow": null,
            "grid_auto_rows": null,
            "grid_column": null,
            "grid_gap": null,
            "grid_row": null,
            "grid_template_areas": null,
            "grid_template_columns": null,
            "grid_template_rows": null,
            "height": null,
            "justify_content": null,
            "justify_items": null,
            "left": null,
            "margin": null,
            "max_height": null,
            "max_width": null,
            "min_height": null,
            "min_width": null,
            "object_fit": null,
            "object_position": null,
            "order": null,
            "overflow": null,
            "overflow_x": null,
            "overflow_y": null,
            "padding": null,
            "right": null,
            "top": null,
            "visibility": null,
            "width": null
          }
        },
        "d20ae3dc7e4e4eefb8345dbb66588ff4": {
          "model_module": "@jupyter-widgets/controls",
          "model_name": "DescriptionStyleModel",
          "model_module_version": "1.5.0",
          "state": {
            "_model_module": "@jupyter-widgets/controls",
            "_model_module_version": "1.5.0",
            "_model_name": "DescriptionStyleModel",
            "_view_count": null,
            "_view_module": "@jupyter-widgets/base",
            "_view_module_version": "1.2.0",
            "_view_name": "StyleView",
            "description_width": ""
          }
        },
        "127db8eae6704fc2bfd3d9347624b59d": {
          "model_module": "@jupyter-widgets/base",
          "model_name": "LayoutModel",
          "model_module_version": "1.2.0",
          "state": {
            "_model_module": "@jupyter-widgets/base",
            "_model_module_version": "1.2.0",
            "_model_name": "LayoutModel",
            "_view_count": null,
            "_view_module": "@jupyter-widgets/base",
            "_view_module_version": "1.2.0",
            "_view_name": "LayoutView",
            "align_content": null,
            "align_items": null,
            "align_self": null,
            "border": null,
            "bottom": null,
            "display": null,
            "flex": null,
            "flex_flow": null,
            "grid_area": null,
            "grid_auto_columns": null,
            "grid_auto_flow": null,
            "grid_auto_rows": null,
            "grid_column": null,
            "grid_gap": null,
            "grid_row": null,
            "grid_template_areas": null,
            "grid_template_columns": null,
            "grid_template_rows": null,
            "height": null,
            "justify_content": null,
            "justify_items": null,
            "left": null,
            "margin": null,
            "max_height": null,
            "max_width": null,
            "min_height": null,
            "min_width": null,
            "object_fit": null,
            "object_position": null,
            "order": null,
            "overflow": null,
            "overflow_x": null,
            "overflow_y": null,
            "padding": null,
            "right": null,
            "top": null,
            "visibility": null,
            "width": null
          }
        },
        "805ca8bfbe3e4906a8361103dbd996da": {
          "model_module": "@jupyter-widgets/controls",
          "model_name": "ProgressStyleModel",
          "model_module_version": "1.5.0",
          "state": {
            "_model_module": "@jupyter-widgets/controls",
            "_model_module_version": "1.5.0",
            "_model_name": "ProgressStyleModel",
            "_view_count": null,
            "_view_module": "@jupyter-widgets/base",
            "_view_module_version": "1.2.0",
            "_view_name": "StyleView",
            "bar_color": null,
            "description_width": ""
          }
        },
        "a1d8a8d52ee34ac486c70f3cb1cda58e": {
          "model_module": "@jupyter-widgets/base",
          "model_name": "LayoutModel",
          "model_module_version": "1.2.0",
          "state": {
            "_model_module": "@jupyter-widgets/base",
            "_model_module_version": "1.2.0",
            "_model_name": "LayoutModel",
            "_view_count": null,
            "_view_module": "@jupyter-widgets/base",
            "_view_module_version": "1.2.0",
            "_view_name": "LayoutView",
            "align_content": null,
            "align_items": null,
            "align_self": null,
            "border": null,
            "bottom": null,
            "display": null,
            "flex": null,
            "flex_flow": null,
            "grid_area": null,
            "grid_auto_columns": null,
            "grid_auto_flow": null,
            "grid_auto_rows": null,
            "grid_column": null,
            "grid_gap": null,
            "grid_row": null,
            "grid_template_areas": null,
            "grid_template_columns": null,
            "grid_template_rows": null,
            "height": null,
            "justify_content": null,
            "justify_items": null,
            "left": null,
            "margin": null,
            "max_height": null,
            "max_width": null,
            "min_height": null,
            "min_width": null,
            "object_fit": null,
            "object_position": null,
            "order": null,
            "overflow": null,
            "overflow_x": null,
            "overflow_y": null,
            "padding": null,
            "right": null,
            "top": null,
            "visibility": null,
            "width": null
          }
        },
        "b5838da1cfcb45298c29619aa468c73a": {
          "model_module": "@jupyter-widgets/controls",
          "model_name": "DescriptionStyleModel",
          "model_module_version": "1.5.0",
          "state": {
            "_model_module": "@jupyter-widgets/controls",
            "_model_module_version": "1.5.0",
            "_model_name": "DescriptionStyleModel",
            "_view_count": null,
            "_view_module": "@jupyter-widgets/base",
            "_view_module_version": "1.2.0",
            "_view_name": "StyleView",
            "description_width": ""
          }
        },
        "23bad4b2c148406c9e543bbc60083adb": {
          "model_module": "@jupyter-widgets/controls",
          "model_name": "HBoxModel",
          "model_module_version": "1.5.0",
          "state": {
            "_dom_classes": [],
            "_model_module": "@jupyter-widgets/controls",
            "_model_module_version": "1.5.0",
            "_model_name": "HBoxModel",
            "_view_count": null,
            "_view_module": "@jupyter-widgets/controls",
            "_view_module_version": "1.5.0",
            "_view_name": "HBoxView",
            "box_style": "",
            "children": [
              "IPY_MODEL_e01d29a1249c4c93906ee18871824580",
              "IPY_MODEL_db281653a6d44101b8c12d4f7f057d01",
              "IPY_MODEL_43250c3a5afd473b9c7713f17dac67d1"
            ],
            "layout": "IPY_MODEL_a50b49e223fd4d518b3b74f3932c78a3"
          }
        },
        "e01d29a1249c4c93906ee18871824580": {
          "model_module": "@jupyter-widgets/controls",
          "model_name": "HTMLModel",
          "model_module_version": "1.5.0",
          "state": {
            "_dom_classes": [],
            "_model_module": "@jupyter-widgets/controls",
            "_model_module_version": "1.5.0",
            "_model_name": "HTMLModel",
            "_view_count": null,
            "_view_module": "@jupyter-widgets/controls",
            "_view_module_version": "1.5.0",
            "_view_name": "HTMLView",
            "description": "",
            "description_tooltip": null,
            "layout": "IPY_MODEL_5ca7a63cb23341b6984013513fd484aa",
            "placeholder": "​",
            "style": "IPY_MODEL_a3c4e728975a452c99ea5ee2f04dec24",
            "value": "100%"
          }
        },
        "db281653a6d44101b8c12d4f7f057d01": {
          "model_module": "@jupyter-widgets/controls",
          "model_name": "FloatProgressModel",
          "model_module_version": "1.5.0",
          "state": {
            "_dom_classes": [],
            "_model_module": "@jupyter-widgets/controls",
            "_model_module_version": "1.5.0",
            "_model_name": "FloatProgressModel",
            "_view_count": null,
            "_view_module": "@jupyter-widgets/controls",
            "_view_module_version": "1.5.0",
            "_view_name": "ProgressView",
            "bar_style": "success",
            "description": "",
            "description_tooltip": null,
            "layout": "IPY_MODEL_b2bd5cb8f51a4800bb90b9a9ba562771",
            "max": 313,
            "min": 0,
            "orientation": "horizontal",
            "style": "IPY_MODEL_726a080efc724478adf49f8f23bfbe89",
            "value": 313
          }
        },
        "43250c3a5afd473b9c7713f17dac67d1": {
          "model_module": "@jupyter-widgets/controls",
          "model_name": "HTMLModel",
          "model_module_version": "1.5.0",
          "state": {
            "_dom_classes": [],
            "_model_module": "@jupyter-widgets/controls",
            "_model_module_version": "1.5.0",
            "_model_name": "HTMLModel",
            "_view_count": null,
            "_view_module": "@jupyter-widgets/controls",
            "_view_module_version": "1.5.0",
            "_view_name": "HTMLView",
            "description": "",
            "description_tooltip": null,
            "layout": "IPY_MODEL_dc719d8a171448ccbf39891a3323fbd0",
            "placeholder": "​",
            "style": "IPY_MODEL_5a00db758755465586a443d667e9562a",
            "value": " 313/313 [00:02&lt;00:00, 142.10it/s]"
          }
        },
        "a50b49e223fd4d518b3b74f3932c78a3": {
          "model_module": "@jupyter-widgets/base",
          "model_name": "LayoutModel",
          "model_module_version": "1.2.0",
          "state": {
            "_model_module": "@jupyter-widgets/base",
            "_model_module_version": "1.2.0",
            "_model_name": "LayoutModel",
            "_view_count": null,
            "_view_module": "@jupyter-widgets/base",
            "_view_module_version": "1.2.0",
            "_view_name": "LayoutView",
            "align_content": null,
            "align_items": null,
            "align_self": null,
            "border": null,
            "bottom": null,
            "display": null,
            "flex": null,
            "flex_flow": null,
            "grid_area": null,
            "grid_auto_columns": null,
            "grid_auto_flow": null,
            "grid_auto_rows": null,
            "grid_column": null,
            "grid_gap": null,
            "grid_row": null,
            "grid_template_areas": null,
            "grid_template_columns": null,
            "grid_template_rows": null,
            "height": null,
            "justify_content": null,
            "justify_items": null,
            "left": null,
            "margin": null,
            "max_height": null,
            "max_width": null,
            "min_height": null,
            "min_width": null,
            "object_fit": null,
            "object_position": null,
            "order": null,
            "overflow": null,
            "overflow_x": null,
            "overflow_y": null,
            "padding": null,
            "right": null,
            "top": null,
            "visibility": null,
            "width": null
          }
        },
        "5ca7a63cb23341b6984013513fd484aa": {
          "model_module": "@jupyter-widgets/base",
          "model_name": "LayoutModel",
          "model_module_version": "1.2.0",
          "state": {
            "_model_module": "@jupyter-widgets/base",
            "_model_module_version": "1.2.0",
            "_model_name": "LayoutModel",
            "_view_count": null,
            "_view_module": "@jupyter-widgets/base",
            "_view_module_version": "1.2.0",
            "_view_name": "LayoutView",
            "align_content": null,
            "align_items": null,
            "align_self": null,
            "border": null,
            "bottom": null,
            "display": null,
            "flex": null,
            "flex_flow": null,
            "grid_area": null,
            "grid_auto_columns": null,
            "grid_auto_flow": null,
            "grid_auto_rows": null,
            "grid_column": null,
            "grid_gap": null,
            "grid_row": null,
            "grid_template_areas": null,
            "grid_template_columns": null,
            "grid_template_rows": null,
            "height": null,
            "justify_content": null,
            "justify_items": null,
            "left": null,
            "margin": null,
            "max_height": null,
            "max_width": null,
            "min_height": null,
            "min_width": null,
            "object_fit": null,
            "object_position": null,
            "order": null,
            "overflow": null,
            "overflow_x": null,
            "overflow_y": null,
            "padding": null,
            "right": null,
            "top": null,
            "visibility": null,
            "width": null
          }
        },
        "a3c4e728975a452c99ea5ee2f04dec24": {
          "model_module": "@jupyter-widgets/controls",
          "model_name": "DescriptionStyleModel",
          "model_module_version": "1.5.0",
          "state": {
            "_model_module": "@jupyter-widgets/controls",
            "_model_module_version": "1.5.0",
            "_model_name": "DescriptionStyleModel",
            "_view_count": null,
            "_view_module": "@jupyter-widgets/base",
            "_view_module_version": "1.2.0",
            "_view_name": "StyleView",
            "description_width": ""
          }
        },
        "b2bd5cb8f51a4800bb90b9a9ba562771": {
          "model_module": "@jupyter-widgets/base",
          "model_name": "LayoutModel",
          "model_module_version": "1.2.0",
          "state": {
            "_model_module": "@jupyter-widgets/base",
            "_model_module_version": "1.2.0",
            "_model_name": "LayoutModel",
            "_view_count": null,
            "_view_module": "@jupyter-widgets/base",
            "_view_module_version": "1.2.0",
            "_view_name": "LayoutView",
            "align_content": null,
            "align_items": null,
            "align_self": null,
            "border": null,
            "bottom": null,
            "display": null,
            "flex": null,
            "flex_flow": null,
            "grid_area": null,
            "grid_auto_columns": null,
            "grid_auto_flow": null,
            "grid_auto_rows": null,
            "grid_column": null,
            "grid_gap": null,
            "grid_row": null,
            "grid_template_areas": null,
            "grid_template_columns": null,
            "grid_template_rows": null,
            "height": null,
            "justify_content": null,
            "justify_items": null,
            "left": null,
            "margin": null,
            "max_height": null,
            "max_width": null,
            "min_height": null,
            "min_width": null,
            "object_fit": null,
            "object_position": null,
            "order": null,
            "overflow": null,
            "overflow_x": null,
            "overflow_y": null,
            "padding": null,
            "right": null,
            "top": null,
            "visibility": null,
            "width": null
          }
        },
        "726a080efc724478adf49f8f23bfbe89": {
          "model_module": "@jupyter-widgets/controls",
          "model_name": "ProgressStyleModel",
          "model_module_version": "1.5.0",
          "state": {
            "_model_module": "@jupyter-widgets/controls",
            "_model_module_version": "1.5.0",
            "_model_name": "ProgressStyleModel",
            "_view_count": null,
            "_view_module": "@jupyter-widgets/base",
            "_view_module_version": "1.2.0",
            "_view_name": "StyleView",
            "bar_color": null,
            "description_width": ""
          }
        },
        "dc719d8a171448ccbf39891a3323fbd0": {
          "model_module": "@jupyter-widgets/base",
          "model_name": "LayoutModel",
          "model_module_version": "1.2.0",
          "state": {
            "_model_module": "@jupyter-widgets/base",
            "_model_module_version": "1.2.0",
            "_model_name": "LayoutModel",
            "_view_count": null,
            "_view_module": "@jupyter-widgets/base",
            "_view_module_version": "1.2.0",
            "_view_name": "LayoutView",
            "align_content": null,
            "align_items": null,
            "align_self": null,
            "border": null,
            "bottom": null,
            "display": null,
            "flex": null,
            "flex_flow": null,
            "grid_area": null,
            "grid_auto_columns": null,
            "grid_auto_flow": null,
            "grid_auto_rows": null,
            "grid_column": null,
            "grid_gap": null,
            "grid_row": null,
            "grid_template_areas": null,
            "grid_template_columns": null,
            "grid_template_rows": null,
            "height": null,
            "justify_content": null,
            "justify_items": null,
            "left": null,
            "margin": null,
            "max_height": null,
            "max_width": null,
            "min_height": null,
            "min_width": null,
            "object_fit": null,
            "object_position": null,
            "order": null,
            "overflow": null,
            "overflow_x": null,
            "overflow_y": null,
            "padding": null,
            "right": null,
            "top": null,
            "visibility": null,
            "width": null
          }
        },
        "5a00db758755465586a443d667e9562a": {
          "model_module": "@jupyter-widgets/controls",
          "model_name": "DescriptionStyleModel",
          "model_module_version": "1.5.0",
          "state": {
            "_model_module": "@jupyter-widgets/controls",
            "_model_module_version": "1.5.0",
            "_model_name": "DescriptionStyleModel",
            "_view_count": null,
            "_view_module": "@jupyter-widgets/base",
            "_view_module_version": "1.2.0",
            "_view_name": "StyleView",
            "description_width": ""
          }
        },
        "26ffd1f3f71346f4a6077d0b4f8fa1c1": {
          "model_module": "@jupyter-widgets/controls",
          "model_name": "HBoxModel",
          "model_module_version": "1.5.0",
          "state": {
            "_dom_classes": [],
            "_model_module": "@jupyter-widgets/controls",
            "_model_module_version": "1.5.0",
            "_model_name": "HBoxModel",
            "_view_count": null,
            "_view_module": "@jupyter-widgets/controls",
            "_view_module_version": "1.5.0",
            "_view_name": "HBoxView",
            "box_style": "",
            "children": [
              "IPY_MODEL_68d63a134e1446f3a19abceecffaa677",
              "IPY_MODEL_9b912bfdb28d400d8c8fbe449701e775",
              "IPY_MODEL_abdb729c44fb44a9aa03ba083f4fea0b"
            ],
            "layout": "IPY_MODEL_fea886cb0f0b4dcab3e8929d662aab8a"
          }
        },
        "68d63a134e1446f3a19abceecffaa677": {
          "model_module": "@jupyter-widgets/controls",
          "model_name": "HTMLModel",
          "model_module_version": "1.5.0",
          "state": {
            "_dom_classes": [],
            "_model_module": "@jupyter-widgets/controls",
            "_model_module_version": "1.5.0",
            "_model_name": "HTMLModel",
            "_view_count": null,
            "_view_module": "@jupyter-widgets/controls",
            "_view_module_version": "1.5.0",
            "_view_name": "HTMLView",
            "description": "",
            "description_tooltip": null,
            "layout": "IPY_MODEL_66818f9dd2bd4e2a997791ab796026c1",
            "placeholder": "​",
            "style": "IPY_MODEL_54566ee07cd444a8b45aaf000ae828db",
            "value": "100%"
          }
        },
        "9b912bfdb28d400d8c8fbe449701e775": {
          "model_module": "@jupyter-widgets/controls",
          "model_name": "FloatProgressModel",
          "model_module_version": "1.5.0",
          "state": {
            "_dom_classes": [],
            "_model_module": "@jupyter-widgets/controls",
            "_model_module_version": "1.5.0",
            "_model_name": "FloatProgressModel",
            "_view_count": null,
            "_view_module": "@jupyter-widgets/controls",
            "_view_module_version": "1.5.0",
            "_view_name": "ProgressView",
            "bar_style": "success",
            "description": "",
            "description_tooltip": null,
            "layout": "IPY_MODEL_47e2e71d19674e6da929cf0d44fc727e",
            "max": 3,
            "min": 0,
            "orientation": "horizontal",
            "style": "IPY_MODEL_9daca57be8c74cb8b0618596e620a8df",
            "value": 3
          }
        },
        "abdb729c44fb44a9aa03ba083f4fea0b": {
          "model_module": "@jupyter-widgets/controls",
          "model_name": "HTMLModel",
          "model_module_version": "1.5.0",
          "state": {
            "_dom_classes": [],
            "_model_module": "@jupyter-widgets/controls",
            "_model_module_version": "1.5.0",
            "_model_name": "HTMLModel",
            "_view_count": null,
            "_view_module": "@jupyter-widgets/controls",
            "_view_module_version": "1.5.0",
            "_view_name": "HTMLView",
            "description": "",
            "description_tooltip": null,
            "layout": "IPY_MODEL_b034967941b749bb93a1fc634296a54b",
            "placeholder": "​",
            "style": "IPY_MODEL_aef1a233180c459698988f5d1bdae038",
            "value": " 3/3 [03:00&lt;00:00, 60.13s/it]"
          }
        },
        "fea886cb0f0b4dcab3e8929d662aab8a": {
          "model_module": "@jupyter-widgets/base",
          "model_name": "LayoutModel",
          "model_module_version": "1.2.0",
          "state": {
            "_model_module": "@jupyter-widgets/base",
            "_model_module_version": "1.2.0",
            "_model_name": "LayoutModel",
            "_view_count": null,
            "_view_module": "@jupyter-widgets/base",
            "_view_module_version": "1.2.0",
            "_view_name": "LayoutView",
            "align_content": null,
            "align_items": null,
            "align_self": null,
            "border": null,
            "bottom": null,
            "display": null,
            "flex": null,
            "flex_flow": null,
            "grid_area": null,
            "grid_auto_columns": null,
            "grid_auto_flow": null,
            "grid_auto_rows": null,
            "grid_column": null,
            "grid_gap": null,
            "grid_row": null,
            "grid_template_areas": null,
            "grid_template_columns": null,
            "grid_template_rows": null,
            "height": null,
            "justify_content": null,
            "justify_items": null,
            "left": null,
            "margin": null,
            "max_height": null,
            "max_width": null,
            "min_height": null,
            "min_width": null,
            "object_fit": null,
            "object_position": null,
            "order": null,
            "overflow": null,
            "overflow_x": null,
            "overflow_y": null,
            "padding": null,
            "right": null,
            "top": null,
            "visibility": null,
            "width": null
          }
        },
        "66818f9dd2bd4e2a997791ab796026c1": {
          "model_module": "@jupyter-widgets/base",
          "model_name": "LayoutModel",
          "model_module_version": "1.2.0",
          "state": {
            "_model_module": "@jupyter-widgets/base",
            "_model_module_version": "1.2.0",
            "_model_name": "LayoutModel",
            "_view_count": null,
            "_view_module": "@jupyter-widgets/base",
            "_view_module_version": "1.2.0",
            "_view_name": "LayoutView",
            "align_content": null,
            "align_items": null,
            "align_self": null,
            "border": null,
            "bottom": null,
            "display": null,
            "flex": null,
            "flex_flow": null,
            "grid_area": null,
            "grid_auto_columns": null,
            "grid_auto_flow": null,
            "grid_auto_rows": null,
            "grid_column": null,
            "grid_gap": null,
            "grid_row": null,
            "grid_template_areas": null,
            "grid_template_columns": null,
            "grid_template_rows": null,
            "height": null,
            "justify_content": null,
            "justify_items": null,
            "left": null,
            "margin": null,
            "max_height": null,
            "max_width": null,
            "min_height": null,
            "min_width": null,
            "object_fit": null,
            "object_position": null,
            "order": null,
            "overflow": null,
            "overflow_x": null,
            "overflow_y": null,
            "padding": null,
            "right": null,
            "top": null,
            "visibility": null,
            "width": null
          }
        },
        "54566ee07cd444a8b45aaf000ae828db": {
          "model_module": "@jupyter-widgets/controls",
          "model_name": "DescriptionStyleModel",
          "model_module_version": "1.5.0",
          "state": {
            "_model_module": "@jupyter-widgets/controls",
            "_model_module_version": "1.5.0",
            "_model_name": "DescriptionStyleModel",
            "_view_count": null,
            "_view_module": "@jupyter-widgets/base",
            "_view_module_version": "1.2.0",
            "_view_name": "StyleView",
            "description_width": ""
          }
        },
        "47e2e71d19674e6da929cf0d44fc727e": {
          "model_module": "@jupyter-widgets/base",
          "model_name": "LayoutModel",
          "model_module_version": "1.2.0",
          "state": {
            "_model_module": "@jupyter-widgets/base",
            "_model_module_version": "1.2.0",
            "_model_name": "LayoutModel",
            "_view_count": null,
            "_view_module": "@jupyter-widgets/base",
            "_view_module_version": "1.2.0",
            "_view_name": "LayoutView",
            "align_content": null,
            "align_items": null,
            "align_self": null,
            "border": null,
            "bottom": null,
            "display": null,
            "flex": null,
            "flex_flow": null,
            "grid_area": null,
            "grid_auto_columns": null,
            "grid_auto_flow": null,
            "grid_auto_rows": null,
            "grid_column": null,
            "grid_gap": null,
            "grid_row": null,
            "grid_template_areas": null,
            "grid_template_columns": null,
            "grid_template_rows": null,
            "height": null,
            "justify_content": null,
            "justify_items": null,
            "left": null,
            "margin": null,
            "max_height": null,
            "max_width": null,
            "min_height": null,
            "min_width": null,
            "object_fit": null,
            "object_position": null,
            "order": null,
            "overflow": null,
            "overflow_x": null,
            "overflow_y": null,
            "padding": null,
            "right": null,
            "top": null,
            "visibility": null,
            "width": null
          }
        },
        "9daca57be8c74cb8b0618596e620a8df": {
          "model_module": "@jupyter-widgets/controls",
          "model_name": "ProgressStyleModel",
          "model_module_version": "1.5.0",
          "state": {
            "_model_module": "@jupyter-widgets/controls",
            "_model_module_version": "1.5.0",
            "_model_name": "ProgressStyleModel",
            "_view_count": null,
            "_view_module": "@jupyter-widgets/base",
            "_view_module_version": "1.2.0",
            "_view_name": "StyleView",
            "bar_color": null,
            "description_width": ""
          }
        },
        "b034967941b749bb93a1fc634296a54b": {
          "model_module": "@jupyter-widgets/base",
          "model_name": "LayoutModel",
          "model_module_version": "1.2.0",
          "state": {
            "_model_module": "@jupyter-widgets/base",
            "_model_module_version": "1.2.0",
            "_model_name": "LayoutModel",
            "_view_count": null,
            "_view_module": "@jupyter-widgets/base",
            "_view_module_version": "1.2.0",
            "_view_name": "LayoutView",
            "align_content": null,
            "align_items": null,
            "align_self": null,
            "border": null,
            "bottom": null,
            "display": null,
            "flex": null,
            "flex_flow": null,
            "grid_area": null,
            "grid_auto_columns": null,
            "grid_auto_flow": null,
            "grid_auto_rows": null,
            "grid_column": null,
            "grid_gap": null,
            "grid_row": null,
            "grid_template_areas": null,
            "grid_template_columns": null,
            "grid_template_rows": null,
            "height": null,
            "justify_content": null,
            "justify_items": null,
            "left": null,
            "margin": null,
            "max_height": null,
            "max_width": null,
            "min_height": null,
            "min_width": null,
            "object_fit": null,
            "object_position": null,
            "order": null,
            "overflow": null,
            "overflow_x": null,
            "overflow_y": null,
            "padding": null,
            "right": null,
            "top": null,
            "visibility": null,
            "width": null
          }
        },
        "aef1a233180c459698988f5d1bdae038": {
          "model_module": "@jupyter-widgets/controls",
          "model_name": "DescriptionStyleModel",
          "model_module_version": "1.5.0",
          "state": {
            "_model_module": "@jupyter-widgets/controls",
            "_model_module_version": "1.5.0",
            "_model_name": "DescriptionStyleModel",
            "_view_count": null,
            "_view_module": "@jupyter-widgets/base",
            "_view_module_version": "1.2.0",
            "_view_name": "StyleView",
            "description_width": ""
          }
        },
        "86da4ddb9d234110b469785b36bd5188": {
          "model_module": "@jupyter-widgets/controls",
          "model_name": "HBoxModel",
          "model_module_version": "1.5.0",
          "state": {
            "_dom_classes": [],
            "_model_module": "@jupyter-widgets/controls",
            "_model_module_version": "1.5.0",
            "_model_name": "HBoxModel",
            "_view_count": null,
            "_view_module": "@jupyter-widgets/controls",
            "_view_module_version": "1.5.0",
            "_view_name": "HBoxView",
            "box_style": "",
            "children": [
              "IPY_MODEL_1117bc7e6e8f4bae94462e05b2bb9a09",
              "IPY_MODEL_f94c5e48ad8d4dff882547c44d578dbd",
              "IPY_MODEL_ff02b07fae94404faeade51e78c820b6"
            ],
            "layout": "IPY_MODEL_cd76cfdcd9f54f1ebabf325da5eee5b8"
          }
        },
        "1117bc7e6e8f4bae94462e05b2bb9a09": {
          "model_module": "@jupyter-widgets/controls",
          "model_name": "HTMLModel",
          "model_module_version": "1.5.0",
          "state": {
            "_dom_classes": [],
            "_model_module": "@jupyter-widgets/controls",
            "_model_module_version": "1.5.0",
            "_model_name": "HTMLModel",
            "_view_count": null,
            "_view_module": "@jupyter-widgets/controls",
            "_view_module_version": "1.5.0",
            "_view_name": "HTMLView",
            "description": "",
            "description_tooltip": null,
            "layout": "IPY_MODEL_016345ae49864f76abf3337ff13f7e5b",
            "placeholder": "​",
            "style": "IPY_MODEL_b31bb47144094e38ba9be7a7ac43c72e",
            "value": "100%"
          }
        },
        "f94c5e48ad8d4dff882547c44d578dbd": {
          "model_module": "@jupyter-widgets/controls",
          "model_name": "FloatProgressModel",
          "model_module_version": "1.5.0",
          "state": {
            "_dom_classes": [],
            "_model_module": "@jupyter-widgets/controls",
            "_model_module_version": "1.5.0",
            "_model_name": "FloatProgressModel",
            "_view_count": null,
            "_view_module": "@jupyter-widgets/controls",
            "_view_module_version": "1.5.0",
            "_view_name": "ProgressView",
            "bar_style": "success",
            "description": "",
            "description_tooltip": null,
            "layout": "IPY_MODEL_4bcb5bf6b8a6485383850730a9c34976",
            "max": 313,
            "min": 0,
            "orientation": "horizontal",
            "style": "IPY_MODEL_966cc07e8c084b28bab292c3d47924df",
            "value": 313
          }
        },
        "ff02b07fae94404faeade51e78c820b6": {
          "model_module": "@jupyter-widgets/controls",
          "model_name": "HTMLModel",
          "model_module_version": "1.5.0",
          "state": {
            "_dom_classes": [],
            "_model_module": "@jupyter-widgets/controls",
            "_model_module_version": "1.5.0",
            "_model_name": "HTMLModel",
            "_view_count": null,
            "_view_module": "@jupyter-widgets/controls",
            "_view_module_version": "1.5.0",
            "_view_name": "HTMLView",
            "description": "",
            "description_tooltip": null,
            "layout": "IPY_MODEL_d8065463c8754ed4b6c47ae354f1b908",
            "placeholder": "​",
            "style": "IPY_MODEL_ab8f614fcd4349ff9f72777df769b60a",
            "value": " 313/313 [00:05&lt;00:00, 59.47it/s]"
          }
        },
        "cd76cfdcd9f54f1ebabf325da5eee5b8": {
          "model_module": "@jupyter-widgets/base",
          "model_name": "LayoutModel",
          "model_module_version": "1.2.0",
          "state": {
            "_model_module": "@jupyter-widgets/base",
            "_model_module_version": "1.2.0",
            "_model_name": "LayoutModel",
            "_view_count": null,
            "_view_module": "@jupyter-widgets/base",
            "_view_module_version": "1.2.0",
            "_view_name": "LayoutView",
            "align_content": null,
            "align_items": null,
            "align_self": null,
            "border": null,
            "bottom": null,
            "display": null,
            "flex": null,
            "flex_flow": null,
            "grid_area": null,
            "grid_auto_columns": null,
            "grid_auto_flow": null,
            "grid_auto_rows": null,
            "grid_column": null,
            "grid_gap": null,
            "grid_row": null,
            "grid_template_areas": null,
            "grid_template_columns": null,
            "grid_template_rows": null,
            "height": null,
            "justify_content": null,
            "justify_items": null,
            "left": null,
            "margin": null,
            "max_height": null,
            "max_width": null,
            "min_height": null,
            "min_width": null,
            "object_fit": null,
            "object_position": null,
            "order": null,
            "overflow": null,
            "overflow_x": null,
            "overflow_y": null,
            "padding": null,
            "right": null,
            "top": null,
            "visibility": null,
            "width": null
          }
        },
        "016345ae49864f76abf3337ff13f7e5b": {
          "model_module": "@jupyter-widgets/base",
          "model_name": "LayoutModel",
          "model_module_version": "1.2.0",
          "state": {
            "_model_module": "@jupyter-widgets/base",
            "_model_module_version": "1.2.0",
            "_model_name": "LayoutModel",
            "_view_count": null,
            "_view_module": "@jupyter-widgets/base",
            "_view_module_version": "1.2.0",
            "_view_name": "LayoutView",
            "align_content": null,
            "align_items": null,
            "align_self": null,
            "border": null,
            "bottom": null,
            "display": null,
            "flex": null,
            "flex_flow": null,
            "grid_area": null,
            "grid_auto_columns": null,
            "grid_auto_flow": null,
            "grid_auto_rows": null,
            "grid_column": null,
            "grid_gap": null,
            "grid_row": null,
            "grid_template_areas": null,
            "grid_template_columns": null,
            "grid_template_rows": null,
            "height": null,
            "justify_content": null,
            "justify_items": null,
            "left": null,
            "margin": null,
            "max_height": null,
            "max_width": null,
            "min_height": null,
            "min_width": null,
            "object_fit": null,
            "object_position": null,
            "order": null,
            "overflow": null,
            "overflow_x": null,
            "overflow_y": null,
            "padding": null,
            "right": null,
            "top": null,
            "visibility": null,
            "width": null
          }
        },
        "b31bb47144094e38ba9be7a7ac43c72e": {
          "model_module": "@jupyter-widgets/controls",
          "model_name": "DescriptionStyleModel",
          "model_module_version": "1.5.0",
          "state": {
            "_model_module": "@jupyter-widgets/controls",
            "_model_module_version": "1.5.0",
            "_model_name": "DescriptionStyleModel",
            "_view_count": null,
            "_view_module": "@jupyter-widgets/base",
            "_view_module_version": "1.2.0",
            "_view_name": "StyleView",
            "description_width": ""
          }
        },
        "4bcb5bf6b8a6485383850730a9c34976": {
          "model_module": "@jupyter-widgets/base",
          "model_name": "LayoutModel",
          "model_module_version": "1.2.0",
          "state": {
            "_model_module": "@jupyter-widgets/base",
            "_model_module_version": "1.2.0",
            "_model_name": "LayoutModel",
            "_view_count": null,
            "_view_module": "@jupyter-widgets/base",
            "_view_module_version": "1.2.0",
            "_view_name": "LayoutView",
            "align_content": null,
            "align_items": null,
            "align_self": null,
            "border": null,
            "bottom": null,
            "display": null,
            "flex": null,
            "flex_flow": null,
            "grid_area": null,
            "grid_auto_columns": null,
            "grid_auto_flow": null,
            "grid_auto_rows": null,
            "grid_column": null,
            "grid_gap": null,
            "grid_row": null,
            "grid_template_areas": null,
            "grid_template_columns": null,
            "grid_template_rows": null,
            "height": null,
            "justify_content": null,
            "justify_items": null,
            "left": null,
            "margin": null,
            "max_height": null,
            "max_width": null,
            "min_height": null,
            "min_width": null,
            "object_fit": null,
            "object_position": null,
            "order": null,
            "overflow": null,
            "overflow_x": null,
            "overflow_y": null,
            "padding": null,
            "right": null,
            "top": null,
            "visibility": null,
            "width": null
          }
        },
        "966cc07e8c084b28bab292c3d47924df": {
          "model_module": "@jupyter-widgets/controls",
          "model_name": "ProgressStyleModel",
          "model_module_version": "1.5.0",
          "state": {
            "_model_module": "@jupyter-widgets/controls",
            "_model_module_version": "1.5.0",
            "_model_name": "ProgressStyleModel",
            "_view_count": null,
            "_view_module": "@jupyter-widgets/base",
            "_view_module_version": "1.2.0",
            "_view_name": "StyleView",
            "bar_color": null,
            "description_width": ""
          }
        },
        "d8065463c8754ed4b6c47ae354f1b908": {
          "model_module": "@jupyter-widgets/base",
          "model_name": "LayoutModel",
          "model_module_version": "1.2.0",
          "state": {
            "_model_module": "@jupyter-widgets/base",
            "_model_module_version": "1.2.0",
            "_model_name": "LayoutModel",
            "_view_count": null,
            "_view_module": "@jupyter-widgets/base",
            "_view_module_version": "1.2.0",
            "_view_name": "LayoutView",
            "align_content": null,
            "align_items": null,
            "align_self": null,
            "border": null,
            "bottom": null,
            "display": null,
            "flex": null,
            "flex_flow": null,
            "grid_area": null,
            "grid_auto_columns": null,
            "grid_auto_flow": null,
            "grid_auto_rows": null,
            "grid_column": null,
            "grid_gap": null,
            "grid_row": null,
            "grid_template_areas": null,
            "grid_template_columns": null,
            "grid_template_rows": null,
            "height": null,
            "justify_content": null,
            "justify_items": null,
            "left": null,
            "margin": null,
            "max_height": null,
            "max_width": null,
            "min_height": null,
            "min_width": null,
            "object_fit": null,
            "object_position": null,
            "order": null,
            "overflow": null,
            "overflow_x": null,
            "overflow_y": null,
            "padding": null,
            "right": null,
            "top": null,
            "visibility": null,
            "width": null
          }
        },
        "ab8f614fcd4349ff9f72777df769b60a": {
          "model_module": "@jupyter-widgets/controls",
          "model_name": "DescriptionStyleModel",
          "model_module_version": "1.5.0",
          "state": {
            "_model_module": "@jupyter-widgets/controls",
            "_model_module_version": "1.5.0",
            "_model_name": "DescriptionStyleModel",
            "_view_count": null,
            "_view_module": "@jupyter-widgets/base",
            "_view_module_version": "1.2.0",
            "_view_name": "StyleView",
            "description_width": ""
          }
        },
        "5294c97c600545d6a2f0db9999447017": {
          "model_module": "@jupyter-widgets/controls",
          "model_name": "HBoxModel",
          "model_module_version": "1.5.0",
          "state": {
            "_dom_classes": [],
            "_model_module": "@jupyter-widgets/controls",
            "_model_module_version": "1.5.0",
            "_model_name": "HBoxModel",
            "_view_count": null,
            "_view_module": "@jupyter-widgets/controls",
            "_view_module_version": "1.5.0",
            "_view_name": "HBoxView",
            "box_style": "",
            "children": [
              "IPY_MODEL_5b159aa495c241b48a5891228d1c21d7",
              "IPY_MODEL_5b23f2072a10474ab1ac5af851ea05a1",
              "IPY_MODEL_997b34aa732b40dbac37ef5d559cc77c"
            ],
            "layout": "IPY_MODEL_e46a119734c742a0a012e956ff6d4ade"
          }
        },
        "5b159aa495c241b48a5891228d1c21d7": {
          "model_module": "@jupyter-widgets/controls",
          "model_name": "HTMLModel",
          "model_module_version": "1.5.0",
          "state": {
            "_dom_classes": [],
            "_model_module": "@jupyter-widgets/controls",
            "_model_module_version": "1.5.0",
            "_model_name": "HTMLModel",
            "_view_count": null,
            "_view_module": "@jupyter-widgets/controls",
            "_view_module_version": "1.5.0",
            "_view_name": "HTMLView",
            "description": "",
            "description_tooltip": null,
            "layout": "IPY_MODEL_1beb7cf278694955b8eff5068ffcc86f",
            "placeholder": "​",
            "style": "IPY_MODEL_f8a08093e4d14e6193091b5572d1bec5",
            "value": "Making Predictions..: 100%"
          }
        },
        "5b23f2072a10474ab1ac5af851ea05a1": {
          "model_module": "@jupyter-widgets/controls",
          "model_name": "FloatProgressModel",
          "model_module_version": "1.5.0",
          "state": {
            "_dom_classes": [],
            "_model_module": "@jupyter-widgets/controls",
            "_model_module_version": "1.5.0",
            "_model_name": "FloatProgressModel",
            "_view_count": null,
            "_view_module": "@jupyter-widgets/controls",
            "_view_module_version": "1.5.0",
            "_view_name": "ProgressView",
            "bar_style": "success",
            "description": "",
            "description_tooltip": null,
            "layout": "IPY_MODEL_69c76a39a06f4e7eb4b679199b611f59",
            "max": 313,
            "min": 0,
            "orientation": "horizontal",
            "style": "IPY_MODEL_10f2cee107ae4ee5b52031423c1c0a49",
            "value": 313
          }
        },
        "997b34aa732b40dbac37ef5d559cc77c": {
          "model_module": "@jupyter-widgets/controls",
          "model_name": "HTMLModel",
          "model_module_version": "1.5.0",
          "state": {
            "_dom_classes": [],
            "_model_module": "@jupyter-widgets/controls",
            "_model_module_version": "1.5.0",
            "_model_name": "HTMLModel",
            "_view_count": null,
            "_view_module": "@jupyter-widgets/controls",
            "_view_module_version": "1.5.0",
            "_view_name": "HTMLView",
            "description": "",
            "description_tooltip": null,
            "layout": "IPY_MODEL_bf86ccd44a4b42ffa1b19a607469d52b",
            "placeholder": "​",
            "style": "IPY_MODEL_4ddc118c47a5455a8c698c8dda1964af",
            "value": " 313/313 [00:06&lt;00:00, 68.13it/s]"
          }
        },
        "e46a119734c742a0a012e956ff6d4ade": {
          "model_module": "@jupyter-widgets/base",
          "model_name": "LayoutModel",
          "model_module_version": "1.2.0",
          "state": {
            "_model_module": "@jupyter-widgets/base",
            "_model_module_version": "1.2.0",
            "_model_name": "LayoutModel",
            "_view_count": null,
            "_view_module": "@jupyter-widgets/base",
            "_view_module_version": "1.2.0",
            "_view_name": "LayoutView",
            "align_content": null,
            "align_items": null,
            "align_self": null,
            "border": null,
            "bottom": null,
            "display": null,
            "flex": null,
            "flex_flow": null,
            "grid_area": null,
            "grid_auto_columns": null,
            "grid_auto_flow": null,
            "grid_auto_rows": null,
            "grid_column": null,
            "grid_gap": null,
            "grid_row": null,
            "grid_template_areas": null,
            "grid_template_columns": null,
            "grid_template_rows": null,
            "height": null,
            "justify_content": null,
            "justify_items": null,
            "left": null,
            "margin": null,
            "max_height": null,
            "max_width": null,
            "min_height": null,
            "min_width": null,
            "object_fit": null,
            "object_position": null,
            "order": null,
            "overflow": null,
            "overflow_x": null,
            "overflow_y": null,
            "padding": null,
            "right": null,
            "top": null,
            "visibility": null,
            "width": null
          }
        },
        "1beb7cf278694955b8eff5068ffcc86f": {
          "model_module": "@jupyter-widgets/base",
          "model_name": "LayoutModel",
          "model_module_version": "1.2.0",
          "state": {
            "_model_module": "@jupyter-widgets/base",
            "_model_module_version": "1.2.0",
            "_model_name": "LayoutModel",
            "_view_count": null,
            "_view_module": "@jupyter-widgets/base",
            "_view_module_version": "1.2.0",
            "_view_name": "LayoutView",
            "align_content": null,
            "align_items": null,
            "align_self": null,
            "border": null,
            "bottom": null,
            "display": null,
            "flex": null,
            "flex_flow": null,
            "grid_area": null,
            "grid_auto_columns": null,
            "grid_auto_flow": null,
            "grid_auto_rows": null,
            "grid_column": null,
            "grid_gap": null,
            "grid_row": null,
            "grid_template_areas": null,
            "grid_template_columns": null,
            "grid_template_rows": null,
            "height": null,
            "justify_content": null,
            "justify_items": null,
            "left": null,
            "margin": null,
            "max_height": null,
            "max_width": null,
            "min_height": null,
            "min_width": null,
            "object_fit": null,
            "object_position": null,
            "order": null,
            "overflow": null,
            "overflow_x": null,
            "overflow_y": null,
            "padding": null,
            "right": null,
            "top": null,
            "visibility": null,
            "width": null
          }
        },
        "f8a08093e4d14e6193091b5572d1bec5": {
          "model_module": "@jupyter-widgets/controls",
          "model_name": "DescriptionStyleModel",
          "model_module_version": "1.5.0",
          "state": {
            "_model_module": "@jupyter-widgets/controls",
            "_model_module_version": "1.5.0",
            "_model_name": "DescriptionStyleModel",
            "_view_count": null,
            "_view_module": "@jupyter-widgets/base",
            "_view_module_version": "1.2.0",
            "_view_name": "StyleView",
            "description_width": ""
          }
        },
        "69c76a39a06f4e7eb4b679199b611f59": {
          "model_module": "@jupyter-widgets/base",
          "model_name": "LayoutModel",
          "model_module_version": "1.2.0",
          "state": {
            "_model_module": "@jupyter-widgets/base",
            "_model_module_version": "1.2.0",
            "_model_name": "LayoutModel",
            "_view_count": null,
            "_view_module": "@jupyter-widgets/base",
            "_view_module_version": "1.2.0",
            "_view_name": "LayoutView",
            "align_content": null,
            "align_items": null,
            "align_self": null,
            "border": null,
            "bottom": null,
            "display": null,
            "flex": null,
            "flex_flow": null,
            "grid_area": null,
            "grid_auto_columns": null,
            "grid_auto_flow": null,
            "grid_auto_rows": null,
            "grid_column": null,
            "grid_gap": null,
            "grid_row": null,
            "grid_template_areas": null,
            "grid_template_columns": null,
            "grid_template_rows": null,
            "height": null,
            "justify_content": null,
            "justify_items": null,
            "left": null,
            "margin": null,
            "max_height": null,
            "max_width": null,
            "min_height": null,
            "min_width": null,
            "object_fit": null,
            "object_position": null,
            "order": null,
            "overflow": null,
            "overflow_x": null,
            "overflow_y": null,
            "padding": null,
            "right": null,
            "top": null,
            "visibility": null,
            "width": null
          }
        },
        "10f2cee107ae4ee5b52031423c1c0a49": {
          "model_module": "@jupyter-widgets/controls",
          "model_name": "ProgressStyleModel",
          "model_module_version": "1.5.0",
          "state": {
            "_model_module": "@jupyter-widgets/controls",
            "_model_module_version": "1.5.0",
            "_model_name": "ProgressStyleModel",
            "_view_count": null,
            "_view_module": "@jupyter-widgets/base",
            "_view_module_version": "1.2.0",
            "_view_name": "StyleView",
            "bar_color": null,
            "description_width": ""
          }
        },
        "bf86ccd44a4b42ffa1b19a607469d52b": {
          "model_module": "@jupyter-widgets/base",
          "model_name": "LayoutModel",
          "model_module_version": "1.2.0",
          "state": {
            "_model_module": "@jupyter-widgets/base",
            "_model_module_version": "1.2.0",
            "_model_name": "LayoutModel",
            "_view_count": null,
            "_view_module": "@jupyter-widgets/base",
            "_view_module_version": "1.2.0",
            "_view_name": "LayoutView",
            "align_content": null,
            "align_items": null,
            "align_self": null,
            "border": null,
            "bottom": null,
            "display": null,
            "flex": null,
            "flex_flow": null,
            "grid_area": null,
            "grid_auto_columns": null,
            "grid_auto_flow": null,
            "grid_auto_rows": null,
            "grid_column": null,
            "grid_gap": null,
            "grid_row": null,
            "grid_template_areas": null,
            "grid_template_columns": null,
            "grid_template_rows": null,
            "height": null,
            "justify_content": null,
            "justify_items": null,
            "left": null,
            "margin": null,
            "max_height": null,
            "max_width": null,
            "min_height": null,
            "min_width": null,
            "object_fit": null,
            "object_position": null,
            "order": null,
            "overflow": null,
            "overflow_x": null,
            "overflow_y": null,
            "padding": null,
            "right": null,
            "top": null,
            "visibility": null,
            "width": null
          }
        },
        "4ddc118c47a5455a8c698c8dda1964af": {
          "model_module": "@jupyter-widgets/controls",
          "model_name": "DescriptionStyleModel",
          "model_module_version": "1.5.0",
          "state": {
            "_model_module": "@jupyter-widgets/controls",
            "_model_module_version": "1.5.0",
            "_model_name": "DescriptionStyleModel",
            "_view_count": null,
            "_view_module": "@jupyter-widgets/base",
            "_view_module_version": "1.2.0",
            "_view_name": "StyleView",
            "description_width": ""
          }
        },
        "968b62ba0f4f4946825464b6ae8c3a7d": {
          "model_module": "@jupyter-widgets/controls",
          "model_name": "HBoxModel",
          "model_module_version": "1.5.0",
          "state": {
            "_dom_classes": [],
            "_model_module": "@jupyter-widgets/controls",
            "_model_module_version": "1.5.0",
            "_model_name": "HBoxModel",
            "_view_count": null,
            "_view_module": "@jupyter-widgets/controls",
            "_view_module_version": "1.5.0",
            "_view_name": "HBoxView",
            "box_style": "",
            "children": [
              "IPY_MODEL_58c12899c90c43a9bde331001f1762a1",
              "IPY_MODEL_e524678fb7d8469780909ec570ff7848",
              "IPY_MODEL_7cb1e15165624ba493768d12fd36c1a9"
            ],
            "layout": "IPY_MODEL_81dbfafa02254000ae582f894301050f"
          }
        },
        "58c12899c90c43a9bde331001f1762a1": {
          "model_module": "@jupyter-widgets/controls",
          "model_name": "HTMLModel",
          "model_module_version": "1.5.0",
          "state": {
            "_dom_classes": [],
            "_model_module": "@jupyter-widgets/controls",
            "_model_module_version": "1.5.0",
            "_model_name": "HTMLModel",
            "_view_count": null,
            "_view_module": "@jupyter-widgets/controls",
            "_view_module_version": "1.5.0",
            "_view_name": "HTMLView",
            "description": "",
            "description_tooltip": null,
            "layout": "IPY_MODEL_df9aae2cf47f487289c06d072be02b64",
            "placeholder": "​",
            "style": "IPY_MODEL_bf822300f8d840bd8da86ef254bdc988",
            "value": "100%"
          }
        },
        "e524678fb7d8469780909ec570ff7848": {
          "model_module": "@jupyter-widgets/controls",
          "model_name": "FloatProgressModel",
          "model_module_version": "1.5.0",
          "state": {
            "_dom_classes": [],
            "_model_module": "@jupyter-widgets/controls",
            "_model_module_version": "1.5.0",
            "_model_name": "FloatProgressModel",
            "_view_count": null,
            "_view_module": "@jupyter-widgets/controls",
            "_view_module_version": "1.5.0",
            "_view_name": "ProgressView",
            "bar_style": "success",
            "description": "",
            "description_tooltip": null,
            "layout": "IPY_MODEL_0850a8ac784c4c60b59c93afcabf8b6a",
            "max": 313,
            "min": 0,
            "orientation": "horizontal",
            "style": "IPY_MODEL_bfc000f6cb4942308bfc65239772357d",
            "value": 313
          }
        },
        "7cb1e15165624ba493768d12fd36c1a9": {
          "model_module": "@jupyter-widgets/controls",
          "model_name": "HTMLModel",
          "model_module_version": "1.5.0",
          "state": {
            "_dom_classes": [],
            "_model_module": "@jupyter-widgets/controls",
            "_model_module_version": "1.5.0",
            "_model_name": "HTMLModel",
            "_view_count": null,
            "_view_module": "@jupyter-widgets/controls",
            "_view_module_version": "1.5.0",
            "_view_name": "HTMLView",
            "description": "",
            "description_tooltip": null,
            "layout": "IPY_MODEL_728c2864cd284e1b8e94a32fa421429b",
            "placeholder": "​",
            "style": "IPY_MODEL_f3744d90c04a4caf965e558bed404fcb",
            "value": " 313/313 [00:08&lt;00:00, 57.85it/s]"
          }
        },
        "81dbfafa02254000ae582f894301050f": {
          "model_module": "@jupyter-widgets/base",
          "model_name": "LayoutModel",
          "model_module_version": "1.2.0",
          "state": {
            "_model_module": "@jupyter-widgets/base",
            "_model_module_version": "1.2.0",
            "_model_name": "LayoutModel",
            "_view_count": null,
            "_view_module": "@jupyter-widgets/base",
            "_view_module_version": "1.2.0",
            "_view_name": "LayoutView",
            "align_content": null,
            "align_items": null,
            "align_self": null,
            "border": null,
            "bottom": null,
            "display": null,
            "flex": null,
            "flex_flow": null,
            "grid_area": null,
            "grid_auto_columns": null,
            "grid_auto_flow": null,
            "grid_auto_rows": null,
            "grid_column": null,
            "grid_gap": null,
            "grid_row": null,
            "grid_template_areas": null,
            "grid_template_columns": null,
            "grid_template_rows": null,
            "height": null,
            "justify_content": null,
            "justify_items": null,
            "left": null,
            "margin": null,
            "max_height": null,
            "max_width": null,
            "min_height": null,
            "min_width": null,
            "object_fit": null,
            "object_position": null,
            "order": null,
            "overflow": null,
            "overflow_x": null,
            "overflow_y": null,
            "padding": null,
            "right": null,
            "top": null,
            "visibility": null,
            "width": null
          }
        },
        "df9aae2cf47f487289c06d072be02b64": {
          "model_module": "@jupyter-widgets/base",
          "model_name": "LayoutModel",
          "model_module_version": "1.2.0",
          "state": {
            "_model_module": "@jupyter-widgets/base",
            "_model_module_version": "1.2.0",
            "_model_name": "LayoutModel",
            "_view_count": null,
            "_view_module": "@jupyter-widgets/base",
            "_view_module_version": "1.2.0",
            "_view_name": "LayoutView",
            "align_content": null,
            "align_items": null,
            "align_self": null,
            "border": null,
            "bottom": null,
            "display": null,
            "flex": null,
            "flex_flow": null,
            "grid_area": null,
            "grid_auto_columns": null,
            "grid_auto_flow": null,
            "grid_auto_rows": null,
            "grid_column": null,
            "grid_gap": null,
            "grid_row": null,
            "grid_template_areas": null,
            "grid_template_columns": null,
            "grid_template_rows": null,
            "height": null,
            "justify_content": null,
            "justify_items": null,
            "left": null,
            "margin": null,
            "max_height": null,
            "max_width": null,
            "min_height": null,
            "min_width": null,
            "object_fit": null,
            "object_position": null,
            "order": null,
            "overflow": null,
            "overflow_x": null,
            "overflow_y": null,
            "padding": null,
            "right": null,
            "top": null,
            "visibility": null,
            "width": null
          }
        },
        "bf822300f8d840bd8da86ef254bdc988": {
          "model_module": "@jupyter-widgets/controls",
          "model_name": "DescriptionStyleModel",
          "model_module_version": "1.5.0",
          "state": {
            "_model_module": "@jupyter-widgets/controls",
            "_model_module_version": "1.5.0",
            "_model_name": "DescriptionStyleModel",
            "_view_count": null,
            "_view_module": "@jupyter-widgets/base",
            "_view_module_version": "1.2.0",
            "_view_name": "StyleView",
            "description_width": ""
          }
        },
        "0850a8ac784c4c60b59c93afcabf8b6a": {
          "model_module": "@jupyter-widgets/base",
          "model_name": "LayoutModel",
          "model_module_version": "1.2.0",
          "state": {
            "_model_module": "@jupyter-widgets/base",
            "_model_module_version": "1.2.0",
            "_model_name": "LayoutModel",
            "_view_count": null,
            "_view_module": "@jupyter-widgets/base",
            "_view_module_version": "1.2.0",
            "_view_name": "LayoutView",
            "align_content": null,
            "align_items": null,
            "align_self": null,
            "border": null,
            "bottom": null,
            "display": null,
            "flex": null,
            "flex_flow": null,
            "grid_area": null,
            "grid_auto_columns": null,
            "grid_auto_flow": null,
            "grid_auto_rows": null,
            "grid_column": null,
            "grid_gap": null,
            "grid_row": null,
            "grid_template_areas": null,
            "grid_template_columns": null,
            "grid_template_rows": null,
            "height": null,
            "justify_content": null,
            "justify_items": null,
            "left": null,
            "margin": null,
            "max_height": null,
            "max_width": null,
            "min_height": null,
            "min_width": null,
            "object_fit": null,
            "object_position": null,
            "order": null,
            "overflow": null,
            "overflow_x": null,
            "overflow_y": null,
            "padding": null,
            "right": null,
            "top": null,
            "visibility": null,
            "width": null
          }
        },
        "bfc000f6cb4942308bfc65239772357d": {
          "model_module": "@jupyter-widgets/controls",
          "model_name": "ProgressStyleModel",
          "model_module_version": "1.5.0",
          "state": {
            "_model_module": "@jupyter-widgets/controls",
            "_model_module_version": "1.5.0",
            "_model_name": "ProgressStyleModel",
            "_view_count": null,
            "_view_module": "@jupyter-widgets/base",
            "_view_module_version": "1.2.0",
            "_view_name": "StyleView",
            "bar_color": null,
            "description_width": ""
          }
        },
        "728c2864cd284e1b8e94a32fa421429b": {
          "model_module": "@jupyter-widgets/base",
          "model_name": "LayoutModel",
          "model_module_version": "1.2.0",
          "state": {
            "_model_module": "@jupyter-widgets/base",
            "_model_module_version": "1.2.0",
            "_model_name": "LayoutModel",
            "_view_count": null,
            "_view_module": "@jupyter-widgets/base",
            "_view_module_version": "1.2.0",
            "_view_name": "LayoutView",
            "align_content": null,
            "align_items": null,
            "align_self": null,
            "border": null,
            "bottom": null,
            "display": null,
            "flex": null,
            "flex_flow": null,
            "grid_area": null,
            "grid_auto_columns": null,
            "grid_auto_flow": null,
            "grid_auto_rows": null,
            "grid_column": null,
            "grid_gap": null,
            "grid_row": null,
            "grid_template_areas": null,
            "grid_template_columns": null,
            "grid_template_rows": null,
            "height": null,
            "justify_content": null,
            "justify_items": null,
            "left": null,
            "margin": null,
            "max_height": null,
            "max_width": null,
            "min_height": null,
            "min_width": null,
            "object_fit": null,
            "object_position": null,
            "order": null,
            "overflow": null,
            "overflow_x": null,
            "overflow_y": null,
            "padding": null,
            "right": null,
            "top": null,
            "visibility": null,
            "width": null
          }
        },
        "f3744d90c04a4caf965e558bed404fcb": {
          "model_module": "@jupyter-widgets/controls",
          "model_name": "DescriptionStyleModel",
          "model_module_version": "1.5.0",
          "state": {
            "_model_module": "@jupyter-widgets/controls",
            "_model_module_version": "1.5.0",
            "_model_name": "DescriptionStyleModel",
            "_view_count": null,
            "_view_module": "@jupyter-widgets/base",
            "_view_module_version": "1.2.0",
            "_view_name": "StyleView",
            "description_width": ""
          }
        }
      }
    }
  },
  "cells": [
    {
      "cell_type": "markdown",
      "source": [
        "# What we are going to cover:\n",
        "- vision dataset to work with using `torchvision.datasets`\n",
        "- Architecture of `Convolutional Neural Network` with PyTorch.\n",
        "- Multi Class Image Classification problem.\n",
        "- Modeling with CNNs in PyTorch.\n",
        "  - Creating CNN with PyTorch.\n",
        "  - Picking a loss and optimizer.\n",
        "  - Training a model.\n",
        "  - Evaluating a model.\n",
        "\n",
        "\n",
        "* Computer Vision libraries:\n",
        "  - `torchvision`> Base domain library for PyTorch Computer Vision.\n",
        "  - `torchvision.datasets` > Get datasets and data loading functions for computer vision.\n",
        "  - `torchvision.models`> Get pretrained computer vision models that you can leverage for your own problems.\n",
        "  - `torchvision.transforms` > Functions for manipulating image datasets to be ssuitable for use with an ML model.\n",
        "  - `torch.utils.data.Dataset` > Base dataset class for PyTorch.\n",
        "  -  `torch.utils.data.DataLoader` > Creates a Python iterable over a dataset."
      ],
      "metadata": {
        "id": "qFyb1PufSrif"
      }
    },
    {
      "cell_type": "markdown",
      "source": [
        "# Import Libraries."
      ],
      "metadata": {
        "id": "UYOli8erzinK"
      }
    },
    {
      "cell_type": "code",
      "execution_count": null,
      "metadata": {
        "id": "sn_b3jbbQbq8",
        "colab": {
          "base_uri": "https://localhost:8080/"
        },
        "outputId": "036dec2e-d94a-48ea-afb7-929579807ce6"
      },
      "outputs": [
        {
          "output_type": "stream",
          "name": "stdout",
          "text": [
            "2.3.0+cu121\n",
            "0.18.0+cu121\n"
          ]
        }
      ],
      "source": [
        "import torch\n",
        "import torch.nn as nn\n",
        "import torchvision\n",
        "import torchvision.transforms as transforms\n",
        "from torchvision.transforms import ToTensor\n",
        "import matplotlib.pyplot as plt\n",
        "\n",
        "# Check versions.\n",
        "print(torch.__version__)\n",
        "print(torchvision.__version__)"
      ]
    },
    {
      "cell_type": "code",
      "source": [
        "device = \"cuda\" if torch.cuda.is_available() else \"cpu\"\n",
        "device"
      ],
      "metadata": {
        "colab": {
          "base_uri": "https://localhost:8080/"
        },
        "id": "rEMoX691lHmj",
        "outputId": "f93dc45d-223e-4f59-fd0c-0720c75ba41d"
      },
      "execution_count": null,
      "outputs": [
        {
          "output_type": "execute_result",
          "data": {
            "text/plain": [
              "'cpu'"
            ],
            "application/vnd.google.colaboratory.intrinsic+json": {
              "type": "string"
            }
          },
          "metadata": {},
          "execution_count": 2
        }
      ]
    },
    {
      "cell_type": "markdown",
      "source": [
        "# Getting dataset ready."
      ],
      "metadata": {
        "id": "4-BdY6Gs0S2t"
      }
    },
    {
      "cell_type": "code",
      "source": [
        "# Setup training data.\n",
        "from torchvision import datasets\n",
        "train_data = datasets.FashionMNIST(\n",
        "    root=\"data\", # Where to download data to?\n",
        "    train=True, # Do we want the training dataset?\n",
        "    download=True, # Do we want to download the images?\n",
        "    transform=torchvision.transforms.ToTensor(), # How do we want to transform the data.\n",
        "    target_transform = None) #How do we transform the labels.\n",
        "\n",
        "test_data = datasets.FashionMNIST(\n",
        "    root = \"data\",\n",
        "    train = False,\n",
        "    download = True,\n",
        "    transform = torchvision.transforms.ToTensor(),\n",
        "    target_transform = None\n",
        ")"
      ],
      "metadata": {
        "id": "p_bjbbws0Tbf",
        "colab": {
          "base_uri": "https://localhost:8080/"
        },
        "outputId": "fa647ad5-756a-46a3-a4c0-9c77df31b5fe"
      },
      "execution_count": null,
      "outputs": [
        {
          "output_type": "stream",
          "name": "stdout",
          "text": [
            "Downloading http://fashion-mnist.s3-website.eu-central-1.amazonaws.com/train-images-idx3-ubyte.gz\n",
            "Downloading http://fashion-mnist.s3-website.eu-central-1.amazonaws.com/train-images-idx3-ubyte.gz to data/FashionMNIST/raw/train-images-idx3-ubyte.gz\n"
          ]
        },
        {
          "output_type": "stream",
          "name": "stderr",
          "text": [
            "100%|██████████| 26421880/26421880 [00:01<00:00, 17986819.08it/s]\n"
          ]
        },
        {
          "output_type": "stream",
          "name": "stdout",
          "text": [
            "Extracting data/FashionMNIST/raw/train-images-idx3-ubyte.gz to data/FashionMNIST/raw\n",
            "\n",
            "Downloading http://fashion-mnist.s3-website.eu-central-1.amazonaws.com/train-labels-idx1-ubyte.gz\n",
            "Downloading http://fashion-mnist.s3-website.eu-central-1.amazonaws.com/train-labels-idx1-ubyte.gz to data/FashionMNIST/raw/train-labels-idx1-ubyte.gz\n"
          ]
        },
        {
          "output_type": "stream",
          "name": "stderr",
          "text": [
            "100%|██████████| 29515/29515 [00:00<00:00, 299168.87it/s]\n"
          ]
        },
        {
          "output_type": "stream",
          "name": "stdout",
          "text": [
            "Extracting data/FashionMNIST/raw/train-labels-idx1-ubyte.gz to data/FashionMNIST/raw\n",
            "\n",
            "Downloading http://fashion-mnist.s3-website.eu-central-1.amazonaws.com/t10k-images-idx3-ubyte.gz\n",
            "Downloading http://fashion-mnist.s3-website.eu-central-1.amazonaws.com/t10k-images-idx3-ubyte.gz to data/FashionMNIST/raw/t10k-images-idx3-ubyte.gz\n"
          ]
        },
        {
          "output_type": "stream",
          "name": "stderr",
          "text": [
            "100%|██████████| 4422102/4422102 [00:00<00:00, 5481390.93it/s]\n"
          ]
        },
        {
          "output_type": "stream",
          "name": "stdout",
          "text": [
            "Extracting data/FashionMNIST/raw/t10k-images-idx3-ubyte.gz to data/FashionMNIST/raw\n",
            "\n",
            "Downloading http://fashion-mnist.s3-website.eu-central-1.amazonaws.com/t10k-labels-idx1-ubyte.gz\n",
            "Downloading http://fashion-mnist.s3-website.eu-central-1.amazonaws.com/t10k-labels-idx1-ubyte.gz to data/FashionMNIST/raw/t10k-labels-idx1-ubyte.gz\n"
          ]
        },
        {
          "output_type": "stream",
          "name": "stderr",
          "text": [
            "100%|██████████| 5148/5148 [00:00<00:00, 5338016.56it/s]"
          ]
        },
        {
          "output_type": "stream",
          "name": "stdout",
          "text": [
            "Extracting data/FashionMNIST/raw/t10k-labels-idx1-ubyte.gz to data/FashionMNIST/raw\n",
            "\n"
          ]
        },
        {
          "output_type": "stream",
          "name": "stderr",
          "text": [
            "\n"
          ]
        }
      ]
    },
    {
      "cell_type": "code",
      "source": [
        "len(train_data), len(test_data)"
      ],
      "metadata": {
        "colab": {
          "base_uri": "https://localhost:8080/"
        },
        "id": "NHBwQu_k4hsS",
        "outputId": "6a9397a4-1b87-4adc-e10d-7e6dc3b3fb25"
      },
      "execution_count": null,
      "outputs": [
        {
          "output_type": "execute_result",
          "data": {
            "text/plain": [
              "(60000, 10000)"
            ]
          },
          "metadata": {},
          "execution_count": 4
        }
      ]
    },
    {
      "cell_type": "code",
      "source": [
        "image, label = train_data[3]\n",
        "image, label"
      ],
      "metadata": {
        "colab": {
          "base_uri": "https://localhost:8080/"
        },
        "id": "enJiDtz84_9d",
        "outputId": "4fcd928c-e756-4659-a9c2-4be1da9a7453"
      },
      "execution_count": null,
      "outputs": [
        {
          "output_type": "execute_result",
          "data": {
            "text/plain": [
              "(tensor([[[0.0000, 0.0000, 0.0000, 0.0000, 0.0000, 0.0000, 0.0000, 0.0000,\n",
              "           0.1294, 0.3765, 0.6863, 0.6118, 0.2510, 0.0549, 0.2118, 0.5373,\n",
              "           0.8000, 0.7608, 0.4000, 0.0000, 0.0000, 0.0000, 0.0000, 0.0000,\n",
              "           0.0000, 0.0000, 0.0000, 0.0000],\n",
              "          [0.0000, 0.0000, 0.0000, 0.0000, 0.0000, 0.0000, 0.2863, 0.7294,\n",
              "           0.6941, 0.7176, 0.6863, 0.7373, 0.9098, 1.0000, 0.8745, 0.8588,\n",
              "           0.7608, 0.7020, 0.7294, 0.8353, 0.5725, 0.0000, 0.0000, 0.0000,\n",
              "           0.0000, 0.0000, 0.0000, 0.0000],\n",
              "          [0.0000, 0.0000, 0.0000, 0.0000, 0.0000, 0.1373, 0.6392, 0.5490,\n",
              "           0.5882, 0.5961, 0.5882, 0.5725, 0.6863, 0.6863, 0.6784, 0.6706,\n",
              "           0.6118, 0.5961, 0.5804, 0.5059, 0.6118, 0.5490, 0.0000, 0.0000,\n",
              "           0.0000, 0.0000, 0.0000, 0.0000],\n",
              "          [0.0000, 0.0000, 0.0000, 0.0000, 0.0000, 0.5882, 0.5569, 0.5490,\n",
              "           0.5961, 0.6275, 0.6118, 0.5725, 0.5569, 0.4980, 0.5294, 0.5216,\n",
              "           0.5490, 0.5490, 0.5373, 0.5216, 0.4902, 0.6627, 0.2941, 0.0000,\n",
              "           0.0000, 0.0000, 0.0000, 0.0000],\n",
              "          [0.0000, 0.0000, 0.0000, 0.0000, 0.0000, 0.2118, 0.6549, 0.5725,\n",
              "           0.5059, 0.5569, 0.5373, 0.5373, 0.5137, 0.5804, 0.5804, 0.5216,\n",
              "           0.5137, 0.5137, 0.5137, 0.4902, 0.5490, 0.5490, 0.0000, 0.0000,\n",
              "           0.0000, 0.0000, 0.0000, 0.0000],\n",
              "          [0.0000, 0.0000, 0.0000, 0.0000, 0.0000, 0.0000, 0.4314, 0.7373,\n",
              "           0.5216, 0.5725, 0.5961, 0.5216, 0.4902, 0.4980, 0.4667, 0.5059,\n",
              "           0.5216, 0.4667, 0.5490, 0.5137, 0.5882, 0.0549, 0.0000, 0.0000,\n",
              "           0.0000, 0.0000, 0.0000, 0.0000],\n",
              "          [0.0000, 0.0000, 0.0000, 0.0000, 0.0000, 0.0000, 0.0000, 0.8667,\n",
              "           0.6196, 0.5373, 0.5294, 0.4824, 0.4314, 0.4314, 0.4471, 0.4235,\n",
              "           0.4392, 0.4588, 0.4980, 0.5569, 0.3020, 0.0000, 0.0000, 0.0000,\n",
              "           0.0000, 0.0000, 0.0000, 0.0000],\n",
              "          [0.0000, 0.0000, 0.0000, 0.0000, 0.0000, 0.0157, 0.0000, 0.0980,\n",
              "           0.6196, 0.5373, 0.4902, 0.4667, 0.4667, 0.4314, 0.4588, 0.4588,\n",
              "           0.4314, 0.4667, 0.4980, 0.5647, 0.0000, 0.0000, 0.0000, 0.0000,\n",
              "           0.0000, 0.0000, 0.0000, 0.0000],\n",
              "          [0.0000, 0.0000, 0.0000, 0.0000, 0.0000, 0.0000, 0.0000, 0.0000,\n",
              "           0.4824, 0.6118, 0.5059, 0.4392, 0.4314, 0.4000, 0.4392, 0.3922,\n",
              "           0.4745, 0.4588, 0.5059, 0.4471, 0.0000, 0.0000, 0.0000, 0.0000,\n",
              "           0.0000, 0.0000, 0.0000, 0.0000],\n",
              "          [0.0000, 0.0000, 0.0000, 0.0000, 0.0000, 0.0000, 0.0000, 0.0000,\n",
              "           0.4902, 0.6627, 0.4980, 0.4667, 0.4157, 0.4235, 0.4078, 0.3686,\n",
              "           0.4745, 0.4471, 0.5059, 0.3569, 0.0000, 0.0000, 0.0000, 0.0000,\n",
              "           0.0000, 0.0000, 0.0000, 0.0000],\n",
              "          [0.0000, 0.0000, 0.0000, 0.0000, 0.0000, 0.0000, 0.0078, 0.0000,\n",
              "           0.3843, 0.6706, 0.5059, 0.4392, 0.4078, 0.4471, 0.4157, 0.4000,\n",
              "           0.4392, 0.4078, 0.5216, 0.2510, 0.0000, 0.0157, 0.0000, 0.0000,\n",
              "           0.0000, 0.0000, 0.0000, 0.0000],\n",
              "          [0.0000, 0.0000, 0.0000, 0.0000, 0.0000, 0.0000, 0.0078, 0.0000,\n",
              "           0.2588, 0.6784, 0.5294, 0.5059, 0.3843, 0.3922, 0.4667, 0.4000,\n",
              "           0.4235, 0.3843, 0.5294, 0.2353, 0.0000, 0.0157, 0.0000, 0.0000,\n",
              "           0.0000, 0.0000, 0.0000, 0.0000],\n",
              "          [0.0000, 0.0000, 0.0000, 0.0000, 0.0000, 0.0000, 0.0078, 0.0000,\n",
              "           0.2196, 0.6706, 0.5294, 0.4980, 0.3922, 0.4235, 0.4588, 0.3333,\n",
              "           0.4157, 0.4314, 0.5294, 0.2588, 0.0000, 0.0157, 0.0000, 0.0000,\n",
              "           0.0000, 0.0000, 0.0000, 0.0000],\n",
              "          [0.0000, 0.0000, 0.0000, 0.0000, 0.0000, 0.0000, 0.0000, 0.0000,\n",
              "           0.2039, 0.5882, 0.5059, 0.4314, 0.3922, 0.3569, 0.4000, 0.3686,\n",
              "           0.3255, 0.4078, 0.4824, 0.2588, 0.0000, 0.0157, 0.0000, 0.0000,\n",
              "           0.0000, 0.0000, 0.0000, 0.0000],\n",
              "          [0.0000, 0.0000, 0.0000, 0.0000, 0.0000, 0.0000, 0.0078, 0.0000,\n",
              "           0.2588, 0.6549, 0.5490, 0.5804, 0.5804, 0.4980, 0.5373, 0.5961,\n",
              "           0.5725, 0.5725, 0.5804, 0.3765, 0.0000, 0.0000, 0.0000, 0.0000,\n",
              "           0.0000, 0.0000, 0.0000, 0.0000],\n",
              "          [0.0000, 0.0000, 0.0000, 0.0000, 0.0000, 0.0000, 0.0000, 0.0000,\n",
              "           0.1765, 0.4824, 0.3686, 0.4078, 0.3765, 0.4667, 0.4745, 0.4157,\n",
              "           0.3843, 0.4392, 0.3412, 0.4471, 0.0000, 0.0000, 0.0000, 0.0000,\n",
              "           0.0000, 0.0000, 0.0000, 0.0000],\n",
              "          [0.0000, 0.0000, 0.0000, 0.0000, 0.0000, 0.0000, 0.0000, 0.0000,\n",
              "           0.4157, 0.3490, 0.2275, 0.1961, 0.1451, 0.1961, 0.2588, 0.2196,\n",
              "           0.1961, 0.2941, 0.2941, 0.5373, 0.0863, 0.0000, 0.0078, 0.0000,\n",
              "           0.0000, 0.0000, 0.0000, 0.0000],\n",
              "          [0.0000, 0.0000, 0.0000, 0.0000, 0.0000, 0.0078, 0.0000, 0.1137,\n",
              "           0.5804, 0.4471, 0.4157, 0.4902, 0.3490, 0.3922, 0.5216, 0.4588,\n",
              "           0.5137, 0.5137, 0.5137, 0.4902, 0.4392, 0.0000, 0.0000, 0.0000,\n",
              "           0.0000, 0.0000, 0.0000, 0.0000],\n",
              "          [0.0000, 0.0000, 0.0000, 0.0000, 0.0000, 0.0000, 0.0000, 0.3922,\n",
              "           0.4157, 0.4471, 0.3569, 0.5373, 0.2431, 0.4000, 0.5137, 0.3490,\n",
              "           0.5294, 0.4392, 0.5137, 0.4235, 0.5294, 0.1451, 0.0000, 0.0000,\n",
              "           0.0000, 0.0000, 0.0000, 0.0000],\n",
              "          [0.0000, 0.0000, 0.0000, 0.0000, 0.0000, 0.0000, 0.0000, 0.5725,\n",
              "           0.3922, 0.4235, 0.3843, 0.5647, 0.2431, 0.4157, 0.5137, 0.3412,\n",
              "           0.5216, 0.4078, 0.6275, 0.4588, 0.4745, 0.2667, 0.0000, 0.0000,\n",
              "           0.0000, 0.0000, 0.0000, 0.0000],\n",
              "          [0.0000, 0.0000, 0.0000, 0.0000, 0.0000, 0.0000, 0.1294, 0.4745,\n",
              "           0.4235, 0.3765, 0.3922, 0.5490, 0.2784, 0.4157, 0.4980, 0.3333,\n",
              "           0.5490, 0.4078, 0.5882, 0.5490, 0.4471, 0.3490, 0.0000, 0.0000,\n",
              "           0.0000, 0.0000, 0.0000, 0.0000],\n",
              "          [0.0000, 0.0000, 0.0000, 0.0000, 0.0000, 0.0000, 0.2431, 0.4667,\n",
              "           0.4392, 0.4000, 0.4314, 0.5373, 0.2941, 0.4157, 0.5647, 0.3176,\n",
              "           0.5647, 0.4235, 0.4588, 0.6039, 0.4588, 0.4078, 0.0706, 0.0000,\n",
              "           0.0000, 0.0000, 0.0000, 0.0000],\n",
              "          [0.0000, 0.0000, 0.0000, 0.0000, 0.0000, 0.0000, 0.2588, 0.4745,\n",
              "           0.4000, 0.4392, 0.4588, 0.5137, 0.2863, 0.4078, 0.6118, 0.3020,\n",
              "           0.5373, 0.5294, 0.3255, 0.7020, 0.5059, 0.4745, 0.1373, 0.0000,\n",
              "           0.0000, 0.0000, 0.0000, 0.0000],\n",
              "          [0.0000, 0.0000, 0.0000, 0.0000, 0.0000, 0.0000, 0.3333, 0.4980,\n",
              "           0.3176, 0.4902, 0.5216, 0.4667, 0.3098, 0.3922, 0.6627, 0.3255,\n",
              "           0.5059, 0.6863, 0.2353, 0.6392, 0.5294, 0.5725, 0.1529, 0.0000,\n",
              "           0.0000, 0.0000, 0.0000, 0.0000],\n",
              "          [0.0000, 0.0000, 0.0000, 0.0000, 0.0000, 0.0000, 0.4157, 0.5059,\n",
              "           0.2431, 0.5490, 0.5647, 0.4235, 0.3333, 0.3255, 0.6196, 0.3333,\n",
              "           0.5059, 0.6863, 0.1882, 0.5725, 0.5216, 0.5294, 0.2510, 0.0000,\n",
              "           0.0000, 0.0000, 0.0000, 0.0000],\n",
              "          [0.0000, 0.0000, 0.0000, 0.0000, 0.0000, 0.0000, 0.4588, 0.4667,\n",
              "           0.3098, 0.5490, 0.5961, 0.4000, 0.3490, 0.4314, 0.5373, 0.3765,\n",
              "           0.5882, 0.7686, 0.3255, 0.5647, 0.5294, 0.5216, 0.3020, 0.0000,\n",
              "           0.0000, 0.0000, 0.0000, 0.0000],\n",
              "          [0.0000, 0.0000, 0.0000, 0.0000, 0.0000, 0.0000, 0.6039, 0.4745,\n",
              "           0.3412, 0.5490, 0.6039, 0.4392, 0.3686, 0.2039, 0.5569, 0.3922,\n",
              "           0.3255, 0.5961, 0.3333, 0.6275, 0.5216, 0.3922, 0.0471, 0.0000,\n",
              "           0.0000, 0.0000, 0.0000, 0.0000],\n",
              "          [0.0000, 0.0000, 0.0000, 0.0000, 0.0000, 0.0000, 0.0157, 0.0000,\n",
              "           0.0078, 0.0000, 0.1373, 0.0157, 0.1294, 0.0000, 0.0000, 0.0000,\n",
              "           0.0000, 0.0000, 0.0000, 0.0000, 0.0000, 0.0000, 0.0000, 0.0000,\n",
              "           0.0000, 0.0000, 0.0000, 0.0000]]]),\n",
              " 3)"
            ]
          },
          "metadata": {},
          "execution_count": 5
        }
      ]
    },
    {
      "cell_type": "code",
      "source": [
        "class_names = train_data.classes\n",
        "class_names"
      ],
      "metadata": {
        "colab": {
          "base_uri": "https://localhost:8080/"
        },
        "id": "QE5cr8Pu7Wad",
        "outputId": "745772bc-2cb3-4513-b010-b624a1366aa7"
      },
      "execution_count": null,
      "outputs": [
        {
          "output_type": "execute_result",
          "data": {
            "text/plain": [
              "['T-shirt/top',\n",
              " 'Trouser',\n",
              " 'Pullover',\n",
              " 'Dress',\n",
              " 'Coat',\n",
              " 'Sandal',\n",
              " 'Shirt',\n",
              " 'Sneaker',\n",
              " 'Bag',\n",
              " 'Ankle boot']"
            ]
          },
          "metadata": {},
          "execution_count": 6
        }
      ]
    },
    {
      "cell_type": "code",
      "source": [
        "class_to_idx = train_data.class_to_idx\n",
        "class_to_idx"
      ],
      "metadata": {
        "colab": {
          "base_uri": "https://localhost:8080/"
        },
        "id": "G7L4m58V72zf",
        "outputId": "27cee2bb-5893-46fb-d1ba-b41b0a50865f"
      },
      "execution_count": null,
      "outputs": [
        {
          "output_type": "execute_result",
          "data": {
            "text/plain": [
              "{'T-shirt/top': 0,\n",
              " 'Trouser': 1,\n",
              " 'Pullover': 2,\n",
              " 'Dress': 3,\n",
              " 'Coat': 4,\n",
              " 'Sandal': 5,\n",
              " 'Shirt': 6,\n",
              " 'Sneaker': 7,\n",
              " 'Bag': 8,\n",
              " 'Ankle boot': 9}"
            ]
          },
          "metadata": {},
          "execution_count": 7
        }
      ]
    },
    {
      "cell_type": "code",
      "source": [
        "# Check shape of image.\n",
        "print(f\"Image Shape: {image.shape} -> [color_channels, height, width]\")\n",
        "print(f\"Image Label: {class_names[label]}\")"
      ],
      "metadata": {
        "colab": {
          "base_uri": "https://localhost:8080/"
        },
        "id": "484OzsJw8Vg5",
        "outputId": "265cee1c-261f-4a92-ffb2-4b31dc842e41"
      },
      "execution_count": null,
      "outputs": [
        {
          "output_type": "stream",
          "name": "stdout",
          "text": [
            "Image Shape: torch.Size([1, 28, 28]) -> [color_channels, height, width]\n",
            "Image Label: Dress\n"
          ]
        }
      ]
    },
    {
      "cell_type": "markdown",
      "source": [
        "## Visualize the data."
      ],
      "metadata": {
        "id": "8v7vdXPj-_fi"
      }
    },
    {
      "cell_type": "code",
      "source": [
        "image, label = train_data[0]\n",
        "print(f\"Image Shape: {image.shape}\")\n",
        "plt.imshow(image.squeeze())\n",
        "plt.title(label)"
      ],
      "metadata": {
        "colab": {
          "base_uri": "https://localhost:8080/"
        },
        "id": "AJACK2Kz8v_O",
        "outputId": "f5d1d23f-0da4-4efb-9213-81a339150398"
      },
      "execution_count": null,
      "outputs": [
        {
          "output_type": "stream",
          "name": "stdout",
          "text": [
            "Image Shape: torch.Size([1, 28, 28])\n"
          ]
        },
        {
          "output_type": "execute_result",
          "data": {
            "text/plain": [
              "Text(0.5, 1.0, '9')"
            ]
          },
          "metadata": {},
          "execution_count": 9
        },
        {
          "output_type": "display_data",
          "data": {
            "text/plain": [
              "<Figure size 640x480 with 1 Axes>"
            ],
            "image/png": "[encoded data removed]"
          },
          "metadata": {}
        }
      ]
    },
    {
      "cell_type": "code",
      "source": [
        "plt.imshow(image.squeeze(), cmap=\"gray\")\n",
        "plt.title(class_names[label])\n",
        "plt.axis(False)"
      ],
      "metadata": {
        "colab": {
          "base_uri": "https://localhost:8080/"
        },
        "id": "MP7MHdNl_OT0",
        "outputId": "a026c135-ef9c-4256-84c4-7702a7cca777"
      },
      "execution_count": null,
      "outputs": [
        {
          "output_type": "execute_result",
          "data": {
            "text/plain": [
              "(-0.5, 27.5, 27.5, -0.5)"
            ]
          },
          "metadata": {},
          "execution_count": 10
        },
        {
          "output_type": "display_data",
          "data": {
            "text/plain": [
              "<Figure size 640x480 with 1 Axes>"
            ],
            "image/png": "[encoded data removed]"
          },
          "metadata": {}
        }
      ]
    },
    {
      "cell_type": "code",
      "source": [
        "# Plot more images.\n",
        "torch.manual_seed(42)\n",
        "fig = plt.figure(figsize=(9,9))\n",
        "rows, cols = 4, 4\n",
        "for i in range(1, rows * cols + 1):\n",
        "  random_idx = torch.randint(0, len(train_data), size=[1]).item()\n",
        "  # print(random_idx)\n",
        "  image, label = train_data[random_idx]\n",
        "  fig.add_subplot(rows, cols, i)\n",
        "  plt.imshow(image.squeeze(), cmap=\"gray\")\n",
        "  plt.title(class_names[label])\n",
        "  plt.axis(False)"
      ],
      "metadata": {
        "colab": {
          "base_uri": "https://localhost:8080/"
        },
        "id": "suIiY6Fh_qao",
        "outputId": "9ebcf21d-667d-4697-91e0-2b20ae3960af"
      },
      "execution_count": null,
      "outputs": [
        {
          "output_type": "display_data",
          "data": {
            "text/plain": [
              "<Figure size 900x900 with 16 Axes>"
            ],
            "image/png": "[encoded data removed]"
          },
          "metadata": {}
        }
      ]
    },
    {
      "cell_type": "code",
      "source": [
        "train_data, test_data"
      ],
      "metadata": {
        "colab": {
          "base_uri": "https://localhost:8080/"
        },
        "id": "Pj4KXfT1_huj",
        "outputId": "e75539e0-ccda-42ce-859a-76357dc39ec1"
      },
      "execution_count": null,
      "outputs": [
        {
          "output_type": "execute_result",
          "data": {
            "text/plain": [
              "(Dataset FashionMNIST\n",
              "     Number of datapoints: 60000\n",
              "     Root location: data\n",
              "     Split: Train\n",
              "     StandardTransform\n",
              " Transform: ToTensor(),\n",
              " Dataset FashionMNIST\n",
              "     Number of datapoints: 10000\n",
              "     Root location: data\n",
              "     Split: Test\n",
              "     StandardTransform\n",
              " Transform: ToTensor())"
            ]
          },
          "metadata": {},
          "execution_count": 12
        }
      ]
    },
    {
      "cell_type": "markdown",
      "source": [
        "## Prepare DataLoader.\n",
        "Now our data is in the form of PyTorch datasets.\n",
        "DataLoader turns our dataset into a Python iterable.\n",
        "More specifically, we want to turn our data into batches. Analyzing a huge number of images one by one takes a fair amount of memory and time. It would be better and convenient to break the datasets into group of batchs.\n",
        "\n",
        "Why?\n",
        "- More computationally efficient, as in, computing hardware may not be able to look(store in memory) at 6000 images in one hit. So we break it down to 32 images at each hit.\n",
        "\n",
        "- It gives our neural network more chances to update it's gradient per epoch."
      ],
      "metadata": {
        "id": "TdxhNnTY_V7G"
      }
    },
    {
      "cell_type": "code",
      "source": [
        "from torch.utils.data import DataLoader\n",
        "\n",
        "# Setup batch_size hypeparameter.\n",
        "BATCH_SIZE = 32\n",
        "\n",
        "# Turn datasets into iterables.\n",
        "train_dataloader = DataLoader(dataset = train_data,\n",
        "                              batch_size = BATCH_SIZE,\n",
        "                              shuffle = True)\n",
        "\n",
        "test_dataloader = DataLoader(dataset = test_data,\n",
        "                             batch_size = BATCH_SIZE,\n",
        "                             shuffle = False)\n",
        "\n",
        "train_dataloader, test_dataloader"
      ],
      "metadata": {
        "id": "MtmrvtgDDdtR",
        "colab": {
          "base_uri": "https://localhost:8080/"
        },
        "outputId": "03f08d03-de36-4e8f-daa0-779ed187f2fc"
      },
      "execution_count": null,
      "outputs": [
        {
          "output_type": "execute_result",
          "data": {
            "text/plain": [
              "(<torch.utils.data.dataloader.DataLoader at 0x7f252f619750>,\n",
              " <torch.utils.data.dataloader.DataLoader at 0x7f252f61baf0>)"
            ]
          },
          "metadata": {},
          "execution_count": 13
        }
      ]
    },
    {
      "cell_type": "code",
      "source": [
        "len(train_dataloader), len(test_dataloader)"
      ],
      "metadata": {
        "colab": {
          "base_uri": "https://localhost:8080/"
        },
        "id": "VJxhvTD0Erbs",
        "outputId": "aca181f7-30fc-4bcf-ce76-15ace8bbfb06"
      },
      "execution_count": null,
      "outputs": [
        {
          "output_type": "execute_result",
          "data": {
            "text/plain": [
              "(1875, 313)"
            ]
          },
          "metadata": {},
          "execution_count": 14
        }
      ]
    },
    {
      "cell_type": "code",
      "source": [
        "# Check out what's inside the training dataloader.\n",
        "train_features_batch, train_labels_batch = next(iter(train_dataloader))\n",
        "train_features_batch.shape, train_labels_batch.shape"
      ],
      "metadata": {
        "colab": {
          "base_uri": "https://localhost:8080/"
        },
        "id": "Y466ilhFGvd4",
        "outputId": "63edb6d6-15c8-473a-9240-480d3cae2708"
      },
      "execution_count": null,
      "outputs": [
        {
          "output_type": "execute_result",
          "data": {
            "text/plain": [
              "(torch.Size([32, 1, 28, 28]), torch.Size([32]))"
            ]
          },
          "metadata": {},
          "execution_count": 15
        }
      ]
    },
    {
      "cell_type": "code",
      "source": [
        "# Show a sample\n",
        "# torch.manual_seed(42)\n",
        "random_idx = torch.randint(0, len(train_features_batch), size = [1]).item()\n",
        "img, label = train_features_batch[random_idx], train_labels_batch[random_idx]\n",
        "plt.imshow(img.squeeze(), cmap=\"gray\")\n",
        "plt.title(class_names[label])\n",
        "plt.axis(False)\n",
        "print(f\"Image Size: {img.shape}\")\n",
        "print(f\"Label: {label}, Label Size: {label.shape}\")"
      ],
      "metadata": {
        "colab": {
          "base_uri": "https://localhost:8080/"
        },
        "id": "ggrErVcvF21L",
        "outputId": "f310839f-3ad0-4158-f725-166d2fadddaa"
      },
      "execution_count": null,
      "outputs": [
        {
          "output_type": "stream",
          "name": "stdout",
          "text": [
            "Image Size: torch.Size([1, 28, 28])\n",
            "Label: 8, Label Size: torch.Size([])\n"
          ]
        },
        {
          "output_type": "display_data",
          "data": {
            "text/plain": [
              "<Figure size 640x480 with 1 Axes>"
            ],
            "image/png": "[encoded data removed]"
          },
          "metadata": {}
        }
      ]
    },
    {
      "cell_type": "markdown",
      "source": [
        "# Building a model."
      ],
      "metadata": {
        "id": "slYyyRWPKCfC"
      }
    },
    {
      "cell_type": "markdown",
      "source": [
        "## Model 0: Buidling a baseline model.\n",
        "When building a series of machine learning modelling experiments, it's best practice to start with a baseline. A baseline model is a simple model, which is used and improved upon with subsequent models/experiments.\n"
      ],
      "metadata": {
        "id": "9GPFI0y7KZuv"
      }
    },
    {
      "cell_type": "code",
      "source": [
        "# Create a flatten layer.\n",
        "flatten_model = nn.Flatten()\n",
        "\n",
        "# Get a single sample.\n",
        "x = train_features_batch[0]\n",
        "x.shape\n",
        "\n",
        "# Flatten the sample.\n",
        "output = flatten_model(x) # Perform forward pass.\n",
        "\n",
        "# Print what's happening.\n",
        "print(f\"Shape before flattening: {x.shape}\")\n",
        "print(f\"Shape after flattening: {output.shape}\")"
      ],
      "metadata": {
        "colab": {
          "base_uri": "https://localhost:8080/"
        },
        "id": "vP_3KzC-I8TB",
        "outputId": "38e51c81-b8bf-43e3-9ab4-215fe7285495"
      },
      "execution_count": null,
      "outputs": [
        {
          "output_type": "stream",
          "name": "stdout",
          "text": [
            "Shape before flattening: torch.Size([1, 28, 28])\n",
            "Shape after flattening: torch.Size([1, 784])\n"
          ]
        }
      ]
    },
    {
      "cell_type": "code",
      "source": [
        "class FashionMNISTModelV0(nn.Module):\n",
        "  def __init__(self,\n",
        "               input_shape: int,\n",
        "               hidden_units: int,\n",
        "               output_shape: int):\n",
        "    super().__init__()\n",
        "    self.layer_stack = nn.Sequential(\n",
        "        nn.Flatten(),\n",
        "        nn.Linear(in_features = input_shape,\n",
        "                  out_features = hidden_units),\n",
        "        nn.Linear(in_features = hidden_units,\n",
        "                  out_features = output_shape)\n",
        "    )\n",
        "\n",
        "  def forward(self, x):\n",
        "    return self.layer_stack(x)"
      ],
      "metadata": {
        "id": "8qrR1eOyOVdq"
      },
      "execution_count": null,
      "outputs": []
    },
    {
      "cell_type": "code",
      "source": [
        "# Creating instance of the model\n",
        "torch.manual_seed(42)\n",
        "\n",
        "model_0 = FashionMNISTModelV0(\n",
        "    input_shape = 784, # 28*28 = 784\n",
        "    hidden_units = 10, # How many units in the hidden layer.\n",
        "    output_shape = len(class_names)\n",
        ").to(\"cpu\")\n",
        "\n",
        "model_0"
      ],
      "metadata": {
        "colab": {
          "base_uri": "https://localhost:8080/"
        },
        "id": "tVKlFgBkQ9-B",
        "outputId": "f32ce982-b616-4382-9a64-f7f49c6c0cea"
      },
      "execution_count": null,
      "outputs": [
        {
          "output_type": "execute_result",
          "data": {
            "text/plain": [
              "FashionMNISTModelV0(\n",
              "  (layer_stack): Sequential(\n",
              "    (0): Flatten(start_dim=1, end_dim=-1)\n",
              "    (1): Linear(in_features=784, out_features=10, bias=True)\n",
              "    (2): Linear(in_features=10, out_features=10, bias=True)\n",
              "  )\n",
              ")"
            ]
          },
          "metadata": {},
          "execution_count": 19
        }
      ]
    },
    {
      "cell_type": "markdown",
      "source": [
        "## Loss function and Optimizer.\n",
        "\n",
        "* Loss Function: As it is multiclass `nn.CrossEntropyLoss()`\n",
        "* Optimizer: `torch.optim.SGD()`"
      ],
      "metadata": {
        "id": "19qatFNuSCFn"
      }
    },
    {
      "cell_type": "markdown",
      "source": [
        "Importing Helper functions."
      ],
      "metadata": {
        "id": "AFiWwf44Tvr3"
      }
    },
    {
      "cell_type": "code",
      "source": [
        "import requests\n",
        "from pathlib import Path\n",
        "\n",
        "# Download helper functions from Learn PyTorch repo.\n",
        "if Path(\"helper_functions.py\").is_file():\n",
        "  print(\"helper_functions.py already exists, skipping download...\")\n",
        "else:\n",
        "  print(\"Downloading helper_functions.py\")\n",
        "  request = requests.get(\"https://raw.githubusercontent.com/mrdbourke/pytorch-deep-learning/main/helper_functions.py\")\n",
        "  with open(\"helper_functions.py\", \"wb\") as f:\n",
        "    f.write(request.content)"
      ],
      "metadata": {
        "colab": {
          "base_uri": "https://localhost:8080/"
        },
        "id": "1HjX1fpQRb4N",
        "outputId": "a67be0ce-39fe-4d17-fd60-7e93cccc5cf2"
      },
      "execution_count": null,
      "outputs": [
        {
          "output_type": "stream",
          "name": "stdout",
          "text": [
            "Downloading helper_functions.py\n"
          ]
        }
      ]
    },
    {
      "cell_type": "markdown",
      "source": [
        "Machine Learning is very experimental. We will often need to track some things like:\n",
        "1. Model Performance.\n",
        "2. How fast it runs.\n",
        "\n",
        "Importing accuracy metric for performance."
      ],
      "metadata": {
        "id": "ztLpdzFVT92J"
      }
    },
    {
      "cell_type": "code",
      "source": [
        "from helper_functions import accuracy_fn\n",
        "\n",
        "# Setup loss function and optimizer.\n",
        "loss_fn = nn.CrossEntropyLoss()\n",
        "optimizer = torch.optim.SGD(params = model_0.parameters(),\n",
        "                            lr = 0.1)"
      ],
      "metadata": {
        "id": "XuAuXAb5T0dA"
      },
      "execution_count": null,
      "outputs": []
    },
    {
      "cell_type": "markdown",
      "source": [
        "Importing timit module for knowing time."
      ],
      "metadata": {
        "id": "a2sd84GZVGI1"
      }
    },
    {
      "cell_type": "code",
      "source": [
        "from timeit import default_timer as timer\n",
        "def print_train_time(start: float,\n",
        "                end: float,\n",
        "                device: torch.device = None):\n",
        "  \"\"\"\n",
        "  Prints difference between start and end time.\n",
        "  Demo:\n",
        "  start_time = timer()\n",
        "  Some Code...\n",
        "  ............\n",
        "  end_time = timer()\n",
        "  print_train_time(start_time, end_time)\n",
        "  \"\"\"\n",
        "\n",
        "  total_time = end - start\n",
        "  print(f\"Train time on {device}: {total_time:.3f} seconds\")\n",
        "  return total_time"
      ],
      "metadata": {
        "id": "_b08bYFsUDpp"
      },
      "execution_count": null,
      "outputs": []
    },
    {
      "cell_type": "markdown",
      "source": [
        "# Creating a Training Loop and Training a model on batches of data.\n",
        "\n",
        "1. Loop through epochs.\n",
        "2. Loop through training batches, perform training steps, calculate the train loss per batch.\n",
        "3. Loop through testing batches, perform testing steps, calculate the test loss per batch.\n",
        "4. Print what's happening.\n",
        "5. Time it all."
      ],
      "metadata": {
        "id": "JCWTuILwVkFw"
      }
    },
    {
      "cell_type": "code",
      "source": [
        "# Import tqdm for progress bar.\n",
        "from tqdm.auto import tqdm\n",
        "\n",
        "# Set the seed and start the timer.\n",
        "torch.manual_seed(42)\n",
        "train_time_start_on_cpu = timer()\n",
        "\n",
        "# Set the number of epochs.\n",
        "epochs = 3\n",
        "\n",
        "# Create training and test loop.\n",
        "for epoch in tqdm(range(epochs)):\n",
        "  print(f\"Epoch: {epoch}\\n-------\")\n",
        "  ### Training\n",
        "  train_loss = 0\n",
        "  # Add a loop to loop through the training batches.\n",
        "  for batch, (X, y) in enumerate(train_dataloader):\n",
        "    model_0.train()\n",
        "\n",
        "    # 1. Do the forward pass.\n",
        "    y_pred = model_0(X)\n",
        "\n",
        "    # 2. Calculate the loss.\n",
        "    loss = loss_fn(y_pred, y)\n",
        "    train_loss += loss # Accumulate the training loss.\n",
        "\n",
        "    # 3. Optimizer zero grad.\n",
        "    optimizer.zero_grad()\n",
        "\n",
        "    # 4. Loss Backward.\n",
        "    loss.backward()\n",
        "\n",
        "    # 5. Optimizer step.\n",
        "    optimizer.step()\n",
        "\n",
        "    # Print what's happening.\n",
        "    if batch%400 == 0:\n",
        "      print(f\"Looked at: {batch * len(X)}/{len(train_dataloader.dataset)} samples.\")\n",
        "\n",
        "  # Divide total train loss by length of train dataloader(Avg loss per epoch).\n",
        "  train_loss /= len(train_dataloader)\n",
        "\n",
        "  ### Testing.\n",
        "  test_loss, test_acc = 0, 0\n",
        "  model_0.eval()\n",
        "  with torch.inference_mode():\n",
        "    for X_test, y_test in test_dataloader:\n",
        "      # 1. Do the forward pass.\n",
        "      test_pred = model_0(X_test)\n",
        "      # 2. Calculate the loss(accumulatively)\n",
        "      test_loss += loss_fn(test_pred, y_test)\n",
        "      # 3. Calculate the accuracy.\n",
        "      test_acc += accuracy_fn(y_true = y_test,\n",
        "                              y_pred = test_pred.argmax(dim=1))\n",
        "    # Calculate the test loss average per batch.\n",
        "    test_loss /= len(test_dataloader)\n",
        "    # Calculate the accuracy average per batch.\n",
        "    test_acc /= len(test_dataloader)\n",
        "\n",
        "  # Print what's happening.\n",
        "  print(f\"\\nTrain Loss: {train_loss:0.4f} | Test Loss: {test_loss:0.4f} | Test Accuracy: {test_acc:0.4f}\")\n",
        "\n",
        "# Calculate training time..\n",
        "train_time_end_on_cpu = timer()\n",
        "total_train_time_model_0 = print_train_time(start=train_time_start_on_cpu,\n",
        "                                            end=train_time_end_on_cpu,\n",
        "                                            device=str(next(model_0.parameters()).device))"
      ],
      "metadata": {
        "id": "fp4D_u7CVmV7",
        "colab": {
          "base_uri": "https://localhost:8080/",
          "referenced_widgets": [
            "66964770751d4d14a40b296edddc54b5",
            "4fececc45b9444249cb5dcbf663025da",
            "8045d1f643654751b1ab0804669275be",
            "affc9f0940004698b819221d629cbb91",
            "2e95366e686c49c6a95c52f02c764c38",
            "e9580d6cd5744441ba698e127523c560",
            "6098fcc4301d4c278aed7ffabe3ed3c1",
            "d2c503e30764459abc4fec1368720380",
            "ad915f3da06f4eff9828cab5c0a944f8",
            "0eea9c75251b45c3a4ceaec1ae29463c",
            "36797f0e651e47a2a486bd753c1e38c1"
          ]
        },
        "outputId": "a0a21dcb-963e-4355-b91b-538976249869"
      },
      "execution_count": null,
      "outputs": [
        {
          "output_type": "display_data",
          "data": {
            "text/plain": [
              "  0%|          | 0/3 [00:00<?, ?it/s]"
            ],
            "application/vnd.jupyter.widget-view+json": {
              "version_major": 2,
              "version_minor": 0,
              "model_id": "66964770751d4d14a40b296edddc54b5"
            }
          },
          "metadata": {}
        },
        {
          "output_type": "stream",
          "name": "stdout",
          "text": [
            "Epoch: 0\n",
            "-------\n",
            "Looked at: 0/60000 samples.\n",
            "Looked at: 12800/60000 samples.\n",
            "Looked at: 25600/60000 samples.\n",
            "Looked at: 38400/60000 samples.\n",
            "Looked at: 51200/60000 samples.\n",
            "\n",
            "Train Loss: 0.5904 | Test Loss: 0.5095 | Test Accuracy: 82.0387\n",
            "Epoch: 1\n",
            "-------\n",
            "Looked at: 0/60000 samples.\n",
            "Looked at: 12800/60000 samples.\n",
            "Looked at: 25600/60000 samples.\n",
            "Looked at: 38400/60000 samples.\n",
            "Looked at: 51200/60000 samples.\n",
            "\n",
            "Train Loss: 0.4763 | Test Loss: 0.4799 | Test Accuracy: 83.1969\n",
            "Epoch: 2\n",
            "-------\n",
            "Looked at: 0/60000 samples.\n",
            "Looked at: 12800/60000 samples.\n",
            "Looked at: 25600/60000 samples.\n",
            "Looked at: 38400/60000 samples.\n",
            "Looked at: 51200/60000 samples.\n",
            "\n",
            "Train Loss: 0.4550 | Test Loss: 0.4766 | Test Accuracy: 83.4265\n",
            "Train time on cpu: 35.631 seconds\n"
          ]
        }
      ]
    },
    {
      "cell_type": "markdown",
      "source": [
        "# Make Predictions."
      ],
      "metadata": {
        "id": "MfPVhR7VbitX"
      }
    },
    {
      "cell_type": "code",
      "source": [
        "torch.manual_seed(42)\n",
        "def eval_model(model: torch.nn.Module,\n",
        "               data_loader: torch.utils.data.DataLoader,\n",
        "               loss_fn: torch.nn.Module,\n",
        "               accuracy_fn):\n",
        "  \"\"\"Returns a dictionary containing the results of model predicting on data loader.\"\"\"\n",
        "  loss, acc = 0, 0\n",
        "  model_0.eval()\n",
        "  with torch.inference_mode():\n",
        "    for X, y in tqdm(data_loader):\n",
        "      # Make predictions\n",
        "      y_pred = model(X)\n",
        "\n",
        "      # Accumulate the loss and accuracy values per batch.\n",
        "      loss += loss_fn(y_pred, y)\n",
        "      acc += accuracy_fn(y_true=y,\n",
        "                         y_pred = y_pred.argmax(dim=1))\n",
        "    # Scale loss and acc to find the average loss/acc per batch.\n",
        "    loss /= len(data_loader)\n",
        "    acc /= len(data_loader)\n",
        "  return {\"model_name\": model.__class__.__name__,\n",
        "            \"model_loss\": loss.item(),\n",
        "            \"model_acc\": acc}\n",
        "\n",
        "# Calculate model_0 results on test dataset.\n",
        "model_0_results = eval_model(model=model_0,\n",
        "                             data_loader=test_dataloader,\n",
        "                             loss_fn=loss_fn,\n",
        "                             accuracy_fn=accuracy_fn)\n",
        "model_0_results"
      ],
      "metadata": {
        "colab": {
          "base_uri": "https://localhost:8080/",
          "referenced_widgets": [
            "bb54854f11684821921661f5f28e7849",
            "bda3c9fe05c84f82a24c18445e6a1c04",
            "c4c038d8dc5b4abc85be5727c24bb549",
            "755b7aead2cb4d649349feaa172cc46a",
            "c20c0c1657a14fa1a2f358e5ab17c997",
            "5dfddcad50d941628729536930889f48",
            "69ac528e95764a618d63d8e597c65f03",
            "779d5d17f1ae41efaa2ae05a8b3aa9f0",
            "68ff089087eb40f488a6e458a10871c4",
            "61c51414383c41ffbc4854ca609b67a6",
            "ffaead56f6794e549ce1e815fd94017d"
          ]
        },
        "id": "r-Jp4SDJaKE8",
        "outputId": "89100cb7-e7e1-4410-cf92-a635717d1816"
      },
      "execution_count": null,
      "outputs": [
        {
          "output_type": "display_data",
          "data": {
            "text/plain": [
              "  0%|          | 0/313 [00:00<?, ?it/s]"
            ],
            "application/vnd.jupyter.widget-view+json": {
              "version_major": 2,
              "version_minor": 0,
              "model_id": "bb54854f11684821921661f5f28e7849"
            }
          },
          "metadata": {}
        },
        {
          "output_type": "execute_result",
          "data": {
            "text/plain": [
              "{'model_name': 'FashionMNISTModelV0',\n",
              " 'model_loss': 0.47663894295692444,\n",
              " 'model_acc': 83.42651757188499}"
            ]
          },
          "metadata": {},
          "execution_count": 24
        }
      ]
    },
    {
      "cell_type": "markdown",
      "source": [
        "# Experimentations on the model."
      ],
      "metadata": {
        "id": "BwYkBm7BfpDl"
      }
    },
    {
      "cell_type": "markdown",
      "source": [
        "## Creating model_1 with non-linearity."
      ],
      "metadata": {
        "id": "zXKQ3YIhf_OC"
      }
    },
    {
      "cell_type": "markdown",
      "source": [
        "### Building model."
      ],
      "metadata": {
        "id": "F34t9GYygRko"
      }
    },
    {
      "cell_type": "code",
      "source": [
        "# Creating a non-linear function.\n",
        "class FashionMNISTModelV1(nn.Module):\n",
        "  def __init__(self,\n",
        "               input_shape: int,\n",
        "               hidden_units: int,\n",
        "               output_shape: int):\n",
        "    super().__init__()\n",
        "    self.layer_stack = nn.Sequential(\n",
        "        nn.Flatten(),\n",
        "        nn.Linear(in_features=input_shape,\n",
        "                  out_features=hidden_units),\n",
        "        nn.ReLU(),\n",
        "        nn.Linear(in_features=hidden_units,\n",
        "                  out_features=output_shape),\n",
        "        nn.ReLU()\n",
        "    )\n",
        "\n",
        "  def forward(self, x:torch.Tensor):\n",
        "    return self.layer_stack(x)"
      ],
      "metadata": {
        "id": "3bnzofpAc2pm"
      },
      "execution_count": null,
      "outputs": []
    },
    {
      "cell_type": "code",
      "source": [
        "# Create an instance of model_1\n",
        "torch.manual_seed(42)\n",
        "model_1 = FashionMNISTModelV1(input_shape=784,\n",
        "                         hidden_units=10,\n",
        "                         output_shape=len(class_names)).to(\"cpu\")\n",
        "\n",
        "next(model_1.parameters()).device"
      ],
      "metadata": {
        "colab": {
          "base_uri": "https://localhost:8080/"
        },
        "id": "_k6G70CMbyEV",
        "outputId": "70fe7ab5-b96a-432a-9088-c682d2003402"
      },
      "execution_count": null,
      "outputs": [
        {
          "output_type": "execute_result",
          "data": {
            "text/plain": [
              "device(type='cpu')"
            ]
          },
          "metadata": {},
          "execution_count": 26
        }
      ]
    },
    {
      "cell_type": "markdown",
      "source": [
        "### Setup loss, optimizer, evaluation metrics."
      ],
      "metadata": {
        "id": "67PwZo_vffgr"
      }
    },
    {
      "cell_type": "code",
      "source": [
        "from helper_functions import accuracy_fn\n",
        "loss_fn = nn.CrossEntropyLoss()\n",
        "optimizer = torch.optim.SGD(params=model_1.parameters(),\n",
        "                            lr=0.1)"
      ],
      "metadata": {
        "id": "OS611hSbcO5r"
      },
      "execution_count": null,
      "outputs": []
    },
    {
      "cell_type": "markdown",
      "source": [
        "### Functionizing training and testing loop."
      ],
      "metadata": {
        "id": "pNaPmBVHf-D5"
      }
    },
    {
      "cell_type": "markdown",
      "source": [
        "Functionizing training step"
      ],
      "metadata": {
        "id": "n4cBXlGViDM_"
      }
    },
    {
      "cell_type": "code",
      "source": [
        "def train_step(model: torch.nn.Module,\n",
        "               data_loader: torch.utils.data.DataLoader,\n",
        "               loss_fn: torch.nn.Module,\n",
        "               optimizer: torch.optim.Optimizer,\n",
        "               accuracy_fn,\n",
        "               device: torch.device = device):\n",
        "\n",
        "  \"\"\"Performs a training with model trying to learn on data_loader.\"\"\"\n",
        "  train_loss, train_acc = 0, 0\n",
        "\n",
        "  # Put model into training mode.\n",
        "  model.train()\n",
        "\n",
        "  # Add a loop to loop through the training batches.\n",
        "  for batch, (X, y) in enumerate(data_loader):\n",
        "    X, y = X.to(device), y.to(device)\n",
        "\n",
        "    # 1. Do the forward pass.\n",
        "    y_pred = model(X)\n",
        "\n",
        "    # 2. Calculate the loss.\n",
        "    loss = loss_fn(y_pred, y)\n",
        "    train_loss += loss # Accumulate the training loss.\n",
        "    train_acc += accuracy_fn(y_true=y,\n",
        "                             y_pred=y_pred.argmax(dim=1)) # Go from logits -> pred\n",
        "\n",
        "    # 3. Optimizer zero grad.\n",
        "    optimizer.zero_grad()\n",
        "\n",
        "    # 4. Loss Backward.\n",
        "    loss.backward()\n",
        "\n",
        "    # 5. Optimizer step.\n",
        "    optimizer.step()\n",
        "\n",
        "  # Divide total train loss and accuracy  by length of train dataloader(Avg loss per epoch).\n",
        "  train_loss /= len(data_loader)\n",
        "  train_acc /= len(data_loader)\n",
        "  # Print what's happening.\n",
        "  print(f\"Train Loss: {train_loss:0.5f} | Train Accuracy: {train_acc:0.2f}\")\n"
      ],
      "metadata": {
        "id": "fNHntwXvf7oX"
      },
      "execution_count": null,
      "outputs": []
    },
    {
      "cell_type": "markdown",
      "source": [
        "Functionizing Testing step."
      ],
      "metadata": {
        "id": "VdmPbxZoiIW9"
      }
    },
    {
      "cell_type": "code",
      "source": [
        "def test_step(model: torch.nn.Module,\n",
        "              data_loader: torch.utils.data.DataLoader,\n",
        "              loss_fn: torch.nn.Module,\n",
        "              accuracy_fn,\n",
        "              device: torch.device=device):\n",
        "\n",
        "  \"\"\"Performs a testing loop step on model going over data_loader.\"\"\"\n",
        "\n",
        "  ### Testing.\n",
        "  test_loss, test_acc = 0, 0\n",
        "  model.eval()\n",
        "  with torch.inference_mode():\n",
        "    for X, y in data_loader:\n",
        "      X, y = X.to(device), y.to(device)\n",
        "      # 1. Do the forward pass.\n",
        "      test_pred = model(X)\n",
        "      # 2. Calculate the loss(accumulatively)\n",
        "      test_loss += loss_fn(test_pred, y)\n",
        "      # 3. Calculate the accuracy.\n",
        "      test_acc += accuracy_fn(y_true = y,\n",
        "                              y_pred = test_pred.argmax(dim=1))\n",
        "    # Adjust metrics and print out.\n",
        "    test_loss /= len(data_loader)\n",
        "    test_acc /= len(data_loader)\n",
        "    print(f\"Test Loss: {test_loss:0.5f} | Test Accuracy: {test_acc:0.2f}\")"
      ],
      "metadata": {
        "id": "hrVMsnOZiKPN"
      },
      "execution_count": null,
      "outputs": []
    },
    {
      "cell_type": "markdown",
      "source": [
        "Building Training and Testing loop."
      ],
      "metadata": {
        "id": "8HYJoQ4EXOW_"
      }
    },
    {
      "cell_type": "code",
      "source": [
        "torch.manual_seed(42)\n",
        "\n",
        "# Measure Time.\n",
        "from timeit import default_timer as timer\n",
        "train_time_start_on_cpu = timer()\n",
        "\n",
        "# Set Epochs.\n",
        "epochs = 3\n",
        "\n",
        "# Create a optimization and evaluation loop using train_step() and test_step()\n",
        "for epoch in tqdm(range(epochs)):\n",
        "  print(f\"Epoch: {epoch}\\n-------\")\n",
        "  train_step(model=model_1,\n",
        "             data_loader=train_dataloader,\n",
        "             loss_fn=loss_fn,\n",
        "             optimizer=optimizer,\n",
        "             accuracy_fn=accuracy_fn,\n",
        "             device=device)\n",
        "  test_step(model=model_1,\n",
        "            data_loader=test_dataloader,\n",
        "            loss_fn=loss_fn,\n",
        "            accuracy_fn=accuracy_fn,\n",
        "            device=device)\n",
        "\n",
        "train_time_end_on_cpu = timer()\n",
        "total_train_time_model_1 = print_train_time(start=train_time_start_on_cpu,\n",
        "                                            end=train_time_end_on_cpu,\n",
        "                                            device=device)"
      ],
      "metadata": {
        "colab": {
          "base_uri": "https://localhost:8080/",
          "referenced_widgets": [
            "b24e153a59824f31aa1acde95164f8de",
            "ad644cac6b1043b3b8b8b61821c34fb0",
            "d4021df84fed443d86a0771bdd2bb0c9",
            "4247379e2483471784730dbdb3c55e5a",
            "1f138e586acc4d50a5b3a23f3500a838",
            "30f8d87439dc49d2a474a4ed1240096f",
            "d20ae3dc7e4e4eefb8345dbb66588ff4",
            "127db8eae6704fc2bfd3d9347624b59d",
            "805ca8bfbe3e4906a8361103dbd996da",
            "a1d8a8d52ee34ac486c70f3cb1cda58e",
            "b5838da1cfcb45298c29619aa468c73a"
          ]
        },
        "id": "dKxvJDHGXJfV",
        "outputId": "de18f09c-9e52-48ea-a9c4-6ced4e7f73f7"
      },
      "execution_count": null,
      "outputs": [
        {
          "output_type": "display_data",
          "data": {
            "text/plain": [
              "  0%|          | 0/3 [00:00<?, ?it/s]"
            ],
            "application/vnd.jupyter.widget-view+json": {
              "version_major": 2,
              "version_minor": 0,
              "model_id": "b24e153a59824f31aa1acde95164f8de"
            }
          },
          "metadata": {}
        },
        {
          "output_type": "stream",
          "name": "stdout",
          "text": [
            "Epoch: 0\n",
            "-------\n",
            "Train Loss: 1.09199 | Train Accuracy: 61.34\n",
            "Test Loss: 0.95636 | Test Accuracy: 65.00\n",
            "Epoch: 1\n",
            "-------\n",
            "Train Loss: 0.78101 | Train Accuracy: 71.93\n",
            "Test Loss: 0.72227 | Test Accuracy: 73.91\n",
            "Epoch: 2\n",
            "-------\n",
            "Train Loss: 0.67027 | Train Accuracy: 75.94\n",
            "Test Loss: 0.68500 | Test Accuracy: 75.02\n",
            "Train time on cpu: 36.808 seconds\n"
          ]
        }
      ]
    },
    {
      "cell_type": "markdown",
      "source": [
        " `you want to improve the performance of your deep learning model. How might you approach such a task?`:\n",
        " https://horace.io/brrr_intro.html"
      ],
      "metadata": {
        "id": "00gKakV_c8E5"
      }
    },
    {
      "cell_type": "code",
      "source": [
        "# Get model_1 results dictionary.\n",
        "model_1_results = eval_model(model=model_1,\n",
        "                             data_loader=test_dataloader,\n",
        "                             loss_fn=loss_fn,\n",
        "                             accuracy_fn=accuracy_fn)\n",
        "\n",
        "print(f\"Performance of model_0(Non-linearity): \\n{model_1_results}\")"
      ],
      "metadata": {
        "colab": {
          "base_uri": "https://localhost:8080/",
          "referenced_widgets": [
            "23bad4b2c148406c9e543bbc60083adb",
            "e01d29a1249c4c93906ee18871824580",
            "db281653a6d44101b8c12d4f7f057d01",
            "43250c3a5afd473b9c7713f17dac67d1",
            "a50b49e223fd4d518b3b74f3932c78a3",
            "5ca7a63cb23341b6984013513fd484aa",
            "a3c4e728975a452c99ea5ee2f04dec24",
            "b2bd5cb8f51a4800bb90b9a9ba562771",
            "726a080efc724478adf49f8f23bfbe89",
            "dc719d8a171448ccbf39891a3323fbd0",
            "5a00db758755465586a443d667e9562a"
          ]
        },
        "id": "qymtNVX9ZNeS",
        "outputId": "eae759d7-c1c1-4c6b-b163-e7289580574a"
      },
      "execution_count": null,
      "outputs": [
        {
          "output_type": "display_data",
          "data": {
            "text/plain": [
              "  0%|          | 0/313 [00:00<?, ?it/s]"
            ],
            "application/vnd.jupyter.widget-view+json": {
              "version_major": 2,
              "version_minor": 0,
              "model_id": "23bad4b2c148406c9e543bbc60083adb"
            }
          },
          "metadata": {}
        },
        {
          "output_type": "stream",
          "name": "stdout",
          "text": [
            "Performance of model_0(Non-linearity): \n",
            "{'model_name': 'FashionMNISTModelV1', 'model_loss': 0.6850009560585022, 'model_acc': 75.01996805111821}\n"
          ]
        }
      ]
    },
    {
      "cell_type": "code",
      "source": [
        "print(f\"Performance of model_0(Linearity): \\n{model_0_results}\")"
      ],
      "metadata": {
        "colab": {
          "base_uri": "https://localhost:8080/"
        },
        "id": "Yl0ZOA2Ud3dN",
        "outputId": "0b81ab3c-bd9f-4353-9562-1584674afba0"
      },
      "execution_count": null,
      "outputs": [
        {
          "output_type": "stream",
          "name": "stdout",
          "text": [
            "Performance of model_0(Linearity): \n",
            "{'model_name': 'FashionMNISTModelV0', 'model_loss': 0.47663894295692444, 'model_acc': 83.42651757188499}\n"
          ]
        }
      ]
    },
    {
      "cell_type": "code",
      "source": [],
      "metadata": {
        "id": "9jjNN_wBeV7n"
      },
      "execution_count": null,
      "outputs": []
    },
    {
      "cell_type": "markdown",
      "source": [
        "# Convolutional Neural Network."
      ],
      "metadata": {
        "id": "Tzj-6Nd4evqm"
      }
    },
    {
      "cell_type": "markdown",
      "source": [
        "CNN's are also known as ConvNets. Are known for their capabilities to find patterns in visual data.\n",
        "**Architecture of CNN:**\n",
        "`Input Data` -> `Input Layer` -> `Convolutional layer` - `Hidden activation/non-linear activation` -> `Pooling layer` -> `Output layer/linear layer` -> `Output activation`\n",
        "\n",
        "**How it works:** https://poloclub.github.io/cnn-explainer/"
      ],
      "metadata": {
        "id": "UExj7dv5e1uf"
      }
    },
    {
      "cell_type": "code",
      "source": [
        "# Create a convolutional neural network.\n",
        "class FashionMNISTModelV2(nn.Module):\n",
        "  \"\"\"Model architeccture that replicates the TinyVGG model from CNN explainer\"\"\"\n",
        "\n",
        "  def __init__(self,\n",
        "               input_shape:  int,\n",
        "               hidden_units: int,\n",
        "               output_shape: int,):\n",
        "    super().__init__()\n",
        "    self.conv_block_1 = nn.Sequential(\n",
        "        # Create a conv layer.\n",
        "        nn.Conv2d(in_channels=input_shape,\n",
        "                  out_channels=hidden_units,\n",
        "                  kernel_size=3,\n",
        "                  stride=1,\n",
        "                  padding=1),\n",
        "        nn.ReLU(),\n",
        "        nn.Conv2d(in_channels=hidden_units,\n",
        "                  out_channels=hidden_units,\n",
        "                  kernel_size=3,\n",
        "                  stride=1,\n",
        "                  padding=1),\n",
        "        nn.ReLU(),\n",
        "        nn.MaxPool2d(kernel_size=2)\n",
        "    )\n",
        "    self.conv_block_2 = nn.Sequential(\n",
        "        nn.Conv2d(in_channels=hidden_units,\n",
        "                  out_channels=hidden_units,\n",
        "                  kernel_size=3,\n",
        "                  stride=1,\n",
        "                  padding=1),\n",
        "        nn.ReLU(),\n",
        "        nn.Conv2d(in_channels=hidden_units,\n",
        "                  out_channels=hidden_units,\n",
        "                  kernel_size=3,\n",
        "                  stride=1,\n",
        "                  padding=1),\n",
        "        nn.ReLU(),\n",
        "        nn.MaxPool2d(kernel_size=2)\n",
        "    )\n",
        "    self.classifier = nn.Sequential(\n",
        "        nn.Flatten(),\n",
        "        nn.Linear(in_features=hidden_units*7*7, # There is a trick calculating this.\n",
        "                  out_features=output_shape)\n",
        "    )\n",
        "  def forward(self, x: torch.Tensor):\n",
        "    x = self.conv_block_1(x)\n",
        "    # print(f\"After passing block 1:{x.shape}\")\n",
        "    x = self.conv_block_2(x)\n",
        "    # print(f\"After passing block 1:{x.shape}\")\n",
        "    x = self.classifier(x)\n",
        "    return x"
      ],
      "metadata": {
        "id": "2INjTlHSez5l"
      },
      "execution_count": null,
      "outputs": []
    },
    {
      "cell_type": "code",
      "source": [
        "# Create an instance of the class.\n",
        "torch.manual_seed(42)\n",
        "model_2 = FashionMNISTModelV2(input_shape=1,\n",
        "                              hidden_units=10,\n",
        "                              output_shape=len(class_names)).to(device)\n",
        "model_2"
      ],
      "metadata": {
        "colab": {
          "base_uri": "https://localhost:8080/"
        },
        "id": "53lrmFI-sN63",
        "outputId": "3a7c7adb-8cd1-4f1d-daba-0b95898b5edb"
      },
      "execution_count": null,
      "outputs": [
        {
          "output_type": "execute_result",
          "data": {
            "text/plain": [
              "FashionMNISTModelV2(\n",
              "  (conv_block_1): Sequential(\n",
              "    (0): Conv2d(1, 10, kernel_size=(3, 3), stride=(1, 1), padding=(1, 1))\n",
              "    (1): ReLU()\n",
              "    (2): Conv2d(10, 10, kernel_size=(3, 3), stride=(1, 1), padding=(1, 1))\n",
              "    (3): ReLU()\n",
              "    (4): MaxPool2d(kernel_size=2, stride=2, padding=0, dilation=1, ceil_mode=False)\n",
              "  )\n",
              "  (conv_block_2): Sequential(\n",
              "    (0): Conv2d(10, 10, kernel_size=(3, 3), stride=(1, 1), padding=(1, 1))\n",
              "    (1): ReLU()\n",
              "    (2): Conv2d(10, 10, kernel_size=(3, 3), stride=(1, 1), padding=(1, 1))\n",
              "    (3): ReLU()\n",
              "    (4): MaxPool2d(kernel_size=2, stride=2, padding=0, dilation=1, ceil_mode=False)\n",
              "  )\n",
              "  (classifier): Sequential(\n",
              "    (0): Flatten(start_dim=1, end_dim=-1)\n",
              "    (1): Linear(in_features=490, out_features=10, bias=True)\n",
              "  )\n",
              ")"
            ]
          },
          "metadata": {},
          "execution_count": 34
        }
      ]
    },
    {
      "cell_type": "markdown",
      "source": [
        "### Stepping through `nn.Conv2d`"
      ],
      "metadata": {
        "id": "3hA5yRb0s-hd"
      }
    },
    {
      "cell_type": "code",
      "source": [
        "# Creating dummy data.\n",
        "torch.manual_seed(42)\n",
        "images = torch.randn(size=(32,3,64,64))\n",
        "test_image = images[0]\n",
        "\n",
        "print(f\"Image batch shape: {images.shape}\")\n",
        "print(f\"Single image shape: {test_image.shape}\")\n",
        "print(f\"Test image:\\n {test_image}\")"
      ],
      "metadata": {
        "colab": {
          "base_uri": "https://localhost:8080/"
        },
        "id": "s2f2UHl145oH",
        "outputId": "2adb425e-99d5-4770-a795-c1eebab78e84"
      },
      "execution_count": null,
      "outputs": [
        {
          "output_type": "stream",
          "name": "stdout",
          "text": [
            "Image batch shape: torch.Size([32, 3, 64, 64])\n",
            "Single image shape: torch.Size([3, 64, 64])\n",
            "Test image:\n",
            " tensor([[[ 1.9269,  1.4873,  0.9007,  ...,  1.8446, -1.1845,  1.3835],\n",
            "         [ 1.4451,  0.8564,  2.2181,  ...,  0.3399,  0.7200,  0.4114],\n",
            "         [ 1.9312,  1.0119, -1.4364,  ..., -0.5558,  0.7043,  0.7099],\n",
            "         ...,\n",
            "         [-0.5610, -0.4830,  0.4770,  ..., -0.2713, -0.9537, -0.6737],\n",
            "         [ 0.3076, -0.1277,  0.0366,  ..., -2.0060,  0.2824, -0.8111],\n",
            "         [-1.5486,  0.0485, -0.7712,  ..., -0.1403,  0.9416, -0.0118]],\n",
            "\n",
            "        [[-0.5197,  1.8524,  1.8365,  ...,  0.8935, -1.5114, -0.8515],\n",
            "         [ 2.0818,  1.0677, -1.4277,  ...,  1.6612, -2.6223, -0.4319],\n",
            "         [-0.1010, -0.4388, -1.9775,  ...,  0.2106,  0.2536, -0.7318],\n",
            "         ...,\n",
            "         [ 0.2779,  0.7342, -0.3736,  ..., -0.4601,  0.1815,  0.1850],\n",
            "         [ 0.7205, -0.2833,  0.0937,  ..., -0.1002, -2.3609,  2.2465],\n",
            "         [-1.3242, -0.1973,  0.2920,  ...,  0.5409,  0.6940,  1.8563]],\n",
            "\n",
            "        [[-0.7978,  1.0261,  1.1465,  ...,  1.2134,  0.9354, -0.0780],\n",
            "         [-1.4647, -1.9571,  0.1017,  ..., -1.9986, -0.7409,  0.7011],\n",
            "         [-1.3938,  0.8466, -1.7191,  ..., -1.1867,  0.1320,  0.3407],\n",
            "         ...,\n",
            "         [ 0.8206, -0.3745,  1.2499,  ..., -0.0676,  0.0385,  0.6335],\n",
            "         [-0.5589, -0.3393,  0.2347,  ...,  2.1181,  2.4569,  1.3083],\n",
            "         [-0.4092,  1.5199,  0.2401,  ..., -0.2558,  0.7870,  0.9924]]])\n"
          ]
        }
      ]
    },
    {
      "cell_type": "code",
      "source": [
        "torch.manual_seed(42)\n",
        "# Create a single Conv2d layer.\n",
        "conv_layer = nn.Conv2d(in_channels=3,\n",
        "                       out_channels=10,\n",
        "                       kernel_size=(3,3),\n",
        "                       stride=1,\n",
        "                       padding=0)\n",
        "\n",
        "# Pass the data through the convolutional layer.\n",
        "conv_output = conv_layer(test_image.unsqueeze(dim=0))\n",
        "conv_output.shape\n",
        "# conv_output"
      ],
      "metadata": {
        "colab": {
          "base_uri": "https://localhost:8080/"
        },
        "id": "HlFL2Fqy56rc",
        "outputId": "86174b20-1277-42a9-b8be-8454a432f1ea"
      },
      "execution_count": null,
      "outputs": [
        {
          "output_type": "execute_result",
          "data": {
            "text/plain": [
              "torch.Size([1, 10, 62, 62])"
            ]
          },
          "metadata": {},
          "execution_count": 36
        }
      ]
    },
    {
      "cell_type": "markdown",
      "source": [
        "### Stepping through `maxpool2d`"
      ],
      "metadata": {
        "id": "RsxtInKU7wWd"
      }
    },
    {
      "cell_type": "code",
      "source": [
        "test_image.shape"
      ],
      "metadata": {
        "colab": {
          "base_uri": "https://localhost:8080/"
        },
        "id": "1gEbparG8070",
        "outputId": "9b838739-2617-4f8a-a162-cf3c4930c876"
      },
      "execution_count": null,
      "outputs": [
        {
          "output_type": "execute_result",
          "data": {
            "text/plain": [
              "torch.Size([3, 64, 64])"
            ]
          },
          "metadata": {},
          "execution_count": 37
        }
      ]
    },
    {
      "cell_type": "code",
      "source": [
        "# Print out original image shape without unsqueeze dimension.\n",
        "print(f\"Test image original shape: {test_image.shape}\")\n",
        "print(f\"Test image with unsqueezed dimension: {test_image.unsqueeze(0).shape}\")\n",
        "\n",
        "# Create a sample nn.MaxPool2d().\n",
        "max_pool_layer = nn.MaxPool2d(kernel_size=2)\n",
        "\n",
        "# Pass data through just the conv_layer.\n",
        "test_image_through_conv = conv_layer(test_image.unsqueeze(dim=0))\n",
        "print(f\"Shape after going through conv_layer(): {test_image_through_conv.shape}\")\n",
        "\n",
        "# Pass data through the max pool layer.\n",
        "test_image_through_conv_and_max_pool = max_pool_layer(test_image_through_conv)\n",
        "print(f\"Shape after going through conv_layer() and max_pool_layer(): {test_image_through_conv_and_max_pool.shape}\")\n"
      ],
      "metadata": {
        "colab": {
          "base_uri": "https://localhost:8080/"
        },
        "id": "3L0FoLB586O5",
        "outputId": "a3291b3f-b323-4b57-8f4c-d7e0fe67d42b"
      },
      "execution_count": null,
      "outputs": [
        {
          "output_type": "stream",
          "name": "stdout",
          "text": [
            "Test image original shape: torch.Size([3, 64, 64])\n",
            "Test image with unsqueezed dimension: torch.Size([1, 3, 64, 64])\n",
            "Shape after going through conv_layer(): torch.Size([1, 10, 62, 62])\n",
            "Shape after going through conv_layer() and max_pool_layer(): torch.Size([1, 10, 31, 31])\n"
          ]
        }
      ]
    },
    {
      "cell_type": "markdown",
      "source": [
        "## Training CNN."
      ],
      "metadata": {
        "id": "i1M8hNKSYBP5"
      }
    },
    {
      "cell_type": "markdown",
      "source": [
        "### Setup loss and optimizer."
      ],
      "metadata": {
        "id": "b7EfA67DYG3N"
      }
    },
    {
      "cell_type": "code",
      "source": [
        "# Setup loss function/eval metrics/ optimizer.\n",
        "from helper_functions import accuracy_fn\n",
        "loss_fn = nn.CrossEntropyLoss()\n",
        "optimizer = torch.optim.SGD(params=model_2.parameters(), lr=0.1)\n"
      ],
      "metadata": {
        "id": "jNxl3GnvYKLY"
      },
      "execution_count": null,
      "outputs": []
    },
    {
      "cell_type": "markdown",
      "source": [
        "### Training and Testing `model_2` using train_step and test_step functions."
      ],
      "metadata": {
        "id": "kQkPVxt8Yezf"
      }
    },
    {
      "cell_type": "code",
      "source": [
        "torch.manual_seed(42)\n",
        "\n",
        "# Measure time.\n",
        "from timeit import default_timer as timer\n",
        "train_time_start_model_2 = timer()\n",
        "\n",
        "# Train and test model.\n",
        "epochs = 3\n",
        "print(f\"Initializing training....\")\n",
        "for epoch in tqdm(range(epochs)):\n",
        "  print(f\"Epoch: {epoch}\\n-------\")\n",
        "  ### Training.\n",
        "  train_step(model=model_2,\n",
        "             data_loader=train_dataloader,\n",
        "             loss_fn=loss_fn,\n",
        "             optimizer=optimizer,\n",
        "             accuracy_fn=accuracy_fn,\n",
        "             device=device)\n",
        "  ### Testing.\n",
        "  test_step(model=model_2,\n",
        "            data_loader=test_dataloader,\n",
        "            loss_fn=loss_fn,\n",
        "            accuracy_fn=accuracy_fn,\n",
        "            device=device)\n",
        "\n",
        "print(f\"Training successfully completed....\")\n",
        "train_time_end_model_2 = timer()\n",
        "total_train_time_model_2 = print_train_time(start=train_time_start_model_2,\n",
        "                                            end=train_time_end_model_2,\n",
        "                                            device=device)"
      ],
      "metadata": {
        "colab": {
          "base_uri": "https://localhost:8080/",
          "referenced_widgets": [
            "26ffd1f3f71346f4a6077d0b4f8fa1c1",
            "68d63a134e1446f3a19abceecffaa677",
            "9b912bfdb28d400d8c8fbe449701e775",
            "abdb729c44fb44a9aa03ba083f4fea0b",
            "fea886cb0f0b4dcab3e8929d662aab8a",
            "66818f9dd2bd4e2a997791ab796026c1",
            "54566ee07cd444a8b45aaf000ae828db",
            "47e2e71d19674e6da929cf0d44fc727e",
            "9daca57be8c74cb8b0618596e620a8df",
            "b034967941b749bb93a1fc634296a54b",
            "aef1a233180c459698988f5d1bdae038"
          ]
        },
        "id": "nE6IGHOrYl1d",
        "outputId": "1eb888ec-2b90-4593-e028-87d98a81be4d"
      },
      "execution_count": null,
      "outputs": [
        {
          "output_type": "stream",
          "name": "stdout",
          "text": [
            "Initializing training....\n"
          ]
        },
        {
          "output_type": "display_data",
          "data": {
            "text/plain": [
              "  0%|          | 0/3 [00:00<?, ?it/s]"
            ],
            "application/vnd.jupyter.widget-view+json": {
              "version_major": 2,
              "version_minor": 0,
              "model_id": "26ffd1f3f71346f4a6077d0b4f8fa1c1"
            }
          },
          "metadata": {}
        },
        {
          "output_type": "stream",
          "name": "stdout",
          "text": [
            "Epoch: 0\n",
            "-------\n",
            "Train Loss: 0.59518 | Train Accuracy: 78.38\n",
            "Test Loss: 0.39500 | Test Accuracy: 85.99\n",
            "Epoch: 1\n",
            "-------\n",
            "Train Loss: 0.36536 | Train Accuracy: 86.90\n",
            "Test Loss: 0.35244 | Test Accuracy: 86.91\n",
            "Epoch: 2\n",
            "-------\n",
            "Train Loss: 0.32588 | Train Accuracy: 88.13\n",
            "Test Loss: 0.32719 | Test Accuracy: 88.07\n",
            "Training successfully completed....\n",
            "Train time on cpu: 180.786 seconds\n"
          ]
        }
      ]
    },
    {
      "cell_type": "markdown",
      "source": [
        "### Get model_2 results."
      ],
      "metadata": {
        "id": "xtrUNZsjbWTN"
      }
    },
    {
      "cell_type": "code",
      "source": [
        "model_2_results = eval_model(model=model_2,\n",
        "                          data_loader=test_dataloader,\n",
        "                          loss_fn=loss_fn,\n",
        "                          accuracy_fn=accuracy_fn)\n",
        "model_2_results"
      ],
      "metadata": {
        "colab": {
          "base_uri": "https://localhost:8080/",
          "referenced_widgets": [
            "86da4ddb9d234110b469785b36bd5188",
            "1117bc7e6e8f4bae94462e05b2bb9a09",
            "f94c5e48ad8d4dff882547c44d578dbd",
            "ff02b07fae94404faeade51e78c820b6",
            "cd76cfdcd9f54f1ebabf325da5eee5b8",
            "016345ae49864f76abf3337ff13f7e5b",
            "b31bb47144094e38ba9be7a7ac43c72e",
            "4bcb5bf6b8a6485383850730a9c34976",
            "966cc07e8c084b28bab292c3d47924df",
            "d8065463c8754ed4b6c47ae354f1b908",
            "ab8f614fcd4349ff9f72777df769b60a"
          ]
        },
        "id": "ZkWGXgeSaQJV",
        "outputId": "8d778784-737f-4b30-fa88-b507a376b68a"
      },
      "execution_count": null,
      "outputs": [
        {
          "output_type": "display_data",
          "data": {
            "text/plain": [
              "  0%|          | 0/313 [00:00<?, ?it/s]"
            ],
            "application/vnd.jupyter.widget-view+json": {
              "version_major": 2,
              "version_minor": 0,
              "model_id": "86da4ddb9d234110b469785b36bd5188"
            }
          },
          "metadata": {}
        },
        {
          "output_type": "execute_result",
          "data": {
            "text/plain": [
              "{'model_name': 'FashionMNISTModelV2',\n",
              " 'model_loss': 0.32718968391418457,\n",
              " 'model_acc': 88.06908945686901}"
            ]
          },
          "metadata": {},
          "execution_count": 41
        }
      ]
    },
    {
      "cell_type": "code",
      "source": [
        "model_0_results"
      ],
      "metadata": {
        "colab": {
          "base_uri": "https://localhost:8080/"
        },
        "id": "TGAeyVL7bimN",
        "outputId": "b4b8dc74-bd3b-4766-ff33-0838d684e9d8"
      },
      "execution_count": null,
      "outputs": [
        {
          "output_type": "execute_result",
          "data": {
            "text/plain": [
              "{'model_name': 'FashionMNISTModelV0',\n",
              " 'model_loss': 0.47663894295692444,\n",
              " 'model_acc': 83.42651757188499}"
            ]
          },
          "metadata": {},
          "execution_count": 42
        }
      ]
    },
    {
      "cell_type": "code",
      "source": [
        "model_1_results"
      ],
      "metadata": {
        "colab": {
          "base_uri": "https://localhost:8080/"
        },
        "id": "7Bmhw1Dcbn55",
        "outputId": "e8959b53-ab6d-4690-f3ac-1af70b0a4524"
      },
      "execution_count": null,
      "outputs": [
        {
          "output_type": "execute_result",
          "data": {
            "text/plain": [
              "{'model_name': 'FashionMNISTModelV1',\n",
              " 'model_loss': 0.6850009560585022,\n",
              " 'model_acc': 75.01996805111821}"
            ]
          },
          "metadata": {},
          "execution_count": 43
        }
      ]
    },
    {
      "cell_type": "markdown",
      "source": [
        "# Comparing model results and training time."
      ],
      "metadata": {
        "id": "XPgbCt0rbzav"
      }
    },
    {
      "cell_type": "code",
      "source": [
        "import pandas as pd\n",
        "compare_results = pd.DataFrame([model_0_results,\n",
        "                            model_1_results,\n",
        "                            model_2_results])\n",
        "compare_results"
      ],
      "metadata": {
        "colab": {
          "base_uri": "https://localhost:8080/"
        },
        "id": "KcN9Ek4-bptB",
        "outputId": "ecbfcbd6-e493-4b34-a0ff-c33d78324075"
      },
      "execution_count": null,
      "outputs": [
        {
          "output_type": "execute_result",
          "data": {
            "text/plain": [
              "            model_name  model_loss  model_acc\n",
              "0  FashionMNISTModelV0    0.476639  83.426518\n",
              "1  FashionMNISTModelV1    0.685001  75.019968\n",
              "2  FashionMNISTModelV2    0.327190  88.069089"
            ],
            "text/html": [
              "\n",
              "  <div id=\"df-07843056-c3fb-487d-ad74-a4a48776a600\" class=\"colab-df-container\">\n",
              "    <div>\n",
              "<style scoped>\n",
              "    .dataframe tbody tr th:only-of-type {\n",
              "        vertical-align: middle;\n",
              "    }\n",
              "\n",
              "    .dataframe tbody tr th {\n",
              "        vertical-align: top;\n",
              "    }\n",
              "\n",
              "    .dataframe thead th {\n",
              "        text-align: right;\n",
              "    }\n",
              "</style>\n",
              "<table border=\"1\" class=\"dataframe\">\n",
              "  <thead>\n",
              "    <tr style=\"text-align: right;\">\n",
              "      <th></th>\n",
              "      <th>model_name</th>\n",
              "      <th>model_loss</th>\n",
              "      <th>model_acc</th>\n",
              "    </tr>\n",
              "  </thead>\n",
              "  <tbody>\n",
              "    <tr>\n",
              "      <th>0</th>\n",
              "      <td>FashionMNISTModelV0</td>\n",
              "      <td>0.476639</td>\n",
              "      <td>83.426518</td>\n",
              "    </tr>\n",
              "    <tr>\n",
              "      <th>1</th>\n",
              "      <td>FashionMNISTModelV1</td>\n",
              "      <td>0.685001</td>\n",
              "      <td>75.019968</td>\n",
              "    </tr>\n",
              "    <tr>\n",
              "      <th>2</th>\n",
              "      <td>FashionMNISTModelV2</td>\n",
              "      <td>0.327190</td>\n",
              "      <td>88.069089</td>\n",
              "    </tr>\n",
              "  </tbody>\n",
              "</table>\n",
              "</div>\n",
              "    <div class=\"colab-df-buttons\">\n",
              "\n",
              "  <div class=\"colab-df-container\">\n",
              "    <button class=\"colab-df-convert\" onclick=\"convertToInteractive('df-07843056-c3fb-487d-ad74-a4a48776a600')\"\n",
              "            title=\"Convert this dataframe to an interactive table.\"\n",
              "            style=\"display:none;\">\n",
              "\n",
              "  <svg xmlns=\"http://www.w3.org/2000/svg\" height=\"24px\" viewBox=\"0 -960 960 960\">\n",
              "    <path d=\"M120-120v-720h720v720H120Zm60-500h600v-160H180v160Zm220 220h160v-160H400v160Zm0 220h160v-160H400v160ZM180-400h160v-160H180v160Zm440 0h160v-160H620v160ZM180-180h160v-160H180v160Zm440 0h160v-160H620v160Z\"/>\n",
              "  </svg>\n",
              "    </button>\n",
              "\n",
              "  <style>\n",
              "    .colab-df-container {\n",
              "      display:flex;\n",
              "      gap: 12px;\n",
              "    }\n",
              "\n",
              "    .colab-df-convert {\n",
              "      background-color: #E8F0FE;\n",
              "      border: none;\n",
              "      border-radius: 50%;\n",
              "      cursor: pointer;\n",
              "      display: none;\n",
              "      fill: #1967D2;\n",
              "      height: 32px;\n",
              "      padding: 0 0 0 0;\n",
              "      width: 32px;\n",
              "    }\n",
              "\n",
              "    .colab-df-convert:hover {\n",
              "      background-color: #E2EBFA;\n",
              "      box-shadow: 0px 1px 2px rgba(60, 64, 67, 0.3), 0px 1px 3px 1px rgba(60, 64, 67, 0.15);\n",
              "      fill: #174EA6;\n",
              "    }\n",
              "\n",
              "    .colab-df-buttons div {\n",
              "      margin-bottom: 4px;\n",
              "    }\n",
              "\n",
              "    [theme=dark] .colab-df-convert {\n",
              "      background-color: #3B4455;\n",
              "      fill: #D2E3FC;\n",
              "    }\n",
              "\n",
              "    [theme=dark] .colab-df-convert:hover {\n",
              "      background-color: #434B5C;\n",
              "      box-shadow: 0px 1px 3px 1px rgba(0, 0, 0, 0.15);\n",
              "      filter: drop-shadow(0px 1px 2px rgba(0, 0, 0, 0.3));\n",
              "      fill: #FFFFFF;\n",
              "    }\n",
              "  </style>\n",
              "\n",
              "    <script>\n",
              "      const buttonEl =\n",
              "        document.querySelector('#df-07843056-c3fb-487d-ad74-a4a48776a600 button.colab-df-convert');\n",
              "      buttonEl.style.display =\n",
              "        google.colab.kernel.accessAllowed ? 'block' : 'none';\n",
              "\n",
              "      async function convertToInteractive(key) {\n",
              "        const element = document.querySelector('#df-07843056-c3fb-487d-ad74-a4a48776a600');\n",
              "        const dataTable =\n",
              "          await google.colab.kernel.invokeFunction('convertToInteractive',\n",
              "                                                    [key], {});\n",
              "        if (!dataTable) return;\n",
              "\n",
              "        const docLinkHtml = 'Like what you see? Visit the ' +\n",
              "          '<a target=\"_blank\" href=https://colab.research.google.com/notebooks/data_table.ipynb>data table notebook</a>'\n",
              "          + ' to learn more about interactive tables.';\n",
              "        element.innerHTML = '';\n",
              "        dataTable['output_type'] = 'display_data';\n",
              "        await google.colab.output.renderOutput(dataTable, element);\n",
              "        const docLink = document.createElement('div');\n",
              "        docLink.innerHTML = docLinkHtml;\n",
              "        element.appendChild(docLink);\n",
              "      }\n",
              "    </script>\n",
              "  </div>\n",
              "\n",
              "\n",
              "<div id=\"df-cf5ecfab-db03-4ad8-b31e-8901036e5b55\">\n",
              "  <button class=\"colab-df-quickchart\" onclick=\"quickchart('df-cf5ecfab-db03-4ad8-b31e-8901036e5b55')\"\n",
              "            title=\"Suggest charts\"\n",
              "            style=\"display:none;\">\n",
              "\n",
              "<svg xmlns=\"http://www.w3.org/2000/svg\" height=\"24px\"viewBox=\"0 0 24 24\"\n",
              "     width=\"24px\">\n",
              "    <g>\n",
              "        <path d=\"M19 3H5c-1.1 0-2 .9-2 2v14c0 1.1.9 2 2 2h14c1.1 0 2-.9 2-2V5c0-1.1-.9-2-2-2zM9 17H7v-7h2v7zm4 0h-2V7h2v10zm4 0h-2v-4h2v4z\"/>\n",
              "    </g>\n",
              "</svg>\n",
              "  </button>\n",
              "\n",
              "<style>\n",
              "  .colab-df-quickchart {\n",
              "      --bg-color: #E8F0FE;\n",
              "      --fill-color: #1967D2;\n",
              "      --hover-bg-color: #E2EBFA;\n",
              "      --hover-fill-color: #174EA6;\n",
              "      --disabled-fill-color: #AAA;\n",
              "      --disabled-bg-color: #DDD;\n",
              "  }\n",
              "\n",
              "  [theme=dark] .colab-df-quickchart {\n",
              "      --bg-color: #3B4455;\n",
              "      --fill-color: #D2E3FC;\n",
              "      --hover-bg-color: #434B5C;\n",
              "      --hover-fill-color: #FFFFFF;\n",
              "      --disabled-bg-color: #3B4455;\n",
              "      --disabled-fill-color: #666;\n",
              "  }\n",
              "\n",
              "  .colab-df-quickchart {\n",
              "    background-color: var(--bg-color);\n",
              "    border: none;\n",
              "    border-radius: 50%;\n",
              "    cursor: pointer;\n",
              "    display: none;\n",
              "    fill: var(--fill-color);\n",
              "    height: 32px;\n",
              "    padding: 0;\n",
              "    width: 32px;\n",
              "  }\n",
              "\n",
              "  .colab-df-quickchart:hover {\n",
              "    background-color: var(--hover-bg-color);\n",
              "    box-shadow: 0 1px 2px rgba(60, 64, 67, 0.3), 0 1px 3px 1px rgba(60, 64, 67, 0.15);\n",
              "    fill: var(--button-hover-fill-color);\n",
              "  }\n",
              "\n",
              "  .colab-df-quickchart-complete:disabled,\n",
              "  .colab-df-quickchart-complete:disabled:hover {\n",
              "    background-color: var(--disabled-bg-color);\n",
              "    fill: var(--disabled-fill-color);\n",
              "    box-shadow: none;\n",
              "  }\n",
              "\n",
              "  .colab-df-spinner {\n",
              "    border: 2px solid var(--fill-color);\n",
              "    border-color: transparent;\n",
              "    border-bottom-color: var(--fill-color);\n",
              "    animation:\n",
              "      spin 1s steps(1) infinite;\n",
              "  }\n",
              "\n",
              "  @keyframes spin {\n",
              "    0% {\n",
              "      border-color: transparent;\n",
              "      border-bottom-color: var(--fill-color);\n",
              "      border-left-color: var(--fill-color);\n",
              "    }\n",
              "    20% {\n",
              "      border-color: transparent;\n",
              "      border-left-color: var(--fill-color);\n",
              "      border-top-color: var(--fill-color);\n",
              "    }\n",
              "    30% {\n",
              "      border-color: transparent;\n",
              "      border-left-color: var(--fill-color);\n",
              "      border-top-color: var(--fill-color);\n",
              "      border-right-color: var(--fill-color);\n",
              "    }\n",
              "    40% {\n",
              "      border-color: transparent;\n",
              "      border-right-color: var(--fill-color);\n",
              "      border-top-color: var(--fill-color);\n",
              "    }\n",
              "    60% {\n",
              "      border-color: transparent;\n",
              "      border-right-color: var(--fill-color);\n",
              "    }\n",
              "    80% {\n",
              "      border-color: transparent;\n",
              "      border-right-color: var(--fill-color);\n",
              "      border-bottom-color: var(--fill-color);\n",
              "    }\n",
              "    90% {\n",
              "      border-color: transparent;\n",
              "      border-bottom-color: var(--fill-color);\n",
              "    }\n",
              "  }\n",
              "</style>\n",
              "\n",
              "  <script>\n",
              "    async function quickchart(key) {\n",
              "      const quickchartButtonEl =\n",
              "        document.querySelector('#' + key + ' button');\n",
              "      quickchartButtonEl.disabled = true;  // To prevent multiple clicks.\n",
              "      quickchartButtonEl.classList.add('colab-df-spinner');\n",
              "      try {\n",
              "        const charts = await google.colab.kernel.invokeFunction(\n",
              "            'suggestCharts', [key], {});\n",
              "      } catch (error) {\n",
              "        console.error('Error during call to suggestCharts:', error);\n",
              "      }\n",
              "      quickchartButtonEl.classList.remove('colab-df-spinner');\n",
              "      quickchartButtonEl.classList.add('colab-df-quickchart-complete');\n",
              "    }\n",
              "    (() => {\n",
              "      let quickchartButtonEl =\n",
              "        document.querySelector('#df-cf5ecfab-db03-4ad8-b31e-8901036e5b55 button');\n",
              "      quickchartButtonEl.style.display =\n",
              "        google.colab.kernel.accessAllowed ? 'block' : 'none';\n",
              "    })();\n",
              "  </script>\n",
              "</div>\n",
              "\n",
              "  <div id=\"id_c6146f51-2d6b-4551-b718-91cda1ff0a31\">\n",
              "    <style>\n",
              "      .colab-df-generate {\n",
              "        background-color: #E8F0FE;\n",
              "        border: none;\n",
              "        border-radius: 50%;\n",
              "        cursor: pointer;\n",
              "        display: none;\n",
              "        fill: #1967D2;\n",
              "        height: 32px;\n",
              "        padding: 0 0 0 0;\n",
              "        width: 32px;\n",
              "      }\n",
              "\n",
              "      .colab-df-generate:hover {\n",
              "        background-color: #E2EBFA;\n",
              "        box-shadow: 0px 1px 2px rgba(60, 64, 67, 0.3), 0px 1px 3px 1px rgba(60, 64, 67, 0.15);\n",
              "        fill: #174EA6;\n",
              "      }\n",
              "\n",
              "      [theme=dark] .colab-df-generate {\n",
              "        background-color: #3B4455;\n",
              "        fill: #D2E3FC;\n",
              "      }\n",
              "\n",
              "      [theme=dark] .colab-df-generate:hover {\n",
              "        background-color: #434B5C;\n",
              "        box-shadow: 0px 1px 3px 1px rgba(0, 0, 0, 0.15);\n",
              "        filter: drop-shadow(0px 1px 2px rgba(0, 0, 0, 0.3));\n",
              "        fill: #FFFFFF;\n",
              "      }\n",
              "    </style>\n",
              "    <button class=\"colab-df-generate\" onclick=\"generateWithVariable('compare_results')\"\n",
              "            title=\"Generate code using this dataframe.\"\n",
              "            style=\"display:none;\">\n",
              "\n",
              "  <svg xmlns=\"http://www.w3.org/2000/svg\" height=\"24px\"viewBox=\"0 0 24 24\"\n",
              "       width=\"24px\">\n",
              "    <path d=\"M7,19H8.4L18.45,9,17,7.55,7,17.6ZM5,21V16.75L18.45,3.32a2,2,0,0,1,2.83,0l1.4,1.43a1.91,1.91,0,0,1,.58,1.4,1.91,1.91,0,0,1-.58,1.4L9.25,21ZM18.45,9,17,7.55Zm-12,3A5.31,5.31,0,0,0,4.9,8.1,5.31,5.31,0,0,0,1,6.5,5.31,5.31,0,0,0,4.9,4.9,5.31,5.31,0,0,0,6.5,1,5.31,5.31,0,0,0,8.1,4.9,5.31,5.31,0,0,0,12,6.5,5.46,5.46,0,0,0,6.5,12Z\"/>\n",
              "  </svg>\n",
              "    </button>\n",
              "    <script>\n",
              "      (() => {\n",
              "      const buttonEl =\n",
              "        document.querySelector('#id_c6146f51-2d6b-4551-b718-91cda1ff0a31 button.colab-df-generate');\n",
              "      buttonEl.style.display =\n",
              "        google.colab.kernel.accessAllowed ? 'block' : 'none';\n",
              "\n",
              "      buttonEl.onclick = () => {\n",
              "        google.colab.notebook.generateWithVariable('compare_results');\n",
              "      }\n",
              "      })();\n",
              "    </script>\n",
              "  </div>\n",
              "\n",
              "    </div>\n",
              "  </div>\n"
            ],
            "application/vnd.google.colaboratory.intrinsic+json": {
              "type": "dataframe",
              "variable_name": "compare_results",
              "summary": "{\n  \"name\": \"compare_results\",\n  \"rows\": 3,\n  \"fields\": [\n    {\n      \"column\": \"model_name\",\n      \"properties\": {\n        \"dtype\": \"string\",\n        \"num_unique_values\": 3,\n        \"samples\": [\n          \"FashionMNISTModelV0\",\n          \"FashionMNISTModelV1\",\n          \"FashionMNISTModelV2\"\n        ],\n        \"semantic_type\": \"\",\n        \"description\": \"\"\n      }\n    },\n    {\n      \"column\": \"model_loss\",\n      \"properties\": {\n        \"dtype\": \"number\",\n        \"std\": 0.17971213834245262,\n        \"min\": 0.32718968391418457,\n        \"max\": 0.6850009560585022,\n        \"num_unique_values\": 3,\n        \"samples\": [\n          0.47663894295692444,\n          0.6850009560585022,\n          0.32718968391418457\n        ],\n        \"semantic_type\": \"\",\n        \"description\": \"\"\n      }\n    },\n    {\n      \"column\": \"model_acc\",\n      \"properties\": {\n        \"dtype\": \"number\",\n        \"std\": 6.614417560833454,\n        \"min\": 75.01996805111821,\n        \"max\": 88.06908945686901,\n        \"num_unique_values\": 3,\n        \"samples\": [\n          83.42651757188499,\n          75.01996805111821,\n          88.06908945686901\n        ],\n        \"semantic_type\": \"\",\n        \"description\": \"\"\n      }\n    }\n  ]\n}"
            }
          },
          "metadata": {},
          "execution_count": 44
        }
      ]
    },
    {
      "cell_type": "code",
      "source": [
        "# Add Training time to results comparision.\n",
        "compare_results[\"traininf time\"] = [total_train_time_model_0,\n",
        "                                    total_train_time_model_1,\n",
        "                                    total_train_time_model_2]\n",
        "\n",
        "compare_results"
      ],
      "metadata": {
        "colab": {
          "base_uri": "https://localhost:8080/"
        },
        "id": "zX5E7PoQb_Il",
        "outputId": "3383f6be-6d92-455a-c4fd-4494976e45e1"
      },
      "execution_count": null,
      "outputs": [
        {
          "output_type": "execute_result",
          "data": {
            "text/plain": [
              "            model_name  model_loss  model_acc  traininf time\n",
              "0  FashionMNISTModelV0    0.476639  83.426518      35.630539\n",
              "1  FashionMNISTModelV1    0.685001  75.019968      36.807917\n",
              "2  FashionMNISTModelV2    0.327190  88.069089     180.785539"
            ],
            "text/html": [
              "\n",
              "  <div id=\"df-8876d1ef-771c-44db-98d1-46082e3ccc3c\" class=\"colab-df-container\">\n",
              "    <div>\n",
              "<style scoped>\n",
              "    .dataframe tbody tr th:only-of-type {\n",
              "        vertical-align: middle;\n",
              "    }\n",
              "\n",
              "    .dataframe tbody tr th {\n",
              "        vertical-align: top;\n",
              "    }\n",
              "\n",
              "    .dataframe thead th {\n",
              "        text-align: right;\n",
              "    }\n",
              "</style>\n",
              "<table border=\"1\" class=\"dataframe\">\n",
              "  <thead>\n",
              "    <tr style=\"text-align: right;\">\n",
              "      <th></th>\n",
              "      <th>model_name</th>\n",
              "      <th>model_loss</th>\n",
              "      <th>model_acc</th>\n",
              "      <th>traininf time</th>\n",
              "    </tr>\n",
              "  </thead>\n",
              "  <tbody>\n",
              "    <tr>\n",
              "      <th>0</th>\n",
              "      <td>FashionMNISTModelV0</td>\n",
              "      <td>0.476639</td>\n",
              "      <td>83.426518</td>\n",
              "      <td>35.630539</td>\n",
              "    </tr>\n",
              "    <tr>\n",
              "      <th>1</th>\n",
              "      <td>FashionMNISTModelV1</td>\n",
              "      <td>0.685001</td>\n",
              "      <td>75.019968</td>\n",
              "      <td>36.807917</td>\n",
              "    </tr>\n",
              "    <tr>\n",
              "      <th>2</th>\n",
              "      <td>FashionMNISTModelV2</td>\n",
              "      <td>0.327190</td>\n",
              "      <td>88.069089</td>\n",
              "      <td>180.785539</td>\n",
              "    </tr>\n",
              "  </tbody>\n",
              "</table>\n",
              "</div>\n",
              "    <div class=\"colab-df-buttons\">\n",
              "\n",
              "  <div class=\"colab-df-container\">\n",
              "    <button class=\"colab-df-convert\" onclick=\"convertToInteractive('df-8876d1ef-771c-44db-98d1-46082e3ccc3c')\"\n",
              "            title=\"Convert this dataframe to an interactive table.\"\n",
              "            style=\"display:none;\">\n",
              "\n",
              "  <svg xmlns=\"http://www.w3.org/2000/svg\" height=\"24px\" viewBox=\"0 -960 960 960\">\n",
              "    <path d=\"M120-120v-720h720v720H120Zm60-500h600v-160H180v160Zm220 220h160v-160H400v160Zm0 220h160v-160H400v160ZM180-400h160v-160H180v160Zm440 0h160v-160H620v160ZM180-180h160v-160H180v160Zm440 0h160v-160H620v160Z\"/>\n",
              "  </svg>\n",
              "    </button>\n",
              "\n",
              "  <style>\n",
              "    .colab-df-container {\n",
              "      display:flex;\n",
              "      gap: 12px;\n",
              "    }\n",
              "\n",
              "    .colab-df-convert {\n",
              "      background-color: #E8F0FE;\n",
              "      border: none;\n",
              "      border-radius: 50%;\n",
              "      cursor: pointer;\n",
              "      display: none;\n",
              "      fill: #1967D2;\n",
              "      height: 32px;\n",
              "      padding: 0 0 0 0;\n",
              "      width: 32px;\n",
              "    }\n",
              "\n",
              "    .colab-df-convert:hover {\n",
              "      background-color: #E2EBFA;\n",
              "      box-shadow: 0px 1px 2px rgba(60, 64, 67, 0.3), 0px 1px 3px 1px rgba(60, 64, 67, 0.15);\n",
              "      fill: #174EA6;\n",
              "    }\n",
              "\n",
              "    .colab-df-buttons div {\n",
              "      margin-bottom: 4px;\n",
              "    }\n",
              "\n",
              "    [theme=dark] .colab-df-convert {\n",
              "      background-color: #3B4455;\n",
              "      fill: #D2E3FC;\n",
              "    }\n",
              "\n",
              "    [theme=dark] .colab-df-convert:hover {\n",
              "      background-color: #434B5C;\n",
              "      box-shadow: 0px 1px 3px 1px rgba(0, 0, 0, 0.15);\n",
              "      filter: drop-shadow(0px 1px 2px rgba(0, 0, 0, 0.3));\n",
              "      fill: #FFFFFF;\n",
              "    }\n",
              "  </style>\n",
              "\n",
              "    <script>\n",
              "      const buttonEl =\n",
              "        document.querySelector('#df-8876d1ef-771c-44db-98d1-46082e3ccc3c button.colab-df-convert');\n",
              "      buttonEl.style.display =\n",
              "        google.colab.kernel.accessAllowed ? 'block' : 'none';\n",
              "\n",
              "      async function convertToInteractive(key) {\n",
              "        const element = document.querySelector('#df-8876d1ef-771c-44db-98d1-46082e3ccc3c');\n",
              "        const dataTable =\n",
              "          await google.colab.kernel.invokeFunction('convertToInteractive',\n",
              "                                                    [key], {});\n",
              "        if (!dataTable) return;\n",
              "\n",
              "        const docLinkHtml = 'Like what you see? Visit the ' +\n",
              "          '<a target=\"_blank\" href=https://colab.research.google.com/notebooks/data_table.ipynb>data table notebook</a>'\n",
              "          + ' to learn more about interactive tables.';\n",
              "        element.innerHTML = '';\n",
              "        dataTable['output_type'] = 'display_data';\n",
              "        await google.colab.output.renderOutput(dataTable, element);\n",
              "        const docLink = document.createElement('div');\n",
              "        docLink.innerHTML = docLinkHtml;\n",
              "        element.appendChild(docLink);\n",
              "      }\n",
              "    </script>\n",
              "  </div>\n",
              "\n",
              "\n",
              "<div id=\"df-7eca7317-320a-4f5e-940e-eb7251ac2532\">\n",
              "  <button class=\"colab-df-quickchart\" onclick=\"quickchart('df-7eca7317-320a-4f5e-940e-eb7251ac2532')\"\n",
              "            title=\"Suggest charts\"\n",
              "            style=\"display:none;\">\n",
              "\n",
              "<svg xmlns=\"http://www.w3.org/2000/svg\" height=\"24px\"viewBox=\"0 0 24 24\"\n",
              "     width=\"24px\">\n",
              "    <g>\n",
              "        <path d=\"M19 3H5c-1.1 0-2 .9-2 2v14c0 1.1.9 2 2 2h14c1.1 0 2-.9 2-2V5c0-1.1-.9-2-2-2zM9 17H7v-7h2v7zm4 0h-2V7h2v10zm4 0h-2v-4h2v4z\"/>\n",
              "    </g>\n",
              "</svg>\n",
              "  </button>\n",
              "\n",
              "<style>\n",
              "  .colab-df-quickchart {\n",
              "      --bg-color: #E8F0FE;\n",
              "      --fill-color: #1967D2;\n",
              "      --hover-bg-color: #E2EBFA;\n",
              "      --hover-fill-color: #174EA6;\n",
              "      --disabled-fill-color: #AAA;\n",
              "      --disabled-bg-color: #DDD;\n",
              "  }\n",
              "\n",
              "  [theme=dark] .colab-df-quickchart {\n",
              "      --bg-color: #3B4455;\n",
              "      --fill-color: #D2E3FC;\n",
              "      --hover-bg-color: #434B5C;\n",
              "      --hover-fill-color: #FFFFFF;\n",
              "      --disabled-bg-color: #3B4455;\n",
              "      --disabled-fill-color: #666;\n",
              "  }\n",
              "\n",
              "  .colab-df-quickchart {\n",
              "    background-color: var(--bg-color);\n",
              "    border: none;\n",
              "    border-radius: 50%;\n",
              "    cursor: pointer;\n",
              "    display: none;\n",
              "    fill: var(--fill-color);\n",
              "    height: 32px;\n",
              "    padding: 0;\n",
              "    width: 32px;\n",
              "  }\n",
              "\n",
              "  .colab-df-quickchart:hover {\n",
              "    background-color: var(--hover-bg-color);\n",
              "    box-shadow: 0 1px 2px rgba(60, 64, 67, 0.3), 0 1px 3px 1px rgba(60, 64, 67, 0.15);\n",
              "    fill: var(--button-hover-fill-color);\n",
              "  }\n",
              "\n",
              "  .colab-df-quickchart-complete:disabled,\n",
              "  .colab-df-quickchart-complete:disabled:hover {\n",
              "    background-color: var(--disabled-bg-color);\n",
              "    fill: var(--disabled-fill-color);\n",
              "    box-shadow: none;\n",
              "  }\n",
              "\n",
              "  .colab-df-spinner {\n",
              "    border: 2px solid var(--fill-color);\n",
              "    border-color: transparent;\n",
              "    border-bottom-color: var(--fill-color);\n",
              "    animation:\n",
              "      spin 1s steps(1) infinite;\n",
              "  }\n",
              "\n",
              "  @keyframes spin {\n",
              "    0% {\n",
              "      border-color: transparent;\n",
              "      border-bottom-color: var(--fill-color);\n",
              "      border-left-color: var(--fill-color);\n",
              "    }\n",
              "    20% {\n",
              "      border-color: transparent;\n",
              "      border-left-color: var(--fill-color);\n",
              "      border-top-color: var(--fill-color);\n",
              "    }\n",
              "    30% {\n",
              "      border-color: transparent;\n",
              "      border-left-color: var(--fill-color);\n",
              "      border-top-color: var(--fill-color);\n",
              "      border-right-color: var(--fill-color);\n",
              "    }\n",
              "    40% {\n",
              "      border-color: transparent;\n",
              "      border-right-color: var(--fill-color);\n",
              "      border-top-color: var(--fill-color);\n",
              "    }\n",
              "    60% {\n",
              "      border-color: transparent;\n",
              "      border-right-color: var(--fill-color);\n",
              "    }\n",
              "    80% {\n",
              "      border-color: transparent;\n",
              "      border-right-color: var(--fill-color);\n",
              "      border-bottom-color: var(--fill-color);\n",
              "    }\n",
              "    90% {\n",
              "      border-color: transparent;\n",
              "      border-bottom-color: var(--fill-color);\n",
              "    }\n",
              "  }\n",
              "</style>\n",
              "\n",
              "  <script>\n",
              "    async function quickchart(key) {\n",
              "      const quickchartButtonEl =\n",
              "        document.querySelector('#' + key + ' button');\n",
              "      quickchartButtonEl.disabled = true;  // To prevent multiple clicks.\n",
              "      quickchartButtonEl.classList.add('colab-df-spinner');\n",
              "      try {\n",
              "        const charts = await google.colab.kernel.invokeFunction(\n",
              "            'suggestCharts', [key], {});\n",
              "      } catch (error) {\n",
              "        console.error('Error during call to suggestCharts:', error);\n",
              "      }\n",
              "      quickchartButtonEl.classList.remove('colab-df-spinner');\n",
              "      quickchartButtonEl.classList.add('colab-df-quickchart-complete');\n",
              "    }\n",
              "    (() => {\n",
              "      let quickchartButtonEl =\n",
              "        document.querySelector('#df-7eca7317-320a-4f5e-940e-eb7251ac2532 button');\n",
              "      quickchartButtonEl.style.display =\n",
              "        google.colab.kernel.accessAllowed ? 'block' : 'none';\n",
              "    })();\n",
              "  </script>\n",
              "</div>\n",
              "\n",
              "  <div id=\"id_b5195ce1-54c8-436e-a3e0-945f52b4644b\">\n",
              "    <style>\n",
              "      .colab-df-generate {\n",
              "        background-color: #E8F0FE;\n",
              "        border: none;\n",
              "        border-radius: 50%;\n",
              "        cursor: pointer;\n",
              "        display: none;\n",
              "        fill: #1967D2;\n",
              "        height: 32px;\n",
              "        padding: 0 0 0 0;\n",
              "        width: 32px;\n",
              "      }\n",
              "\n",
              "      .colab-df-generate:hover {\n",
              "        background-color: #E2EBFA;\n",
              "        box-shadow: 0px 1px 2px rgba(60, 64, 67, 0.3), 0px 1px 3px 1px rgba(60, 64, 67, 0.15);\n",
              "        fill: #174EA6;\n",
              "      }\n",
              "\n",
              "      [theme=dark] .colab-df-generate {\n",
              "        background-color: #3B4455;\n",
              "        fill: #D2E3FC;\n",
              "      }\n",
              "\n",
              "      [theme=dark] .colab-df-generate:hover {\n",
              "        background-color: #434B5C;\n",
              "        box-shadow: 0px 1px 3px 1px rgba(0, 0, 0, 0.15);\n",
              "        filter: drop-shadow(0px 1px 2px rgba(0, 0, 0, 0.3));\n",
              "        fill: #FFFFFF;\n",
              "      }\n",
              "    </style>\n",
              "    <button class=\"colab-df-generate\" onclick=\"generateWithVariable('compare_results')\"\n",
              "            title=\"Generate code using this dataframe.\"\n",
              "            style=\"display:none;\">\n",
              "\n",
              "  <svg xmlns=\"http://www.w3.org/2000/svg\" height=\"24px\"viewBox=\"0 0 24 24\"\n",
              "       width=\"24px\">\n",
              "    <path d=\"M7,19H8.4L18.45,9,17,7.55,7,17.6ZM5,21V16.75L18.45,3.32a2,2,0,0,1,2.83,0l1.4,1.43a1.91,1.91,0,0,1,.58,1.4,1.91,1.91,0,0,1-.58,1.4L9.25,21ZM18.45,9,17,7.55Zm-12,3A5.31,5.31,0,0,0,4.9,8.1,5.31,5.31,0,0,0,1,6.5,5.31,5.31,0,0,0,4.9,4.9,5.31,5.31,0,0,0,6.5,1,5.31,5.31,0,0,0,8.1,4.9,5.31,5.31,0,0,0,12,6.5,5.46,5.46,0,0,0,6.5,12Z\"/>\n",
              "  </svg>\n",
              "    </button>\n",
              "    <script>\n",
              "      (() => {\n",
              "      const buttonEl =\n",
              "        document.querySelector('#id_b5195ce1-54c8-436e-a3e0-945f52b4644b button.colab-df-generate');\n",
              "      buttonEl.style.display =\n",
              "        google.colab.kernel.accessAllowed ? 'block' : 'none';\n",
              "\n",
              "      buttonEl.onclick = () => {\n",
              "        google.colab.notebook.generateWithVariable('compare_results');\n",
              "      }\n",
              "      })();\n",
              "    </script>\n",
              "  </div>\n",
              "\n",
              "    </div>\n",
              "  </div>\n"
            ],
            "application/vnd.google.colaboratory.intrinsic+json": {
              "type": "dataframe",
              "variable_name": "compare_results",
              "summary": "{\n  \"name\": \"compare_results\",\n  \"rows\": 3,\n  \"fields\": [\n    {\n      \"column\": \"model_name\",\n      \"properties\": {\n        \"dtype\": \"string\",\n        \"num_unique_values\": 3,\n        \"samples\": [\n          \"FashionMNISTModelV0\",\n          \"FashionMNISTModelV1\",\n          \"FashionMNISTModelV2\"\n        ],\n        \"semantic_type\": \"\",\n        \"description\": \"\"\n      }\n    },\n    {\n      \"column\": \"model_loss\",\n      \"properties\": {\n        \"dtype\": \"number\",\n        \"std\": 0.17971213834245262,\n        \"min\": 0.32718968391418457,\n        \"max\": 0.6850009560585022,\n        \"num_unique_values\": 3,\n        \"samples\": [\n          0.47663894295692444,\n          0.6850009560585022,\n          0.32718968391418457\n        ],\n        \"semantic_type\": \"\",\n        \"description\": \"\"\n      }\n    },\n    {\n      \"column\": \"model_acc\",\n      \"properties\": {\n        \"dtype\": \"number\",\n        \"std\": 6.614417560833454,\n        \"min\": 75.01996805111821,\n        \"max\": 88.06908945686901,\n        \"num_unique_values\": 3,\n        \"samples\": [\n          83.42651757188499,\n          75.01996805111821,\n          88.06908945686901\n        ],\n        \"semantic_type\": \"\",\n        \"description\": \"\"\n      }\n    },\n    {\n      \"column\": \"traininf time\",\n      \"properties\": {\n        \"dtype\": \"number\",\n        \"std\": 83.46747478642658,\n        \"min\": 35.63053911999998,\n        \"max\": 180.78553937899997,\n        \"num_unique_values\": 3,\n        \"samples\": [\n          35.63053911999998,\n          36.80791693500001,\n          180.78553937899997\n        ],\n        \"semantic_type\": \"\",\n        \"description\": \"\"\n      }\n    }\n  ]\n}"
            }
          },
          "metadata": {},
          "execution_count": 45
        }
      ]
    },
    {
      "cell_type": "code",
      "source": [
        "# Visualize model results.\n",
        "compare_results.set_index(\"model_name\")[\"model_acc\"].plot(kind=\"barh\")\n",
        "plt.xlabel(\"Accuracy(%)\")\n",
        "plt.ylabel(\"Model\");"
      ],
      "metadata": {
        "colab": {
          "base_uri": "https://localhost:8080/"
        },
        "id": "HRJEhOb3cmNr",
        "outputId": "6745177e-38ca-45da-e808-deb5bdb69995"
      },
      "execution_count": null,
      "outputs": [
        {
          "output_type": "display_data",
          "data": {
            "text/plain": [
              "<Figure size 640x480 with 1 Axes>"
            ],
            "image/png": "[encoded data removed]"
          },
          "metadata": {}
        }
      ]
    },
    {
      "cell_type": "markdown",
      "source": [
        "# Make and evaluate random predicions with best model."
      ],
      "metadata": {
        "id": "nmmO2G-bdsaJ"
      }
    },
    {
      "cell_type": "code",
      "source": [
        "def make_predictions(model: torch.nn.Module,\n",
        "                     data: list,\n",
        "                     device: torch.device=device):\n",
        "  pred_probs = []\n",
        "  model.eval()\n",
        "  with torch.inference_mode():\n",
        "    for sample in data:\n",
        "      # Prepare the sample (add a batch dimension and pass to target device)\n",
        "      sample = torch.unsqueeze(sample, dim=0).to(device)\n",
        "      # Forward pass (model outputs raw logits)\n",
        "      pred_logit = model(sample)\n",
        "      # Get prediction probability (logit -> prediction probability)\n",
        "      pred_prob = torch.softmax(pred_logit.squeeze(), dim=0)\n",
        "      # Get pred_labels.\n",
        "      pred_probs.append(pred_prob.cpu())\n",
        "\n",
        "  # Stac the pred_probs to turn list into a tensor\n",
        "  return torch.stack(pred_probs)"
      ],
      "metadata": {
        "id": "_xSm5kqSgGyF"
      },
      "execution_count": null,
      "outputs": []
    },
    {
      "cell_type": "code",
      "source": [
        "import random\n",
        "random.seed(42)\n",
        "test_samples = []\n",
        "test_labels = []\n",
        "for sample, label in random.sample(list(test_data), k=9):\n",
        "  test_samples.append(sample)\n",
        "  test_labels.append(label)\n",
        "\n",
        "# View the first sample shape.\n",
        "test_samples[0].shape"
      ],
      "metadata": {
        "colab": {
          "base_uri": "https://localhost:8080/"
        },
        "id": "AkOUy4Gig-Z-",
        "outputId": "7e7c9463-10ab-4281-af2f-89dde9e8c745"
      },
      "execution_count": null,
      "outputs": [
        {
          "output_type": "execute_result",
          "data": {
            "text/plain": [
              "torch.Size([1, 28, 28])"
            ]
          },
          "metadata": {},
          "execution_count": 48
        }
      ]
    },
    {
      "cell_type": "code",
      "source": [
        "plt.imshow(test_samples[0].squeeze(), cmap=\"gray\")\n",
        "plt.title(class_names[test_labels[0]])"
      ],
      "metadata": {
        "colab": {
          "base_uri": "https://localhost:8080/"
        },
        "id": "8sRSU3Y9hfwf",
        "outputId": "fc9c7ffa-d490-4b93-9cc5-dc9c8f73f8ab"
      },
      "execution_count": null,
      "outputs": [
        {
          "output_type": "execute_result",
          "data": {
            "text/plain": [
              "Text(0.5, 1.0, 'Sandal')"
            ]
          },
          "metadata": {},
          "execution_count": 49
        },
        {
          "output_type": "display_data",
          "data": {
            "text/plain": [
              "<Figure size 640x480 with 1 Axes>"
            ],
            "image/png": "[encoded data removed]"
          },
          "metadata": {}
        }
      ]
    },
    {
      "cell_type": "code",
      "source": [
        "# Make predictions.\n",
        "pred_probs = make_predictions(model=model_2,\n",
        "                            data=test_samples)\n",
        "\n",
        "# View first two prediction probabilites.\n",
        "pred_probs[:2]"
      ],
      "metadata": {
        "colab": {
          "base_uri": "https://localhost:8080/"
        },
        "id": "ADMowIq3htCn",
        "outputId": "eabcddef-51df-4069-86f3-11ebdcf14291"
      },
      "execution_count": null,
      "outputs": [
        {
          "output_type": "execute_result",
          "data": {
            "text/plain": [
              "tensor([[1.4021e-06, 1.7343e-07, 4.4511e-07, 1.2103e-05, 5.4026e-07, 9.9938e-01,\n",
              "         3.7154e-06, 2.1650e-04, 1.4199e-04, 2.4416e-04],\n",
              "        [1.0080e-01, 5.6287e-01, 7.4506e-04, 1.1212e-01, 6.3881e-02, 3.0674e-04,\n",
              "         1.5560e-01, 1.6463e-03, 1.0169e-03, 1.0133e-03]])"
            ]
          },
          "metadata": {},
          "execution_count": 50
        }
      ]
    },
    {
      "cell_type": "code",
      "source": [
        "# Convert pred_probs to labels.\n",
        "pred_classes = pred_probs.argmax(dim=1)\n",
        "pred_classes"
      ],
      "metadata": {
        "colab": {
          "base_uri": "https://localhost:8080/"
        },
        "id": "0Ee6fJ3Vh7sK",
        "outputId": "04a21bca-cf48-4cd6-bd5f-d4974b8fee2a"
      },
      "execution_count": null,
      "outputs": [
        {
          "output_type": "execute_result",
          "data": {
            "text/plain": [
              "tensor([5, 1, 7, 4, 3, 0, 4, 7, 1])"
            ]
          },
          "metadata": {},
          "execution_count": 51
        }
      ]
    },
    {
      "cell_type": "markdown",
      "source": [
        "# Plot predictions"
      ],
      "metadata": {
        "id": "2jjMSfLLiNtW"
      }
    },
    {
      "cell_type": "code",
      "source": [
        "plt.figure(figsize=(9,9))\n",
        "nrows = 3\n",
        "ncols = 3\n",
        "for i, sample in enumerate(test_samples):\n",
        "  # Create subplot.\n",
        "  plt.subplot(nrows, ncols, i+1)\n",
        "  # Plot the target image.\n",
        "  plt.imshow(sample.squeeze(), cmap=\"gray\")\n",
        "  # Find the prediction label(in text form)\n",
        "  pred_label = class_names[pred_classes[i]]\n",
        "  # Get the truth label(in text form)\n",
        "  truth_label = class_names[test_labels[i]]\n",
        "  # Create a title for the plot.\n",
        "  title_text = f\"Pred: {pred_label} | Truth: {truth_label}\"\n",
        "  # Check for equality between pred\n",
        "  if pred_label == truth_label:\n",
        "    color = \"green\"\n",
        "  else:\n",
        "    color = \"red\"\n",
        "  # Change the color of the title text.\n",
        "  plt.title\n",
        "  plt.title(title_text, fontsize=10, color=color)\n",
        "  plt.axis(False);\n",
        "  plt.tight_layout()\n",
        "  plt.show()"
      ],
      "metadata": {
        "colab": {
          "base_uri": "https://localhost:8080/",
          "height": 1000
        },
        "id": "WBQZdwsfif01",
        "outputId": "7c2e1427-f598-477c-a487-620e2a0b11e2"
      },
      "execution_count": null,
      "outputs": [
        {
          "output_type": "display_data",
          "data": {
            "text/plain": [
              "<Figure size 900x900 with 1 Axes>"
            ],
            "image/png": "[encoded data removed]"
          },
          "metadata": {}
        },
        {
          "output_type": "display_data",
          "data": {
            "text/plain": [
              "<Figure size 640x480 with 1 Axes>"
            ],
            "image/png": "[encoded data removed]"
          },
          "metadata": {}
        },
        {
          "output_type": "display_data",
          "data": {
            "text/plain": [
              "<Figure size 640x480 with 1 Axes>"
            ],
            "image/png": "[encoded data removed]"
          },
          "metadata": {}
        },
        {
          "output_type": "display_data",
          "data": {
            "text/plain": [
              "<Figure size 640x480 with 1 Axes>"
            ],
            "image/png": "[encoded data removed]"
          },
          "metadata": {}
        },
        {
          "output_type": "display_data",
          "data": {
            "text/plain": [
              "<Figure size 640x480 with 1 Axes>"
            ],
            "image/png": "[encoded data removed]"
          },
          "metadata": {}
        },
        {
          "output_type": "display_data",
          "data": {
            "text/plain": [
              "<Figure size 640x480 with 1 Axes>"
            ],
            "image/png": "[encoded data removed]"
          },
          "metadata": {}
        },
        {
          "output_type": "display_data",
          "data": {
            "text/plain": [
              "<Figure size 640x480 with 1 Axes>"
            ],
            "image/png": "[encoded data removed]"
          },
          "metadata": {}
        },
        {
          "output_type": "display_data",
          "data": {
            "text/plain": [
              "<Figure size 640x480 with 1 Axes>"
            ],
            "image/png": "[encoded data removed]"
          },
          "metadata": {}
        },
        {
          "output_type": "display_data",
          "data": {
            "text/plain": [
              "<Figure size 640x480 with 1 Axes>"
            ],
            "image/png": "[encoded data removed]"
          },
          "metadata": {}
        }
      ]
    },
    {
      "cell_type": "markdown",
      "source": [
        "# Making a confusion matrix for further prediction evaluation.\n",
        "\n",
        "A way of evaluatig classification models visually.\n",
        "1. Make predictions with trained model on the test dataset.\n",
        "2. Make confusion matrix `torchmetircs.ConfusionMatrix`\n",
        "3. Plot the confusion matrix using `mlextend.plotting.plot.confusion_matrix`"
      ],
      "metadata": {
        "id": "rJjEn9LvAljG"
      }
    },
    {
      "cell_type": "code",
      "source": [
        "# Import tqdm.auto\n",
        "from tqdm.auto import tqdm\n",
        "\n",
        "# Make predictions with trained model.\n",
        "y_preds = []\n",
        "model_2.eval()\n",
        "with torch.inference_mode():\n",
        "  for X, y in tqdm(test_dataloader, desc=\"Making Predictions..\"):\n",
        "    # Send data and targets to target device.\n",
        "    X, y = X.to(device), y.to(device)\n",
        "    # Dot the forward pass.\n",
        "    y_logit = model_2(X)\n",
        "    # Truth predictions from logits -> prediction probabilities -> prediction labels.\n",
        "    y_pred = torch.softmax(y_logit.squeeze(), dim=0).argmax(dim=1)\n",
        "    # Put prediction on CPU for evaluation.\n",
        "    y_preds.append(y_pred.cpu())\n",
        "\n",
        "  print(\"Done making prediction....\")\n",
        "  # Conatenate list of predictions into tensor.\n",
        "  # print(y_preds)\n",
        "  y_preds_tensor = torch.cat(y_preds)\n",
        "  y_preds_tensor[:10]"
      ],
      "metadata": {
        "colab": {
          "base_uri": "https://localhost:8080/",
          "height": 66,
          "referenced_widgets": [
            "5294c97c600545d6a2f0db9999447017",
            "5b159aa495c241b48a5891228d1c21d7",
            "5b23f2072a10474ab1ac5af851ea05a1",
            "997b34aa732b40dbac37ef5d559cc77c",
            "e46a119734c742a0a012e956ff6d4ade",
            "1beb7cf278694955b8eff5068ffcc86f",
            "f8a08093e4d14e6193091b5572d1bec5",
            "69c76a39a06f4e7eb4b679199b611f59",
            "10f2cee107ae4ee5b52031423c1c0a49",
            "bf86ccd44a4b42ffa1b19a607469d52b",
            "4ddc118c47a5455a8c698c8dda1964af"
          ]
        },
        "id": "S6ItsNvOA1Z6",
        "outputId": "70acb9cb-8f0a-4ca0-dee3-1453e4c712c7"
      },
      "execution_count": null,
      "outputs": [
        {
          "output_type": "display_data",
          "data": {
            "text/plain": [
              "Making Predictions..:   0%|          | 0/313 [00:00<?, ?it/s]"
            ],
            "application/vnd.jupyter.widget-view+json": {
              "version_major": 2,
              "version_minor": 0,
              "model_id": "5294c97c600545d6a2f0db9999447017"
            }
          },
          "metadata": {}
        },
        {
          "output_type": "stream",
          "name": "stdout",
          "text": [
            "Done making prediction....\n"
          ]
        }
      ]
    },
    {
      "cell_type": "code",
      "source": [
        "# See required packages are installed and if not, install\n",
        "try:\n",
        "  import torchmetrics, mlxtend\n",
        "  print(f\"mlxtend: {mlxtend.__version__}\")\n",
        "  assert int(mlxtend.__version__.split(\".\")[1]) >= 19, \"mlxtend version should be 0.19.0 or higher\"\n",
        "except:\n",
        "  !pip install torchmetrics -U mlxtend\n",
        "  import torchmetrics, mlxtend\n",
        "  print(f\"mlxtend: {mlxtend.__version__}\")"
      ],
      "metadata": {
        "colab": {
          "base_uri": "https://localhost:8080/"
        },
        "id": "Vtn_mnV-DKbg",
        "outputId": "f5fcd540-791e-4ae5-875e-2cf3a640212e"
      },
      "execution_count": null,
      "outputs": [
        {
          "output_type": "stream",
          "name": "stdout",
          "text": [
            "Collecting torchmetrics\n",
            "  Downloading torchmetrics-1.4.0.post0-py3-none-any.whl (868 kB)\n",
            "\u001b[?25l     \u001b[90m━━━━━━━━━━━━━━━━━━━━━━━━━━━━━━━━━━━━━━━━\u001b[0m \u001b[32m0.0/868.8 kB\u001b[0m \u001b[31m?\u001b[0m eta \u001b[36m-:--:--\u001b[0m\r\u001b[2K     \u001b[91m━━━━━━━━━━\u001b[0m\u001b[90m╺\u001b[0m\u001b[90m━━━━━━━━━━━━━━━━━━━━━━━━━━━━━\u001b[0m \u001b[32m225.3/868.8 kB\u001b[0m \u001b[31m6.6 MB/s\u001b[0m eta \u001b[36m0:00:01\u001b[0m\r\u001b[2K     \u001b[90m━━━━━━━━━━━━━━━━━━━━━━━━━━━━━━━━━━━━━━━━\u001b[0m \u001b[32m868.8/868.8 kB\u001b[0m \u001b[31m12.7 MB/s\u001b[0m eta \u001b[36m0:00:00\u001b[0m\n",
            "\u001b[?25hRequirement already satisfied: mlxtend in /usr/local/lib/python3.10/dist-packages (0.22.0)\n",
            "Collecting mlxtend\n",
            "  Downloading mlxtend-0.23.1-py3-none-any.whl (1.4 MB)\n",
            "\u001b[2K     \u001b[90m━━━━━━━━━━━━━━━━━━━━━━━━━━━━━━━━━━━━━━━━\u001b[0m \u001b[32m1.4/1.4 MB\u001b[0m \u001b[31m46.4 MB/s\u001b[0m eta \u001b[36m0:00:00\u001b[0m\n",
            "\u001b[?25hRequirement already satisfied: numpy>1.20.0 in /usr/local/lib/python3.10/dist-packages (from torchmetrics) (1.25.2)\n",
            "Requirement already satisfied: packaging>17.1 in /usr/local/lib/python3.10/dist-packages (from torchmetrics) (24.1)\n",
            "Requirement already satisfied: torch>=1.10.0 in /usr/local/lib/python3.10/dist-packages (from torchmetrics) (2.3.0+cu121)\n",
            "Collecting lightning-utilities>=0.8.0 (from torchmetrics)\n",
            "  Downloading lightning_utilities-0.11.3.post0-py3-none-any.whl (26 kB)\n",
            "Requirement already satisfied: scipy>=1.2.1 in /usr/local/lib/python3.10/dist-packages (from mlxtend) (1.11.4)\n",
            "Requirement already satisfied: pandas>=0.24.2 in /usr/local/lib/python3.10/dist-packages (from mlxtend) (2.0.3)\n",
            "Requirement already satisfied: scikit-learn>=1.0.2 in /usr/local/lib/python3.10/dist-packages (from mlxtend) (1.2.2)\n",
            "Requirement already satisfied: matplotlib>=3.0.0 in /usr/local/lib/python3.10/dist-packages (from mlxtend) (3.7.1)\n",
            "Requirement already satisfied: joblib>=0.13.2 in /usr/local/lib/python3.10/dist-packages (from mlxtend) (1.4.2)\n",
            "Requirement already satisfied: setuptools in /usr/local/lib/python3.10/dist-packages (from lightning-utilities>=0.8.0->torchmetrics) (67.7.2)\n",
            "Requirement already satisfied: typing-extensions in /usr/local/lib/python3.10/dist-packages (from lightning-utilities>=0.8.0->torchmetrics) (4.12.2)\n",
            "Requirement already satisfied: contourpy>=1.0.1 in /usr/local/lib/python3.10/dist-packages (from matplotlib>=3.0.0->mlxtend) (1.2.1)\n",
            "Requirement already satisfied: cycler>=0.10 in /usr/local/lib/python3.10/dist-packages (from matplotlib>=3.0.0->mlxtend) (0.12.1)\n",
            "Requirement already satisfied: fonttools>=4.22.0 in /usr/local/lib/python3.10/dist-packages (from matplotlib>=3.0.0->mlxtend) (4.53.1)\n",
            "Requirement already satisfied: kiwisolver>=1.0.1 in /usr/local/lib/python3.10/dist-packages (from matplotlib>=3.0.0->mlxtend) (1.4.5)\n",
            "Requirement already satisfied: pillow>=6.2.0 in /usr/local/lib/python3.10/dist-packages (from matplotlib>=3.0.0->mlxtend) (9.4.0)\n",
            "Requirement already satisfied: pyparsing>=2.3.1 in /usr/local/lib/python3.10/dist-packages (from matplotlib>=3.0.0->mlxtend) (3.1.2)\n",
            "Requirement already satisfied: python-dateutil>=2.7 in /usr/local/lib/python3.10/dist-packages (from matplotlib>=3.0.0->mlxtend) (2.8.2)\n",
            "Requirement already satisfied: pytz>=2020.1 in /usr/local/lib/python3.10/dist-packages (from pandas>=0.24.2->mlxtend) (2023.4)\n",
            "Requirement already satisfied: tzdata>=2022.1 in /usr/local/lib/python3.10/dist-packages (from pandas>=0.24.2->mlxtend) (2024.1)\n",
            "Requirement already satisfied: threadpoolctl>=2.0.0 in /usr/local/lib/python3.10/dist-packages (from scikit-learn>=1.0.2->mlxtend) (3.5.0)\n",
            "Requirement already satisfied: filelock in /usr/local/lib/python3.10/dist-packages (from torch>=1.10.0->torchmetrics) (3.15.4)\n",
            "Requirement already satisfied: sympy in /usr/local/lib/python3.10/dist-packages (from torch>=1.10.0->torchmetrics) (1.13.0)\n",
            "Requirement already satisfied: networkx in /usr/local/lib/python3.10/dist-packages (from torch>=1.10.0->torchmetrics) (3.3)\n",
            "Requirement already satisfied: jinja2 in /usr/local/lib/python3.10/dist-packages (from torch>=1.10.0->torchmetrics) (3.1.4)\n",
            "Requirement already satisfied: fsspec in /usr/local/lib/python3.10/dist-packages (from torch>=1.10.0->torchmetrics) (2023.6.0)\n",
            "Collecting nvidia-cuda-nvrtc-cu12==12.1.105 (from torch>=1.10.0->torchmetrics)\n",
            "  Using cached nvidia_cuda_nvrtc_cu12-12.1.105-py3-none-manylinux1_x86_64.whl (23.7 MB)\n",
            "Collecting nvidia-cuda-runtime-cu12==12.1.105 (from torch>=1.10.0->torchmetrics)\n",
            "  Using cached nvidia_cuda_runtime_cu12-12.1.105-py3-none-manylinux1_x86_64.whl (823 kB)\n",
            "Collecting nvidia-cuda-cupti-cu12==12.1.105 (from torch>=1.10.0->torchmetrics)\n",
            "  Using cached nvidia_cuda_cupti_cu12-12.1.105-py3-none-manylinux1_x86_64.whl (14.1 MB)\n",
            "Collecting nvidia-cudnn-cu12==8.9.2.26 (from torch>=1.10.0->torchmetrics)\n",
            "  Using cached nvidia_cudnn_cu12-8.9.2.26-py3-none-manylinux1_x86_64.whl (731.7 MB)\n",
            "Collecting nvidia-cublas-cu12==12.1.3.1 (from torch>=1.10.0->torchmetrics)\n",
            "  Using cached nvidia_cublas_cu12-12.1.3.1-py3-none-manylinux1_x86_64.whl (410.6 MB)\n",
            "Collecting nvidia-cufft-cu12==11.0.2.54 (from torch>=1.10.0->torchmetrics)\n",
            "  Using cached nvidia_cufft_cu12-11.0.2.54-py3-none-manylinux1_x86_64.whl (121.6 MB)\n",
            "Collecting nvidia-curand-cu12==10.3.2.106 (from torch>=1.10.0->torchmetrics)\n",
            "  Using cached nvidia_curand_cu12-10.3.2.106-py3-none-manylinux1_x86_64.whl (56.5 MB)\n",
            "Collecting nvidia-cusolver-cu12==11.4.5.107 (from torch>=1.10.0->torchmetrics)\n",
            "  Using cached nvidia_cusolver_cu12-11.4.5.107-py3-none-manylinux1_x86_64.whl (124.2 MB)\n",
            "Collecting nvidia-cusparse-cu12==12.1.0.106 (from torch>=1.10.0->torchmetrics)\n",
            "  Using cached nvidia_cusparse_cu12-12.1.0.106-py3-none-manylinux1_x86_64.whl (196.0 MB)\n",
            "Collecting nvidia-nccl-cu12==2.20.5 (from torch>=1.10.0->torchmetrics)\n",
            "  Using cached nvidia_nccl_cu12-2.20.5-py3-none-manylinux2014_x86_64.whl (176.2 MB)\n",
            "Collecting nvidia-nvtx-cu12==12.1.105 (from torch>=1.10.0->torchmetrics)\n",
            "  Using cached nvidia_nvtx_cu12-12.1.105-py3-none-manylinux1_x86_64.whl (99 kB)\n",
            "Requirement already satisfied: triton==2.3.0 in /usr/local/lib/python3.10/dist-packages (from torch>=1.10.0->torchmetrics) (2.3.0)\n",
            "Collecting nvidia-nvjitlink-cu12 (from nvidia-cusolver-cu12==11.4.5.107->torch>=1.10.0->torchmetrics)\n",
            "  Downloading nvidia_nvjitlink_cu12-12.5.82-py3-none-manylinux2014_x86_64.whl (21.3 MB)\n",
            "\u001b[2K     \u001b[90m━━━━━━━━━━━━━━━━━━━━━━━━━━━━━━━━━━━━━━━━\u001b[0m \u001b[32m21.3/21.3 MB\u001b[0m \u001b[31m54.6 MB/s\u001b[0m eta \u001b[36m0:00:00\u001b[0m\n",
            "\u001b[?25hRequirement already satisfied: six>=1.5 in /usr/local/lib/python3.10/dist-packages (from python-dateutil>=2.7->matplotlib>=3.0.0->mlxtend) (1.16.0)\n",
            "Requirement already satisfied: MarkupSafe>=2.0 in /usr/local/lib/python3.10/dist-packages (from jinja2->torch>=1.10.0->torchmetrics) (2.1.5)\n",
            "Requirement already satisfied: mpmath<1.4,>=1.1.0 in /usr/local/lib/python3.10/dist-packages (from sympy->torch>=1.10.0->torchmetrics) (1.3.0)\n",
            "Installing collected packages: nvidia-nvtx-cu12, nvidia-nvjitlink-cu12, nvidia-nccl-cu12, nvidia-curand-cu12, nvidia-cufft-cu12, nvidia-cuda-runtime-cu12, nvidia-cuda-nvrtc-cu12, nvidia-cuda-cupti-cu12, nvidia-cublas-cu12, lightning-utilities, nvidia-cusparse-cu12, nvidia-cudnn-cu12, nvidia-cusolver-cu12, mlxtend, torchmetrics\n",
            "  Attempting uninstall: mlxtend\n",
            "    Found existing installation: mlxtend 0.22.0\n",
            "    Uninstalling mlxtend-0.22.0:\n",
            "      Successfully uninstalled mlxtend-0.22.0\n",
            "Successfully installed lightning-utilities-0.11.3.post0 mlxtend-0.23.1 nvidia-cublas-cu12-12.1.3.1 nvidia-cuda-cupti-cu12-12.1.105 nvidia-cuda-nvrtc-cu12-12.1.105 nvidia-cuda-runtime-cu12-12.1.105 nvidia-cudnn-cu12-8.9.2.26 nvidia-cufft-cu12-11.0.2.54 nvidia-curand-cu12-10.3.2.106 nvidia-cusolver-cu12-11.4.5.107 nvidia-cusparse-cu12-12.1.0.106 nvidia-nccl-cu12-2.20.5 nvidia-nvjitlink-cu12-12.5.82 nvidia-nvtx-cu12-12.1.105 torchmetrics-1.4.0.post0\n",
            "mlxtend: 0.23.1\n"
          ]
        }
      ]
    },
    {
      "cell_type": "code",
      "source": [
        "print(mlxtend.__version__)"
      ],
      "metadata": {
        "colab": {
          "base_uri": "https://localhost:8080/"
        },
        "id": "BDcEKJbFEor3",
        "outputId": "0dc68716-a233-442a-9c52-fdd715e71cd7"
      },
      "execution_count": null,
      "outputs": [
        {
          "output_type": "stream",
          "name": "stdout",
          "text": [
            "0.23.1\n"
          ]
        }
      ]
    },
    {
      "cell_type": "markdown",
      "source": [
        "Plotting confusion matrix."
      ],
      "metadata": {
        "id": "yyvd5D1bFDOe"
      }
    },
    {
      "cell_type": "code",
      "source": [
        "from torchmetrics import ConfusionMatrix\n",
        "from mlxtend.plotting import plot_confusion_matrix\n",
        "\n",
        "# Setup confusion matrix instance.\n",
        "confmat = ConfusionMatrix(task=\"multiclass\", num_classes=len(class_names))\n",
        "confmat_tensor = confmat(preds=y_preds_tensor,\n",
        "                         target=test_data.targets)\n",
        "\n",
        "# Plot the confusion matrix.\n",
        "fig, ax = plot_confusion_matrix(\n",
        "    conf_mat=confmat_tensor.numpy(), #matplot likes working with\n",
        "    class_names=class_names,\n",
        "    # fig_size=(10,7)\n",
        ")"
      ],
      "metadata": {
        "colab": {
          "base_uri": "https://localhost:8080/",
          "height": 498
        },
        "id": "n4Jf6GEGFH9s",
        "outputId": "3eed2a1a-af9f-459f-d41b-1e56b5b8d4ea"
      },
      "execution_count": null,
      "outputs": [
        {
          "output_type": "display_data",
          "data": {
            "text/plain": [
              "<Figure size 640x480 with 1 Axes>"
            ],
            "image/png": "[encoded data removed]"
          },
          "metadata": {}
        }
      ]
    },
    {
      "cell_type": "code",
      "source": [],
      "metadata": {
        "id": "-w3YAr25GACR"
      },
      "execution_count": null,
      "outputs": []
    },
    {
      "cell_type": "markdown",
      "source": [
        "# Saving and Loading model."
      ],
      "metadata": {
        "id": "n_k4EDWkIywN"
      }
    },
    {
      "cell_type": "code",
      "source": [
        "from pathlib import Path\n",
        "\n",
        "# Create model directory path.\n",
        "MODEL_PATH = Path(\"models\")\n",
        "MODEL_PATH.mkdir(parents=True, exist_ok=True)\n",
        "\n",
        "# Create model save path.\n",
        "MODEL_NAME = \"FashionMNIST_CV1.pth\"\n",
        "MODEL_SAVE_PATH = MODEL_PATH / MODEL_NAME\n",
        "\n",
        "MODEL_SAVE_PATH"
      ],
      "metadata": {
        "colab": {
          "base_uri": "https://localhost:8080/"
        },
        "id": "xMo4lG7kI1Ev",
        "outputId": "441e7213-c078-4a53-a2a8-0cec536dc7cd"
      },
      "execution_count": null,
      "outputs": [
        {
          "output_type": "execute_result",
          "data": {
            "text/plain": [
              "PosixPath('models/FashionMNIST_CV1.pth')"
            ]
          },
          "metadata": {},
          "execution_count": 67
        }
      ]
    },
    {
      "cell_type": "code",
      "source": [
        "# Save the model state dict.\n",
        "print(f\"Saving model to: {MODEL_SAVE_PATH}\")\n",
        "torch.save(obj=model_2.state_dict(),\n",
        "           f=MODEL_SAVE_PATH)"
      ],
      "metadata": {
        "colab": {
          "base_uri": "https://localhost:8080/"
        },
        "id": "S4NI9PuqJUUd",
        "outputId": "53d8f619-acac-4a72-e7bf-dcc83dad61b2"
      },
      "execution_count": null,
      "outputs": [
        {
          "output_type": "stream",
          "name": "stdout",
          "text": [
            "Saving model to: models/FashionMNIST_CV1.pth\n"
          ]
        }
      ]
    },
    {
      "cell_type": "code",
      "source": [
        "model_2.state_dict()"
      ],
      "metadata": {
        "colab": {
          "base_uri": "https://localhost:8080/"
        },
        "id": "80NeZMynJeZo",
        "outputId": "8ad5d743-1d45-4cf7-b4c5-2687e1421a94"
      },
      "execution_count": null,
      "outputs": [
        {
          "output_type": "execute_result",
          "data": {
            "text/plain": [
              "OrderedDict([('conv_block_1.0.weight',\n",
              "              tensor([[[[ 0.3127,  0.3911, -0.4196],\n",
              "                        [ 0.1556,  0.1815,  0.0878],\n",
              "                        [-0.4420,  0.1430,  0.3166]]],\n",
              "              \n",
              "              \n",
              "                      [[[-0.3738,  0.4791, -0.1338],\n",
              "                        [ 0.2597,  0.4008,  0.0667],\n",
              "                        [-0.1557,  0.3132,  0.0871]]],\n",
              "              \n",
              "              \n",
              "                      [[[-0.3652, -0.0339, -0.0384],\n",
              "                        [-0.6494, -0.6025,  0.2116],\n",
              "                        [-0.8162, -0.6622, -0.1217]]],\n",
              "              \n",
              "              \n",
              "                      [[[-0.7466, -0.8917, -0.7278],\n",
              "                        [ 0.2914, -0.5231,  0.2517],\n",
              "                        [ 0.2942, -0.0444,  0.3574]]],\n",
              "              \n",
              "              \n",
              "                      [[[ 0.0132,  0.3515, -0.1108],\n",
              "                        [-0.2418,  0.2368, -0.2215],\n",
              "                        [-0.0970,  0.3388,  0.1292]]],\n",
              "              \n",
              "              \n",
              "                      [[[-0.1500,  0.1842,  0.0578],\n",
              "                        [ 0.1636, -0.2055, -0.3302],\n",
              "                        [-0.1302, -0.2574,  0.2596]]],\n",
              "              \n",
              "              \n",
              "                      [[[ 0.0797,  0.1085, -0.0129],\n",
              "                        [-0.0085,  0.1742, -0.2752],\n",
              "                        [-0.1569, -0.5007, -0.1128]]],\n",
              "              \n",
              "              \n",
              "                      [[[-0.1018,  0.0198, -0.1991],\n",
              "                        [ 0.3163, -0.2242, -0.2843],\n",
              "                        [-0.2339,  0.4021,  0.2681]]],\n",
              "              \n",
              "              \n",
              "                      [[[ 0.4493, -0.3163, -0.3617],\n",
              "                        [-0.2646, -0.3199,  0.1427],\n",
              "                        [ 0.2809,  0.4250, -0.1547]]],\n",
              "              \n",
              "              \n",
              "                      [[[-0.2270,  0.1762, -0.1351],\n",
              "                        [ 0.2009, -0.0808,  0.1890],\n",
              "                        [-0.2591, -0.1683,  0.1006]]]])),\n",
              "             ('conv_block_1.0.bias',\n",
              "              tensor([ 0.0146,  0.0639,  0.1502,  0.1288, -0.0777, -0.1986,  0.2286, -0.0547,\n",
              "                      -0.0331, -0.3243])),\n",
              "             ('conv_block_1.2.weight',\n",
              "              tensor([[[[ 1.4132e-01,  5.0070e-02, -1.2329e-03],\n",
              "                        [-8.6412e-02, -1.7911e-01, -1.9753e-01],\n",
              "                        [-1.0887e-01, -1.9915e-01, -1.9424e-01]],\n",
              "              \n",
              "                       [[-4.4994e-02,  3.0649e-03, -9.1226e-02],\n",
              "                        [-1.8272e-01, -3.3772e-01, -2.6753e-01],\n",
              "                        [-1.3380e-01, -2.1792e-01, -2.4426e-01]],\n",
              "              \n",
              "                       [[-3.2881e-02,  3.2946e-02,  1.2199e-01],\n",
              "                        [ 3.9099e-02,  2.5957e-01,  2.0143e-01],\n",
              "                        [-1.2151e-01,  6.9995e-03,  7.6315e-02]],\n",
              "              \n",
              "                       [[-1.9476e-01, -3.3695e-02, -1.8504e-01],\n",
              "                        [ 2.5007e-02, -3.1351e-02, -1.2563e-01],\n",
              "                        [ 1.9959e-01,  4.9990e-02,  4.1462e-02]],\n",
              "              \n",
              "                       [[-1.2295e-01, -1.2858e-01,  1.1220e-03],\n",
              "                        [-5.0595e-02,  3.1555e-02, -1.1153e-01],\n",
              "                        [ 7.4811e-02, -8.1775e-02, -2.4376e-02]],\n",
              "              \n",
              "                       [[ 2.2356e-02,  5.4761e-02,  8.5212e-02],\n",
              "                        [ 9.6272e-02, -8.3493e-02,  2.8942e-02],\n",
              "                        [-4.5051e-02, -1.2679e-02, -7.8151e-02]],\n",
              "              \n",
              "                       [[ 1.8992e-01, -2.0482e-02,  1.4882e-04],\n",
              "                        [ 1.5038e-01,  1.1008e-01, -4.4975e-02],\n",
              "                        [ 7.4644e-02,  6.7334e-03, -7.0354e-02]],\n",
              "              \n",
              "                       [[-8.6260e-02,  5.0988e-02, -5.2492e-03],\n",
              "                        [-4.6894e-02,  8.5026e-02,  1.4692e-02],\n",
              "                        [-4.5886e-02, -6.4936e-02, -1.8516e-02]],\n",
              "              \n",
              "                       [[ 6.9093e-02,  6.1735e-04, -3.2623e-02],\n",
              "                        [-4.0538e-02, -6.0386e-02,  6.6237e-02],\n",
              "                        [ 1.0027e-01, -1.0368e-01, -9.1766e-05]],\n",
              "              \n",
              "                       [[ 5.4450e-02,  1.9121e-02, -3.7530e-02],\n",
              "                        [ 5.5016e-02,  5.5394e-02,  3.9419e-02],\n",
              "                        [-1.8523e-02, -2.7911e-02,  1.1270e-02]]],\n",
              "              \n",
              "              \n",
              "                      [[[-3.2573e-02, -3.4480e-02,  7.7271e-02],\n",
              "                        [ 7.8543e-02, -5.2491e-03, -1.2140e-02],\n",
              "                        [-1.8832e-02, -1.7273e-02,  1.0484e-02]],\n",
              "              \n",
              "                       [[ 1.5693e-02, -8.7142e-02, -3.1447e-02],\n",
              "                        [ 7.7661e-02,  4.9420e-02,  5.3998e-03],\n",
              "                        [-1.1721e-01, -9.3256e-02, -1.0707e-01]],\n",
              "              \n",
              "                       [[-3.5195e-02,  3.3986e-02,  6.1428e-02],\n",
              "                        [ 4.6825e-02, -9.5292e-02, -6.8485e-02],\n",
              "                        [-2.0038e-02,  1.0315e-01,  1.3408e-02]],\n",
              "              \n",
              "                       [[-3.8608e-03,  4.9696e-02, -3.3929e-02],\n",
              "                        [-6.4143e-02,  7.5515e-02, -5.0730e-02],\n",
              "                        [-2.3875e-02, -1.1520e-01,  6.6499e-02]],\n",
              "              \n",
              "                       [[ 6.9069e-02,  3.3646e-02, -7.6364e-02],\n",
              "                        [-1.3072e-01, -1.0598e-01,  7.0833e-02],\n",
              "                        [ 1.9720e-02,  7.6607e-02,  4.3402e-02]],\n",
              "              \n",
              "                       [[ 2.6693e-02, -9.1875e-04, -8.0113e-02],\n",
              "                        [-9.0142e-02, -9.8504e-02,  4.3387e-02],\n",
              "                        [-5.1630e-02, -2.1233e-02, -6.0770e-02]],\n",
              "              \n",
              "                       [[-2.4979e-02, -7.6146e-02, -7.2911e-02],\n",
              "                        [ 4.1618e-02, -3.0417e-02,  6.7237e-02],\n",
              "                        [-1.8740e-02, -7.9357e-02, -2.0178e-02]],\n",
              "              \n",
              "                       [[-5.1239e-02, -3.2873e-02, -1.0064e-01],\n",
              "                        [ 6.1227e-02, -7.2032e-02,  5.3732e-02],\n",
              "                        [ 4.6598e-02,  7.7801e-02, -8.1214e-02]],\n",
              "              \n",
              "                       [[ 8.1963e-02, -4.7336e-02,  4.0120e-02],\n",
              "                        [ 9.7642e-02, -1.5587e-02, -1.4781e-03],\n",
              "                        [-2.5056e-02, -8.8515e-02,  5.1611e-02]],\n",
              "              \n",
              "                       [[-1.0464e-01,  6.5448e-02,  7.8875e-02],\n",
              "                        [ 9.9692e-02, -2.4860e-02, -8.6619e-02],\n",
              "                        [ 2.3702e-02,  5.8231e-02, -1.0491e-01]]],\n",
              "              \n",
              "              \n",
              "                      [[[-2.4704e-02, -6.4226e-02, -1.0606e-02],\n",
              "                        [-5.2106e-02, -4.3042e-02, -3.1557e-02],\n",
              "                        [-9.8293e-02,  8.7178e-02,  8.7962e-02]],\n",
              "              \n",
              "                       [[-1.6806e-02, -1.2355e-02, -4.2634e-02],\n",
              "                        [-9.5093e-02, -1.0211e-01,  4.0026e-02],\n",
              "                        [-5.5581e-02, -6.5852e-02, -6.9079e-03]],\n",
              "              \n",
              "                       [[-3.8252e-02, -3.8278e-02, -8.9653e-04],\n",
              "                        [-2.1629e-02, -3.6807e-02, -5.2300e-02],\n",
              "                        [-8.6188e-02,  8.7748e-02, -4.2085e-02]],\n",
              "              \n",
              "                       [[ 2.3888e-02, -3.9737e-02,  4.4075e-03],\n",
              "                        [ 9.8423e-02,  4.9412e-02, -8.9582e-02],\n",
              "                        [ 3.9052e-02,  9.8104e-02,  2.8546e-02]],\n",
              "              \n",
              "                       [[ 7.0670e-02,  1.0394e-01, -1.6054e-02],\n",
              "                        [ 2.2551e-02, -7.3487e-02, -2.1590e-02],\n",
              "                        [ 7.6981e-02,  5.3575e-02, -6.8292e-02]],\n",
              "              \n",
              "                       [[-8.4526e-02, -7.2033e-02, -1.0403e-01],\n",
              "                        [-8.1338e-02, -2.6175e-02,  7.1291e-02],\n",
              "                        [ 1.7650e-02, -8.0130e-02, -8.4563e-02]],\n",
              "              \n",
              "                       [[ 4.9383e-02, -8.1804e-02, -1.6324e-02],\n",
              "                        [ 4.9635e-02, -5.0581e-02, -1.2238e-02],\n",
              "                        [-9.8913e-03, -2.5776e-02, -5.3624e-02]],\n",
              "              \n",
              "                       [[-9.3976e-02, -8.5211e-02, -5.6465e-02],\n",
              "                        [ 1.0165e-01, -5.1014e-02, -7.0154e-02],\n",
              "                        [ 2.6239e-02,  3.0164e-02,  5.6748e-02]],\n",
              "              \n",
              "                       [[ 7.9810e-02,  5.8625e-02, -1.0454e-01],\n",
              "                        [ 1.1423e-02,  6.5220e-02, -9.5842e-03],\n",
              "                        [-6.4782e-02,  9.9568e-02, -3.8309e-02]],\n",
              "              \n",
              "                       [[-6.0014e-02, -9.5032e-02,  4.7085e-03],\n",
              "                        [ 4.6710e-02,  2.3334e-02,  2.0845e-02],\n",
              "                        [-7.9941e-02, -9.8437e-02,  1.8562e-03]]],\n",
              "              \n",
              "              \n",
              "                      [[[-1.7302e-01, -1.0141e-01, -1.2283e-02],\n",
              "                        [-1.2507e-02,  1.3711e-01, -4.7126e-02],\n",
              "                        [ 1.1215e-01,  1.5448e-01, -3.5841e-02]],\n",
              "              \n",
              "                       [[-2.6457e-02,  4.9508e-02,  1.4129e-01],\n",
              "                        [ 2.6512e-01,  1.1156e-01,  9.5714e-02],\n",
              "                        [-1.4558e-01, -9.6801e-02,  1.4719e-04]],\n",
              "              \n",
              "                       [[-1.7997e-01, -3.3847e-01, -3.8317e-01],\n",
              "                        [-1.4812e-01, -1.4034e-01, -2.3445e-01],\n",
              "                        [ 1.0951e-01, -9.5350e-02, -1.9136e-01]],\n",
              "              \n",
              "                       [[ 1.1824e-01,  1.1826e-01,  2.4634e-02],\n",
              "                        [-4.3983e-01, -3.4216e-01, -3.2814e-02],\n",
              "                        [-1.8947e-01, -2.9834e-01, -2.4000e-01]],\n",
              "              \n",
              "                       [[-1.3747e-01, -2.0980e-01, -4.7322e-02],\n",
              "                        [-2.5187e-02,  2.2903e-02,  1.6819e-01],\n",
              "                        [-9.0634e-02,  3.9938e-02,  9.5648e-02]],\n",
              "              \n",
              "                       [[-5.2095e-02, -4.8327e-02,  3.8016e-02],\n",
              "                        [-6.5929e-02, -6.7526e-02, -5.9897e-03],\n",
              "                        [-4.0215e-02, -7.7215e-02,  5.6636e-02]],\n",
              "              \n",
              "                       [[ 9.4890e-02, -9.2540e-02,  9.6272e-02],\n",
              "                        [-7.2108e-02, -1.4322e-01, -2.5034e-02],\n",
              "                        [ 3.0382e-01,  6.7963e-02,  1.5312e-01]],\n",
              "              \n",
              "                       [[-6.8099e-02, -2.1761e-01, -1.3467e-01],\n",
              "                        [-1.7582e-01, -2.3910e-02, -9.4330e-02],\n",
              "                        [ 3.6324e-02, -7.1336e-02, -7.4818e-03]],\n",
              "              \n",
              "                       [[-3.8004e-02, -1.4124e-05, -1.1533e-01],\n",
              "                        [-1.9645e-01, -2.1144e-01, -8.4215e-02],\n",
              "                        [ 2.2354e-02, -5.3375e-02, -1.0052e-01]],\n",
              "              \n",
              "                       [[-1.0387e-01, -8.6011e-02,  2.0277e-02],\n",
              "                        [ 2.8199e-02,  2.2122e-02, -2.8687e-02],\n",
              "                        [ 9.7205e-02,  1.5087e-02, -6.2208e-02]]],\n",
              "              \n",
              "              \n",
              "                      [[[-4.6331e-02,  1.6870e-02,  9.9492e-03],\n",
              "                        [-1.2036e-01,  3.6161e-02, -8.1075e-02],\n",
              "                        [-1.0014e-01, -6.5071e-02,  4.9379e-02]],\n",
              "              \n",
              "                       [[ 8.6566e-02,  9.7018e-02,  4.4157e-03],\n",
              "                        [ 7.5707e-02, -2.9150e-02, -1.2725e-01],\n",
              "                        [ 4.6634e-02, -8.0300e-02, -1.1802e-01]],\n",
              "              \n",
              "                       [[-4.8552e-02,  6.4093e-03,  3.4599e-02],\n",
              "                        [-5.3099e-02, -7.6856e-02, -4.1904e-03],\n",
              "                        [-7.5511e-02, -8.1954e-02,  4.1710e-02]],\n",
              "              \n",
              "                       [[-4.0110e-02,  5.7692e-02,  7.7271e-02],\n",
              "                        [ 1.3576e-02,  1.4270e-02,  9.9877e-04],\n",
              "                        [-1.5659e-02, -2.8276e-02, -2.0086e-02]],\n",
              "              \n",
              "                       [[ 2.1908e-02,  8.8408e-02, -5.5152e-02],\n",
              "                        [-5.1165e-02, -3.2332e-02, -6.7907e-02],\n",
              "                        [ 8.0970e-03,  6.4193e-02,  6.0364e-02]],\n",
              "              \n",
              "                       [[ 4.8425e-02, -7.7561e-02, -5.6554e-02],\n",
              "                        [-2.3147e-02, -1.9446e-02,  8.6139e-03],\n",
              "                        [-9.6898e-02,  3.2940e-02, -8.0362e-02]],\n",
              "              \n",
              "                       [[-9.7198e-02, -9.6465e-02,  8.9105e-02],\n",
              "                        [-1.2073e-01,  8.0904e-02, -1.2698e-02],\n",
              "                        [-2.8957e-02,  4.9352e-02, -2.8588e-02]],\n",
              "              \n",
              "                       [[ 5.5773e-02,  6.6278e-02, -9.6162e-02],\n",
              "                        [ 3.6954e-02,  2.0662e-02,  1.9478e-02],\n",
              "                        [ 1.2870e-02,  2.7960e-02, -5.6885e-02]],\n",
              "              \n",
              "                       [[-1.7855e-02,  9.5005e-02,  7.1449e-02],\n",
              "                        [-5.8828e-03, -1.0408e-01,  1.0389e-02],\n",
              "                        [-7.3347e-02,  8.2949e-02, -6.0551e-02]],\n",
              "              \n",
              "                       [[-7.6170e-03, -2.3395e-02,  1.8770e-02],\n",
              "                        [ 9.9193e-02,  1.0021e-02,  6.1064e-02],\n",
              "                        [ 8.1818e-02,  8.5101e-02, -3.6403e-02]]],\n",
              "              \n",
              "              \n",
              "                      [[[ 2.1226e-01,  3.8519e-01,  3.3996e-01],\n",
              "                        [-9.8467e-02, -2.9488e-02,  1.1950e-02],\n",
              "                        [-2.8850e-01, -2.3819e-01, -4.6257e-02]],\n",
              "              \n",
              "                       [[ 2.9504e-01,  3.8437e-01,  4.2499e-01],\n",
              "                        [-1.0089e-01, -7.0688e-02,  5.2471e-02],\n",
              "                        [-3.2131e-01, -4.1241e-01, -2.5069e-01]],\n",
              "              \n",
              "                       [[ 3.2336e-03, -6.2637e-02, -4.2889e-02],\n",
              "                        [-5.4584e-02, -2.4243e-02,  4.1488e-02],\n",
              "                        [ 1.6910e-01,  9.2841e-02,  8.3676e-02]],\n",
              "              \n",
              "                       [[ 5.5750e-03, -9.7356e-02, -8.6997e-02],\n",
              "                        [-3.9053e-02, -2.0420e-01, -1.0040e-01],\n",
              "                        [ 7.6002e-02, -1.3406e-02, -3.6822e-02]],\n",
              "              \n",
              "                       [[ 4.4000e-03,  9.1438e-02,  4.1840e-02],\n",
              "                        [ 3.1703e-03,  2.0594e-02,  2.0662e-02],\n",
              "                        [-2.5773e-01, -1.2640e-01, -1.7345e-01]],\n",
              "              \n",
              "                       [[-8.3753e-02, -8.6020e-03, -9.3077e-02],\n",
              "                        [ 7.4492e-02,  1.1865e-02, -5.6648e-02],\n",
              "                        [ 5.6594e-02, -9.9486e-02, -3.9942e-02]],\n",
              "              \n",
              "                       [[ 1.2646e-01,  7.7896e-03, -3.3194e-02],\n",
              "                        [ 6.1485e-02,  8.5953e-02,  1.0651e-01],\n",
              "                        [ 2.5123e-01,  9.6023e-02,  3.0821e-02]],\n",
              "              \n",
              "                       [[ 7.7657e-02,  4.4122e-02,  2.0087e-02],\n",
              "                        [-7.8862e-03, -9.6436e-02, -4.9096e-02],\n",
              "                        [ 1.0034e-01, -3.6748e-02, -5.4598e-03]],\n",
              "              \n",
              "                       [[-9.7341e-02, -3.8400e-02,  7.8582e-03],\n",
              "                        [-3.6757e-02,  1.6713e-02,  4.0991e-02],\n",
              "                        [-8.3970e-02,  4.7691e-02, -7.4737e-02]],\n",
              "              \n",
              "                       [[-5.1535e-02,  4.0202e-02,  8.3849e-02],\n",
              "                        [-2.8681e-02, -4.3249e-02, -9.5252e-02],\n",
              "                        [-5.4247e-02, -9.2328e-02, -2.4045e-02]]],\n",
              "              \n",
              "              \n",
              "                      [[[ 1.4559e-01, -1.1716e-01, -1.4409e-01],\n",
              "                        [ 1.2000e-01,  7.0122e-02, -3.3973e-01],\n",
              "                        [ 2.1197e-01,  3.6084e-01, -1.3431e-01]],\n",
              "              \n",
              "                       [[ 6.4816e-02,  1.1958e-01, -5.0509e-01],\n",
              "                        [ 3.5393e-01,  2.3612e-01, -3.2364e-01],\n",
              "                        [ 3.4444e-01,  1.6420e-01, -4.5015e-01]],\n",
              "              \n",
              "                       [[-2.0327e-01, -1.9219e-01, -1.1191e-01],\n",
              "                        [-9.7420e-02, -2.9245e-01,  4.5937e-02],\n",
              "                        [ 1.4234e-01, -7.3331e-02,  9.2364e-02]],\n",
              "              \n",
              "                       [[-3.8171e-01, -8.0684e-02,  8.0917e-02],\n",
              "                        [-2.0733e-02, -1.4181e-01,  4.0425e-01],\n",
              "                        [-5.9438e-02, -3.2035e-01,  2.8981e-01]],\n",
              "              \n",
              "                       [[-1.6875e-03,  6.9261e-02, -2.3999e-01],\n",
              "                        [-1.4881e-02,  1.5496e-01, -1.5149e-01],\n",
              "                        [-1.3583e-01,  2.1691e-01, -6.7903e-02]],\n",
              "              \n",
              "                       [[ 9.4413e-02, -9.2556e-02, -3.6247e-02],\n",
              "                        [-1.0030e-01, -4.3534e-02,  3.1953e-02],\n",
              "                        [ 9.9666e-02,  1.6475e-02,  1.0209e-01]],\n",
              "              \n",
              "                       [[ 9.5622e-02,  1.0168e-01,  2.2261e-01],\n",
              "                        [-3.6329e-02, -1.1198e-01,  4.9594e-02],\n",
              "                        [ 7.1616e-02,  4.9416e-02,  6.4127e-03]],\n",
              "              \n",
              "                       [[-1.7675e-01, -6.4400e-02, -5.3221e-02],\n",
              "                        [-1.3415e-01,  2.6335e-02,  3.1090e-02],\n",
              "                        [ 3.0370e-02, -4.6787e-02,  9.0090e-02]],\n",
              "              \n",
              "                       [[ 1.0337e-01, -2.3521e-01,  1.3282e-02],\n",
              "                        [ 4.6383e-02, -1.0629e-01, -2.1734e-01],\n",
              "                        [ 2.3498e-02, -9.7458e-02, -2.1884e-01]],\n",
              "              \n",
              "                       [[ 5.9407e-02,  3.8282e-02,  8.3596e-02],\n",
              "                        [-3.9443e-02,  3.5458e-02,  3.7593e-02],\n",
              "                        [-8.7927e-02, -1.0210e-01, -5.4815e-02]]],\n",
              "              \n",
              "              \n",
              "                      [[[ 1.2447e-01, -1.7208e-01, -3.1887e-01],\n",
              "                        [ 1.6618e-01,  1.0110e-01, -1.6226e-01],\n",
              "                        [-1.9662e-02,  7.2777e-02, -5.7784e-02]],\n",
              "              \n",
              "                       [[ 1.5032e-01, -2.2155e-02, -2.6879e-01],\n",
              "                        [ 9.7208e-02,  1.1548e-01, -2.9423e-01],\n",
              "                        [ 6.9185e-02,  2.5047e-01, -2.4765e-01]],\n",
              "              \n",
              "                       [[-8.1241e-02,  7.4734e-03,  1.0236e-02],\n",
              "                        [-1.1046e-02, -1.2355e-01, -5.5204e-02],\n",
              "                        [ 7.4758e-02, -1.1124e-01, -3.3861e-02]],\n",
              "              \n",
              "                       [[ 2.7416e-02, -5.6326e-02,  2.5487e-01],\n",
              "                        [-3.3548e-02, -6.9658e-02,  1.7088e-01],\n",
              "                        [-6.0098e-02, -1.8525e-01,  1.0664e-01]],\n",
              "              \n",
              "                       [[ 1.9109e-02, -1.5793e-01, -2.1634e-01],\n",
              "                        [ 1.1442e-01,  7.8823e-02, -7.6076e-02],\n",
              "                        [-5.8627e-02,  4.2574e-02, -8.5543e-02]],\n",
              "              \n",
              "                       [[-1.9411e-02, -7.2137e-02,  8.2978e-03],\n",
              "                        [ 1.0078e-02, -1.4001e-02,  1.4227e-02],\n",
              "                        [-4.2427e-02,  2.6573e-02,  3.9263e-02]],\n",
              "              \n",
              "                       [[-3.2668e-02, -8.3003e-02,  1.0500e-01],\n",
              "                        [ 1.5957e-02, -5.6393e-02,  8.0423e-02],\n",
              "                        [-8.9796e-02,  9.5766e-02,  7.6812e-02]],\n",
              "              \n",
              "                       [[-8.5963e-02,  7.1398e-02, -1.1897e-01],\n",
              "                        [-1.0014e-01,  3.3576e-03, -2.2989e-02],\n",
              "                        [ 9.2063e-02, -5.1873e-02,  3.3240e-02]],\n",
              "              \n",
              "                       [[-9.2608e-02,  7.5210e-02, -6.5493e-02],\n",
              "                        [-8.8128e-02,  1.4264e-02,  2.2519e-02],\n",
              "                        [ 9.4545e-02, -6.0562e-02, -8.7014e-02]],\n",
              "              \n",
              "                       [[ 2.0284e-02,  2.8592e-02,  4.0526e-02],\n",
              "                        [ 5.7901e-02, -2.3897e-02,  5.8618e-02],\n",
              "                        [ 7.7686e-02, -2.7557e-02,  7.4976e-02]]],\n",
              "              \n",
              "              \n",
              "                      [[[-2.2712e-02,  6.5149e-02,  5.3222e-02],\n",
              "                        [ 7.6656e-02, -4.8885e-03, -5.5646e-03],\n",
              "                        [ 1.8509e-01, -2.1651e-02, -6.6152e-02]],\n",
              "              \n",
              "                       [[ 1.2228e-01,  1.0293e-01, -5.2364e-02],\n",
              "                        [ 1.2447e-01, -1.9136e-01, -1.5305e-01],\n",
              "                        [ 2.1365e-01, -1.2886e-01,  5.6429e-02]],\n",
              "              \n",
              "                       [[-1.3688e-01, -2.6241e-01, -3.0883e-02],\n",
              "                        [-1.8782e-01, -2.5779e-01, -1.6474e-01],\n",
              "                        [-8.2088e-02, -1.5580e-01, -1.8933e-02]],\n",
              "              \n",
              "                       [[-1.6330e-01, -7.7293e-02,  1.7375e-02],\n",
              "                        [-2.5276e-01, -2.9470e-01, -1.0261e-01],\n",
              "                        [ 1.0697e-02, -8.6075e-02,  9.4151e-02]],\n",
              "              \n",
              "                       [[ 5.8823e-02, -2.3789e-02,  9.2677e-02],\n",
              "                        [ 1.9114e-01,  2.6773e-02,  1.8731e-02],\n",
              "                        [ 5.9295e-02, -1.1593e-01, -6.7537e-02]],\n",
              "              \n",
              "                       [[ 8.6781e-02,  8.1052e-02,  3.0387e-02],\n",
              "                        [ 8.4060e-03, -9.0489e-02, -1.2702e-02],\n",
              "                        [ 1.0142e-01,  2.6218e-02,  8.9040e-03]],\n",
              "              \n",
              "                       [[-1.6641e-02,  9.6994e-04,  1.0826e-01],\n",
              "                        [ 4.2682e-02,  1.4501e-02, -9.3230e-02],\n",
              "                        [ 1.0815e-01,  9.7547e-02,  7.0143e-03]],\n",
              "              \n",
              "                       [[-2.9264e-02, -4.4359e-02,  1.1044e-01],\n",
              "                        [ 1.6033e-02, -7.0578e-02, -1.2087e-01],\n",
              "                        [ 2.4864e-03,  3.2522e-03, -2.5803e-02]],\n",
              "              \n",
              "                       [[-8.1190e-02, -8.3140e-02, -6.2706e-02],\n",
              "                        [-1.3058e-02, -9.1348e-02, -1.3460e-01],\n",
              "                        [ 7.4543e-03, -7.9266e-02,  3.7130e-03]],\n",
              "              \n",
              "                       [[ 5.5807e-02,  9.4944e-02,  4.9636e-04],\n",
              "                        [ 2.1267e-02,  3.6647e-02, -9.9799e-02],\n",
              "                        [ 9.3672e-03, -6.9949e-03, -5.9084e-02]]],\n",
              "              \n",
              "              \n",
              "                      [[[-2.2003e-01,  3.3334e-01,  4.1038e-01],\n",
              "                        [-3.4537e-01,  1.3324e-02,  2.1481e-01],\n",
              "                        [-3.3249e-01, -9.7892e-02,  1.4437e-01]],\n",
              "              \n",
              "                       [[-2.0274e-01,  1.1863e-01,  2.5753e-01],\n",
              "                        [-3.4517e-01, -4.0697e-02,  3.9433e-01],\n",
              "                        [-3.3356e-01, -1.3721e-01,  4.0236e-01]],\n",
              "              \n",
              "                       [[-5.8784e-02,  2.1039e-02,  3.0902e-02],\n",
              "                        [-7.6911e-02,  5.7627e-02, -8.5088e-02],\n",
              "                        [-1.3596e-02,  3.5604e-02, -3.6415e-02]],\n",
              "              \n",
              "                       [[-6.1696e-02, -1.0061e-02, -4.9293e-02],\n",
              "                        [ 1.4748e-02, -5.3957e-02, -1.6417e-01],\n",
              "                        [ 1.1116e-01, -1.2302e-01, -1.0229e-01]],\n",
              "              \n",
              "                       [[-9.7991e-02, -7.9804e-03, -4.8763e-02],\n",
              "                        [-2.3948e-02, -7.6755e-02,  7.7550e-02],\n",
              "                        [-2.1107e-04,  5.0802e-02,  2.2344e-01]],\n",
              "              \n",
              "                       [[-1.0050e-01, -7.4505e-02, -3.8447e-02],\n",
              "                        [ 8.8925e-02,  1.1581e-02, -7.8268e-02],\n",
              "                        [ 1.9489e-03, -8.2432e-02, -2.2001e-02]],\n",
              "              \n",
              "                       [[-3.1896e-02,  8.2189e-02, -1.7235e-02],\n",
              "                        [ 7.3160e-03,  1.7762e-02, -4.6761e-02],\n",
              "                        [ 8.3252e-02, -1.9000e-02, -3.2028e-02]],\n",
              "              \n",
              "                       [[-6.6826e-02,  9.0789e-02, -9.4953e-03],\n",
              "                        [-3.8360e-02,  4.2549e-02,  1.0215e-01],\n",
              "                        [ 9.9208e-02,  4.0270e-02, -2.0837e-02]],\n",
              "              \n",
              "                       [[ 5.5648e-02,  1.1545e-01, -6.3872e-02],\n",
              "                        [ 1.1915e-02, -8.7142e-02,  9.7502e-03],\n",
              "                        [ 3.4212e-02, -4.4744e-02, -1.0344e-03]],\n",
              "              \n",
              "                       [[ 4.7590e-02, -1.7837e-02, -8.8413e-02],\n",
              "                        [ 8.4380e-02, -5.2926e-02, -1.1487e-02],\n",
              "                        [ 9.9819e-03, -6.4159e-03, -9.9128e-02]]]])),\n",
              "             ('conv_block_1.2.bias',\n",
              "              tensor([ 0.3807, -0.0463, -0.0578,  0.4977, -0.1159,  0.0840,  0.0968, -0.0248,\n",
              "                       0.1861, -0.0132])),\n",
              "             ('conv_block_2.0.weight',\n",
              "              tensor([[[[-3.4366e-02, -9.7543e-02, -2.9272e-02],\n",
              "                        [-4.0713e-02,  3.0923e-02,  1.4551e-01],\n",
              "                        [-6.8500e-02,  6.1483e-02,  1.1853e-01]],\n",
              "              \n",
              "                       [[ 5.8927e-02, -9.7374e-02, -4.0165e-02],\n",
              "                        [-8.9797e-02, -6.7605e-02,  5.8799e-02],\n",
              "                        [-1.2248e-02,  4.6800e-02, -6.1115e-02]],\n",
              "              \n",
              "                       [[ 1.6244e-02, -6.3540e-02,  5.2657e-02],\n",
              "                        [-4.5822e-02, -2.5967e-02, -9.1511e-02],\n",
              "                        [ 3.3972e-04,  1.0020e-01,  5.1189e-02]],\n",
              "              \n",
              "                       [[-9.0490e-02,  7.0746e-02, -3.1064e-02],\n",
              "                        [-1.2508e-01,  9.3816e-02, -8.6839e-02],\n",
              "                        [-3.0898e-02, -9.5017e-02, -7.9061e-02]],\n",
              "              \n",
              "                       [[ 1.5586e-02,  3.7387e-02,  2.3682e-02],\n",
              "                        [-5.1432e-02,  1.0427e-01, -1.7614e-02],\n",
              "                        [-6.8993e-02, -4.6998e-02,  1.0125e-01]],\n",
              "              \n",
              "                       [[ 1.0417e-01, -2.0438e-02, -6.5403e-02],\n",
              "                        [ 6.8717e-02, -3.8391e-02, -1.0036e-01],\n",
              "                        [ 9.2588e-02,  1.5188e-01,  6.5877e-02]],\n",
              "              \n",
              "                       [[-1.4075e-01,  1.2032e-01, -1.3015e-01],\n",
              "                        [ 7.5944e-02,  1.0693e-01, -2.2057e-02],\n",
              "                        [ 2.6204e-01,  2.2882e-02, -8.4026e-02]],\n",
              "              \n",
              "                       [[ 3.3286e-02, -6.7639e-03,  2.4469e-02],\n",
              "                        [ 1.4256e-02,  4.3019e-02, -1.2649e-01],\n",
              "                        [ 8.1918e-02, -6.6906e-02, -5.6065e-02]],\n",
              "              \n",
              "                       [[-1.3863e-01, -3.7422e-02,  7.7946e-03],\n",
              "                        [ 4.0097e-02,  1.2972e-01,  4.3396e-02],\n",
              "                        [-5.6579e-02, -1.2363e-01,  2.1920e-02]],\n",
              "              \n",
              "                       [[ 2.6185e-01, -5.6543e-02,  4.7050e-02],\n",
              "                        [ 2.5125e-01,  9.6469e-02, -6.1799e-02],\n",
              "                        [ 1.7418e-01,  1.6742e-01,  4.6476e-02]]],\n",
              "              \n",
              "              \n",
              "                      [[[-2.6333e-02, -1.6283e-01, -1.5293e-01],\n",
              "                        [ 1.7785e-01, -3.3689e-01, -9.6859e-03],\n",
              "                        [ 4.1995e-02,  2.5799e-02, -9.7367e-02]],\n",
              "              \n",
              "                       [[ 4.8600e-02, -4.0191e-02, -1.1292e-01],\n",
              "                        [-5.0251e-02,  1.0421e-01, -2.2213e-02],\n",
              "                        [ 1.4852e-02, -4.5153e-02,  6.5902e-02]],\n",
              "              \n",
              "                       [[ 6.1128e-02,  3.6522e-02, -5.2360e-02],\n",
              "                        [-8.6337e-02,  4.2957e-03, -6.1737e-02],\n",
              "                        [ 8.6511e-02, -1.0137e-01,  4.6988e-02]],\n",
              "              \n",
              "                       [[-1.4873e-01,  3.2857e-01,  3.4666e-01],\n",
              "                        [-1.6191e-01,  8.6382e-01,  1.6979e-01],\n",
              "                        [-8.9184e-01, -6.7926e-02, -8.1295e-02]],\n",
              "              \n",
              "                       [[-3.1685e-03,  9.3688e-02, -6.6969e-02],\n",
              "                        [-6.5146e-02,  3.6021e-03, -1.8227e-03],\n",
              "                        [ 9.7566e-03, -1.1300e-01, -4.1196e-02]],\n",
              "              \n",
              "                       [[ 1.5506e-01, -4.6791e-01, -4.8970e-02],\n",
              "                        [ 2.9624e-01,  1.0833e-01, -9.6120e-03],\n",
              "                        [ 2.2147e-02,  2.7783e-01,  1.4713e-01]],\n",
              "              \n",
              "                       [[-5.6124e-01, -1.1853e-01,  1.7211e-01],\n",
              "                        [-5.8090e-01,  3.5462e-01,  3.7891e-01],\n",
              "                        [-3.6657e-01, -6.9638e-02, -2.2328e-02]],\n",
              "              \n",
              "                       [[-3.1840e-02, -2.7069e-01,  7.4172e-02],\n",
              "                        [-2.5719e-01, -2.9887e-02, -1.7566e-01],\n",
              "                        [-2.2371e-01, -1.3052e-01, -1.2320e-01]],\n",
              "              \n",
              "                       [[-4.0734e-01,  8.6902e-02,  4.2397e-01],\n",
              "                        [-1.7933e-01,  3.0957e-01,  3.2745e-01],\n",
              "                        [-2.8568e-01, -9.2317e-02, -8.6392e-02]],\n",
              "              \n",
              "                       [[ 3.3567e-01, -4.9030e-02, -1.2649e-01],\n",
              "                        [ 2.7079e-01, -7.0986e-02, -2.9972e-01],\n",
              "                        [-2.9102e-01,  9.9806e-02,  9.0099e-02]]],\n",
              "              \n",
              "              \n",
              "                      [[[-6.1795e-02,  6.7530e-02,  7.0187e-02],\n",
              "                        [-1.0536e-01, -1.0687e-01, -1.0031e-01],\n",
              "                        [-7.8193e-02, -5.4373e-02, -2.1401e-02]],\n",
              "              \n",
              "                       [[-2.5410e-02, -5.3686e-02, -3.3739e-02],\n",
              "                        [-3.9660e-02,  1.0344e-01, -3.9137e-02],\n",
              "                        [-7.5488e-02,  4.3746e-02, -6.1524e-03]],\n",
              "              \n",
              "                       [[ 8.0696e-02,  6.5861e-02,  9.6855e-02],\n",
              "                        [-7.7197e-02,  6.7774e-02,  8.8466e-02],\n",
              "                        [-5.2054e-02,  9.6899e-02,  7.9019e-02]],\n",
              "              \n",
              "                       [[-1.7611e-02,  4.8499e-02, -6.2098e-02],\n",
              "                        [-1.1181e-01,  2.9573e-02,  1.0933e-02],\n",
              "                        [-9.0584e-02,  2.9006e-02, -1.2203e-01]],\n",
              "              \n",
              "                       [[ 8.2914e-02,  9.9295e-02,  1.3806e-02],\n",
              "                        [-6.6772e-02,  5.8546e-02,  9.7386e-03],\n",
              "                        [ 1.4419e-02,  2.6820e-02,  5.9423e-02]],\n",
              "              \n",
              "                       [[-4.9745e-02, -3.3065e-02,  2.6569e-02],\n",
              "                        [-4.7707e-04,  7.5299e-02, -6.2286e-02],\n",
              "                        [-5.8961e-03,  1.7230e-02, -2.6802e-02]],\n",
              "              \n",
              "                       [[ 5.0394e-02,  4.2751e-03, -1.0647e-01],\n",
              "                        [-2.5083e-02, -5.1012e-02,  1.4798e-02],\n",
              "                        [-2.9057e-02, -1.1591e-01, -3.1453e-02]],\n",
              "              \n",
              "                       [[-2.2292e-02, -3.5829e-02,  8.5146e-02],\n",
              "                        [-2.4694e-02,  7.4643e-02,  2.8514e-02],\n",
              "                        [-9.9562e-02,  1.9297e-02,  7.7660e-02]],\n",
              "              \n",
              "                       [[-9.6929e-02, -7.1958e-02,  7.5552e-02],\n",
              "                        [ 7.1053e-02, -4.8329e-02,  5.6001e-02],\n",
              "                        [-3.2930e-02, -1.1222e-01, -1.0207e-02]],\n",
              "              \n",
              "                       [[ 4.9565e-02, -4.2261e-02,  4.3671e-02],\n",
              "                        [-7.6990e-02,  6.8727e-02,  9.2527e-02],\n",
              "                        [ 6.1465e-02,  1.6141e-02,  3.4851e-02]]],\n",
              "              \n",
              "              \n",
              "                      [[[-9.1221e-02, -7.8878e-02, -3.8464e-02],\n",
              "                        [-5.6999e-02, -4.0509e-02,  1.2096e-01],\n",
              "                        [ 6.6604e-02, -7.9262e-02,  5.9264e-02]],\n",
              "              \n",
              "                       [[ 4.0226e-02,  1.0464e-01,  6.4133e-02],\n",
              "                        [ 9.8644e-02, -3.4383e-02,  7.2701e-02],\n",
              "                        [ 8.5577e-02, -9.9624e-02, -8.8552e-02]],\n",
              "              \n",
              "                       [[ 2.1198e-02,  5.7461e-02, -5.2496e-02],\n",
              "                        [ 1.1680e-02, -2.1957e-04,  2.6729e-02],\n",
              "                        [-5.6644e-02,  5.9450e-02,  7.0176e-02]],\n",
              "              \n",
              "                       [[ 3.0924e-02,  7.0460e-02,  5.6475e-03],\n",
              "                        [ 1.4319e-01,  2.6554e-02, -1.4217e-01],\n",
              "                        [-1.4377e-02, -2.4966e-02, -2.9505e-01]],\n",
              "              \n",
              "                       [[-2.3442e-02,  1.2659e-02, -8.1057e-02],\n",
              "                        [ 1.5743e-02, -6.6531e-02,  9.5974e-03],\n",
              "                        [ 9.7063e-03,  1.1790e-02, -8.9078e-02]],\n",
              "              \n",
              "                       [[-1.3384e-01,  7.1398e-02,  1.7954e-01],\n",
              "                        [-7.0484e-02,  8.7948e-02, -4.4094e-02],\n",
              "                        [-4.9136e-03,  3.0036e-02,  3.4041e-02]],\n",
              "              \n",
              "                       [[-3.4597e-02,  2.5005e-01,  5.7760e-02],\n",
              "                        [ 1.1383e-02,  1.8973e-01, -1.3439e-01],\n",
              "                        [-1.6206e-02, -6.1297e-03, -1.6352e-01]],\n",
              "              \n",
              "                       [[ 4.0352e-02,  8.6403e-02, -6.7566e-02],\n",
              "                        [-5.1676e-02,  5.5693e-02, -1.2539e-01],\n",
              "                        [-1.8498e-02, -3.8470e-03, -1.0960e-01]],\n",
              "              \n",
              "                       [[ 8.5429e-02,  8.6893e-02,  9.5517e-02],\n",
              "                        [ 6.5791e-02, -3.5740e-02,  1.4060e-02],\n",
              "                        [ 3.6647e-02, -2.5469e-02, -1.9799e-01]],\n",
              "              \n",
              "                       [[-3.1181e-02, -1.0043e-01,  1.1905e-01],\n",
              "                        [-6.1035e-02, -1.1622e-01, -8.0956e-03],\n",
              "                        [-1.4109e-01,  4.4297e-02,  1.0503e-01]]],\n",
              "              \n",
              "              \n",
              "                      [[[-6.4655e-02,  2.3749e-02, -1.5784e-01],\n",
              "                        [-5.6127e-02,  1.5898e-01,  6.1592e-02],\n",
              "                        [ 1.9732e-01,  1.1105e-01,  1.2414e-01]],\n",
              "              \n",
              "                       [[ 6.4659e-02,  8.0344e-02, -1.0487e-01],\n",
              "                        [ 8.5039e-02, -8.7098e-02,  9.3785e-02],\n",
              "                        [-1.1525e-02, -9.2116e-02,  2.9422e-02]],\n",
              "              \n",
              "                       [[-2.1970e-02, -9.5091e-02, -3.8299e-02],\n",
              "                        [ 1.0732e-02,  8.1261e-02, -3.2739e-02],\n",
              "                        [ 6.2580e-02,  1.3489e-02,  3.5963e-03]],\n",
              "              \n",
              "                       [[ 1.9128e-01, -1.5124e-02, -1.2255e-01],\n",
              "                        [ 1.3101e-01, -1.7896e-01, -2.3642e-01],\n",
              "                        [ 8.0017e-02, -6.4938e-02, -1.4073e-01]],\n",
              "              \n",
              "                       [[-1.1557e-02, -9.7416e-03, -5.6326e-02],\n",
              "                        [ 1.6137e-02, -1.5529e-02,  3.2535e-02],\n",
              "                        [ 9.8133e-03, -5.6864e-02, -3.5192e-02]],\n",
              "              \n",
              "                       [[-4.1638e-03, -8.4301e-02, -1.9502e-02],\n",
              "                        [ 7.5958e-02,  2.6525e-02, -1.1807e-03],\n",
              "                        [ 9.8702e-02, -6.7838e-02, -1.2320e-01]],\n",
              "              \n",
              "                       [[ 4.8912e-02, -1.1942e-01, -5.0894e-02],\n",
              "                        [ 1.2606e-01, -7.5033e-02, -1.8844e-01],\n",
              "                        [ 2.3873e-01,  1.4222e-01, -2.9565e-02]],\n",
              "              \n",
              "                       [[ 7.0135e-02, -1.5315e-01,  1.5553e-02],\n",
              "                        [ 1.1441e-01, -4.4649e-03, -1.4258e-01],\n",
              "                        [ 9.6669e-02, -5.8022e-02, -7.7149e-03]],\n",
              "              \n",
              "                       [[ 1.2308e-02, -2.3747e-02, -8.5539e-02],\n",
              "                        [ 3.7021e-02,  7.3639e-02, -1.5209e-02],\n",
              "                        [-3.6494e-02,  3.0212e-02, -7.0995e-02]],\n",
              "              \n",
              "                       [[-3.6973e-02,  7.5514e-02,  1.1494e-01],\n",
              "                        [ 1.4858e-01, -6.3679e-02,  3.0965e-02],\n",
              "                        [ 2.2698e-01,  1.4429e-01, -5.6952e-02]]],\n",
              "              \n",
              "              \n",
              "                      [[[-1.1120e-01,  6.2612e-02,  3.2668e-02],\n",
              "                        [-3.5038e-02, -3.3929e-02, -2.0122e-02],\n",
              "                        [ 7.3094e-02, -1.1081e-02,  1.2527e-01]],\n",
              "              \n",
              "                       [[ 9.3096e-02,  1.1997e-02,  2.1004e-02],\n",
              "                        [-8.6263e-03,  7.2753e-02, -9.3924e-02],\n",
              "                        [ 4.1699e-02, -1.6896e-02,  4.8148e-02]],\n",
              "              \n",
              "                       [[-5.5115e-04, -3.9038e-02, -1.1438e-02],\n",
              "                        [ 5.6956e-02, -7.3184e-02, -6.6626e-02],\n",
              "                        [-2.3579e-02, -3.8315e-02,  4.1415e-02]],\n",
              "              \n",
              "                       [[ 3.2771e-02, -7.0231e-02,  3.7008e-02],\n",
              "                        [-5.7648e-02, -5.9185e-02, -5.6099e-02],\n",
              "                        [-8.2922e-02, -7.3666e-02, -1.2741e-01]],\n",
              "              \n",
              "                       [[-1.0275e-01,  2.2049e-02,  6.3242e-02],\n",
              "                        [ 9.6172e-02,  9.2770e-02,  3.3496e-03],\n",
              "                        [ 2.3163e-02, -5.6334e-02,  5.3744e-02]],\n",
              "              \n",
              "                       [[-1.0490e-01, -4.5179e-03, -2.1611e-02],\n",
              "                        [ 2.2293e-02,  1.0860e-02, -3.4234e-02],\n",
              "                        [ 1.0855e-01,  6.4280e-02,  9.2122e-02]],\n",
              "              \n",
              "                       [[ 6.4559e-04,  4.4392e-02,  2.5695e-02],\n",
              "                        [ 5.8858e-02,  8.7259e-02, -4.1330e-02],\n",
              "                        [ 6.2517e-02,  4.1823e-02,  5.2179e-02]],\n",
              "              \n",
              "                       [[ 1.0696e-01,  1.3329e-02, -4.8749e-02],\n",
              "                        [-4.4428e-03,  3.9864e-02,  1.5987e-02],\n",
              "                        [-3.0358e-02,  9.4054e-02,  6.9093e-02]],\n",
              "              \n",
              "                       [[-1.0502e-01, -3.0432e-02, -6.5568e-02],\n",
              "                        [-9.4106e-02,  1.8027e-02, -4.2798e-02],\n",
              "                        [-6.5288e-02, -2.5308e-02, -3.9298e-02]],\n",
              "              \n",
              "                       [[ 1.2998e-01,  6.3360e-03,  1.7114e-01],\n",
              "                        [ 5.1422e-02,  4.3521e-03,  6.6042e-02],\n",
              "                        [ 3.5614e-02, -1.0151e-01, -6.6097e-02]]],\n",
              "              \n",
              "              \n",
              "                      [[[-9.8758e-02,  3.2467e-01,  2.7592e-01],\n",
              "                        [-3.3713e-01, -1.3677e-02, -2.9778e-03],\n",
              "                        [-2.1908e-01, -2.8735e-01, -4.0012e-01]],\n",
              "              \n",
              "                       [[-7.4580e-02,  2.1983e-02,  4.9008e-02],\n",
              "                        [ 8.8812e-02, -5.5303e-02, -1.0140e-02],\n",
              "                        [-1.0610e-02, -2.1794e-03,  2.9496e-02]],\n",
              "              \n",
              "                       [[-1.6943e-03,  3.9484e-03,  1.4489e-02],\n",
              "                        [ 3.9783e-02, -3.0437e-02, -6.3022e-02],\n",
              "                        [ 2.5125e-02, -1.2129e-02, -4.7171e-02]],\n",
              "              \n",
              "                       [[-1.2152e-01, -4.1988e-01, -6.0175e-01],\n",
              "                        [ 4.0068e-01,  1.8090e-01, -2.2363e-01],\n",
              "                        [-2.2990e-02,  2.3169e-01,  3.3983e-01]],\n",
              "              \n",
              "                       [[-9.0403e-03, -1.6074e-02,  1.4955e-02],\n",
              "                        [ 6.4369e-02, -6.8400e-02,  5.5900e-02],\n",
              "                        [ 1.3971e-02, -7.4013e-02,  3.3333e-02]],\n",
              "              \n",
              "                       [[-5.8077e-02,  5.8482e-02,  7.8657e-02],\n",
              "                        [-1.5160e-01, -2.8137e-04, -1.5556e-01],\n",
              "                        [ 1.9126e-01, -2.5102e-03, -7.4544e-03]],\n",
              "              \n",
              "                       [[ 4.2263e-02,  2.5229e-01, -5.0835e-01],\n",
              "                        [ 3.4211e-01,  2.7206e-01, -2.7977e-01],\n",
              "                        [-2.1557e-01, -1.0369e-01, -2.3173e-01]],\n",
              "              \n",
              "                       [[-9.7281e-04,  5.4773e-02, -3.4409e-01],\n",
              "                        [ 3.9487e-02, -2.3777e-02, -9.8705e-03],\n",
              "                        [-2.1075e-01, -2.4727e-01,  1.3406e-02]],\n",
              "              \n",
              "                       [[-3.5280e-02, -3.1934e-02, -2.6203e-01],\n",
              "                        [ 1.4967e-01,  1.6523e-01, -3.2116e-01],\n",
              "                        [ 1.3378e-02,  1.6879e-01,  6.7946e-02]],\n",
              "              \n",
              "                       [[ 2.5803e-02, -2.1490e-01,  4.6822e-02],\n",
              "                        [-3.7229e-02, -3.6389e-01, -2.6536e-01],\n",
              "                        [ 7.3581e-02, -2.4604e-01, -1.5130e-01]]],\n",
              "              \n",
              "              \n",
              "                      [[[-2.2982e-02,  3.0563e-01,  1.3769e-01],\n",
              "                        [-2.9256e-02, -2.2470e-01, -5.3299e-02],\n",
              "                        [ 4.7825e-02, -1.8172e-02,  1.6377e-01]],\n",
              "              \n",
              "                       [[-9.0900e-02, -1.8395e-02, -6.0466e-02],\n",
              "                        [ 3.4782e-02, -6.9126e-02,  5.6376e-02],\n",
              "                        [-7.2653e-02,  6.4831e-02, -8.0558e-02]],\n",
              "              \n",
              "                       [[ 5.9203e-02, -4.5676e-02, -3.2900e-03],\n",
              "                        [-2.2044e-02,  6.8446e-02,  3.5049e-02],\n",
              "                        [-9.1184e-02,  1.0031e-02, -7.2103e-02]],\n",
              "              \n",
              "                       [[-1.0064e-01, -1.8720e-01, -4.2571e-01],\n",
              "                        [-2.2803e-01,  5.1051e-01,  1.8081e-01],\n",
              "                        [ 4.7637e-02,  4.7365e-01, -8.8906e-02]],\n",
              "              \n",
              "                       [[ 1.7569e-02, -1.1452e-01,  6.8592e-02],\n",
              "                        [-3.0239e-02, -4.9934e-02, -2.0187e-02],\n",
              "                        [ 6.3083e-02,  7.5002e-02,  2.9462e-04]],\n",
              "              \n",
              "                       [[ 1.0506e-01, -5.4830e-01, -2.6923e-01],\n",
              "                        [-1.4040e-01, -2.4552e-01, -1.4292e-01],\n",
              "                        [-1.0672e-01,  3.5598e-02,  4.5996e-02]],\n",
              "              \n",
              "                       [[ 1.5516e-01, -2.4743e-01, -1.8080e-01],\n",
              "                        [-3.2275e-01,  9.4610e-02, -1.2436e-01],\n",
              "                        [-2.9674e-01,  2.4295e-01,  8.5161e-02]],\n",
              "              \n",
              "                       [[ 6.7628e-02, -8.2019e-02, -7.9396e-02],\n",
              "                        [-8.0573e-02, -2.7617e-02, -2.7425e-02],\n",
              "                        [-1.1252e-01, -3.0374e-03, -6.9992e-02]],\n",
              "              \n",
              "                       [[ 1.1680e-01, -1.2447e-01, -1.9562e-01],\n",
              "                        [-1.8866e-01,  1.9359e-01,  8.4244e-02],\n",
              "                        [ 9.4376e-03,  1.4027e-01,  1.4343e-01]],\n",
              "              \n",
              "                       [[ 1.2473e-01, -4.1193e-01,  1.6708e-01],\n",
              "                        [ 1.0635e-01, -1.0306e-01,  5.4558e-02],\n",
              "                        [-1.2077e-02,  9.4804e-03, -1.1577e-01]]],\n",
              "              \n",
              "              \n",
              "                      [[[-1.2362e-01, -7.7755e-02,  1.9209e-01],\n",
              "                        [ 1.3100e-01,  2.4606e-01,  2.6671e-01],\n",
              "                        [-2.2811e-02, -1.0151e-02,  1.4832e-02]],\n",
              "              \n",
              "                       [[ 5.8898e-02,  1.7822e-02,  2.8528e-02],\n",
              "                        [-4.9310e-02,  4.6280e-02,  6.5322e-02],\n",
              "                        [ 4.7081e-02,  1.9053e-02,  1.0428e-01]],\n",
              "              \n",
              "                       [[-2.3858e-04,  2.2381e-02,  1.0008e-01],\n",
              "                        [ 1.0188e-01, -4.4854e-02,  9.5475e-02],\n",
              "                        [ 3.7767e-02, -1.2429e-02,  9.1572e-02]],\n",
              "              \n",
              "                       [[ 2.1410e-01,  4.2265e-01,  1.9217e-01],\n",
              "                        [-1.0939e-01, -5.7409e-01, -3.4350e-01],\n",
              "                        [ 1.3895e-01, -3.7802e-01,  2.6100e-02]],\n",
              "              \n",
              "                       [[ 4.6190e-02,  7.9578e-02,  4.7657e-02],\n",
              "                        [ 6.4858e-02,  3.6135e-02, -8.5916e-02],\n",
              "                        [-9.3509e-02, -1.1065e-02,  8.4674e-02]],\n",
              "              \n",
              "                       [[-3.1163e-02,  1.8792e-01, -3.5206e-02],\n",
              "                        [ 3.8860e-02,  7.0463e-02,  1.7927e-02],\n",
              "                        [-1.0502e-01, -2.2588e-01, -1.0268e-01]],\n",
              "              \n",
              "                       [[-7.8790e-02,  1.6839e-01,  1.2561e-01],\n",
              "                        [-1.5869e-02, -4.7636e-01, -5.5271e-01],\n",
              "                        [ 2.5880e-01, -3.3323e-01, -2.8949e-01]],\n",
              "              \n",
              "                       [[-4.1191e-02,  8.7409e-02,  6.1799e-02],\n",
              "                        [-2.0499e-01, -2.7555e-01, -5.0997e-02],\n",
              "                        [ 5.0115e-02, -2.2190e-01, -2.2642e-01]],\n",
              "              \n",
              "                       [[ 1.4464e-01,  1.6525e-01, -7.7511e-02],\n",
              "                        [ 2.3454e-02, -2.3043e-01, -2.6476e-01],\n",
              "                        [ 1.3505e-01, -2.8664e-01, -1.3624e-01]],\n",
              "              \n",
              "                       [[-8.6120e-02, -2.7219e-01,  1.4720e-01],\n",
              "                        [-1.4861e-01, -1.6049e-01,  7.0210e-02],\n",
              "                        [-2.3546e-01, -3.3513e-01,  1.0920e-01]]],\n",
              "              \n",
              "              \n",
              "                      [[[-9.6001e-02,  4.3370e-02,  6.1048e-04],\n",
              "                        [ 7.2330e-02,  8.6043e-02, -1.0327e-02],\n",
              "                        [ 1.2207e-01, -8.1927e-02, -8.7597e-02]],\n",
              "              \n",
              "                       [[ 7.6331e-02,  3.0854e-02, -1.4125e-02],\n",
              "                        [-2.4283e-02, -6.4230e-02,  6.3203e-02],\n",
              "                        [-2.6947e-03, -2.6755e-03,  2.5698e-02]],\n",
              "              \n",
              "                       [[ 7.7779e-02, -5.3747e-02, -3.6214e-02],\n",
              "                        [ 7.1361e-02,  5.9626e-02, -5.1707e-02],\n",
              "                        [-1.0437e-01,  1.9449e-02,  5.5441e-02]],\n",
              "              \n",
              "                       [[-1.3691e-02,  4.0709e-02, -1.2080e-01],\n",
              "                        [-2.0568e-02, -8.9962e-02,  4.1995e-02],\n",
              "                        [ 9.8681e-03,  2.3561e-02,  2.0175e-01]],\n",
              "              \n",
              "                       [[-7.0352e-02, -9.4674e-02, -1.0220e-01],\n",
              "                        [ 6.3701e-02,  3.5273e-02, -7.7771e-02],\n",
              "                        [ 4.7988e-02,  9.5886e-02, -1.0235e-01]],\n",
              "              \n",
              "                       [[ 4.0593e-02, -4.8266e-03, -3.7189e-02],\n",
              "                        [ 8.4132e-02,  8.2124e-02,  9.7180e-03],\n",
              "                        [ 1.0634e-01,  9.6121e-02,  7.7586e-02]],\n",
              "              \n",
              "                       [[-1.2061e-01, -2.8716e-02, -1.0242e-01],\n",
              "                        [-1.3649e-02, -5.7902e-02, -3.1617e-02],\n",
              "                        [-1.2273e-01, -1.2624e-01, -3.2826e-05]],\n",
              "              \n",
              "                       [[ 4.1187e-02,  3.7183e-02, -4.7707e-02],\n",
              "                        [-3.2641e-02, -5.0190e-02,  4.5673e-02],\n",
              "                        [-6.4405e-02,  4.4984e-02,  3.8942e-02]],\n",
              "              \n",
              "                       [[-1.0746e-01, -2.5930e-02, -3.0884e-02],\n",
              "                        [-7.8625e-02,  1.1007e-02, -2.6596e-02],\n",
              "                        [ 5.9295e-02, -9.8611e-02,  4.7084e-02]],\n",
              "              \n",
              "                       [[-1.1484e-01, -1.5998e-02, -9.4748e-03],\n",
              "                        [ 7.1715e-02,  1.0380e-01, -8.8804e-02],\n",
              "                        [ 1.1478e-02,  3.1484e-03,  9.1995e-02]]]])),\n",
              "             ('conv_block_2.0.bias',\n",
              "              tensor([-0.0753,  0.2206, -0.0503, -0.1896, -0.2849,  0.0465,  0.3349,  0.5329,\n",
              "                       0.8123, -0.0693])),\n",
              "             ('conv_block_2.2.weight',\n",
              "              tensor([[[[-9.6598e-02, -1.5548e-01, -3.7943e-03],\n",
              "                        [-6.8278e-02, -8.0038e-02,  6.6268e-03],\n",
              "                        [-1.1226e-02, -2.0582e-01,  7.4372e-02]],\n",
              "              \n",
              "                       [[-1.3693e-01, -2.8226e-01, -1.4404e-01],\n",
              "                        [-1.2507e-01, -4.1405e-02, -5.2510e-01],\n",
              "                        [ 4.6277e-01,  3.0801e-01, -6.9776e-01]],\n",
              "              \n",
              "                       [[ 6.9612e-02,  3.0486e-03,  8.1625e-02],\n",
              "                        [-5.8677e-02,  6.3929e-02,  1.0137e-02],\n",
              "                        [ 2.0247e-02,  7.0490e-02, -1.0069e-01]],\n",
              "              \n",
              "                       [[-1.4118e-01,  1.7373e-01, -1.5384e-01],\n",
              "                        [-1.3324e-01,  2.9607e-02, -8.7854e-02],\n",
              "                        [-8.5263e-02,  8.2238e-02, -4.5868e-03]],\n",
              "              \n",
              "                       [[-1.7479e-01, -2.2529e-01, -9.5702e-02],\n",
              "                        [-1.5877e-02, -1.2597e-01, -9.6263e-02],\n",
              "                        [-3.5403e-02, -2.1503e-01, -2.4906e-01]],\n",
              "              \n",
              "                       [[-7.1993e-02, -1.0188e-01,  1.2124e-01],\n",
              "                        [-1.1840e-02,  2.8403e-04,  8.1825e-02],\n",
              "                        [ 1.4981e-03, -8.0657e-02, -7.0120e-02]],\n",
              "              \n",
              "                       [[-7.3506e-02,  7.7839e-02, -1.4571e-01],\n",
              "                        [-4.8037e-01, -1.9297e-03,  3.7353e-01],\n",
              "                        [-3.9372e-01,  1.9891e-01,  3.3765e-01]],\n",
              "              \n",
              "                       [[ 3.5210e-01,  4.1191e-02, -8.5972e-02],\n",
              "                        [-6.3236e-02,  3.1766e-02, -6.5541e-03],\n",
              "                        [-6.0217e-03, -2.6347e-02, -1.5695e-01]],\n",
              "              \n",
              "                       [[ 3.4711e-01, -1.2139e-01,  9.8563e-02],\n",
              "                        [ 6.3304e-02, -3.6590e-01,  2.1865e-01],\n",
              "                        [-2.8460e-01, -4.4877e-01, -2.6116e-01]],\n",
              "              \n",
              "                       [[-7.3678e-02,  3.8052e-02, -6.4955e-02],\n",
              "                        [ 2.0709e-02, -7.2597e-02, -4.7955e-02],\n",
              "                        [ 5.7943e-02,  2.5606e-03, -3.4027e-02]]],\n",
              "              \n",
              "              \n",
              "                      [[[ 4.3236e-02,  7.1971e-02,  4.3488e-02],\n",
              "                        [-9.4934e-02,  7.2891e-02,  4.5751e-02],\n",
              "                        [ 1.3450e-01,  1.8198e-02,  1.3275e-01]],\n",
              "              \n",
              "                       [[ 8.0773e-02,  2.3362e-01, -3.4701e-01],\n",
              "                        [ 8.3114e-03, -1.7367e-01,  4.2241e-01],\n",
              "                        [-2.3691e-01, -7.8402e-01,  1.8931e-01]],\n",
              "              \n",
              "                       [[ 2.4709e-02,  2.0659e-02,  7.7882e-02],\n",
              "                        [ 7.6343e-02, -6.1500e-02, -4.1435e-02],\n",
              "                        [-2.9911e-02, -8.4169e-02, -2.6091e-02]],\n",
              "              \n",
              "                       [[-3.0271e-02,  1.9499e-01,  3.4161e-02],\n",
              "                        [ 9.7877e-02, -3.4696e-02, -1.2410e-01],\n",
              "                        [ 1.3973e-01,  4.6965e-02,  2.4255e-02]],\n",
              "              \n",
              "                       [[-8.3635e-02,  1.7987e-01,  7.6286e-02],\n",
              "                        [ 2.2003e-02,  5.1922e-02,  1.1623e-01],\n",
              "                        [ 1.1971e-01,  5.6102e-02,  1.2961e-02]],\n",
              "              \n",
              "                       [[-6.4818e-03,  3.8860e-02,  4.9968e-02],\n",
              "                        [-5.8324e-02, -1.0034e-01,  9.8005e-03],\n",
              "                        [ 4.9091e-02,  3.3225e-02, -9.2370e-03]],\n",
              "              \n",
              "                       [[-1.7730e-01,  8.1990e-02,  1.2611e-01],\n",
              "                        [-3.2924e-01,  1.8122e-01, -3.5894e-02],\n",
              "                        [ 2.8009e-02,  2.4394e-01, -1.0073e-01]],\n",
              "              \n",
              "                       [[ 4.7778e-02, -1.7055e-01,  1.1688e-01],\n",
              "                        [ 5.3663e-02, -5.3026e-01, -5.4073e-02],\n",
              "                        [ 2.5405e-01, -5.7891e-01,  2.6516e-01]],\n",
              "              \n",
              "                       [[-8.8067e-02, -2.0573e-01, -2.7151e-02],\n",
              "                        [ 1.5467e-01,  4.8916e-03, -3.0089e-01],\n",
              "                        [ 6.4225e-02,  8.4714e-02, -2.7769e-02]],\n",
              "              \n",
              "                       [[-1.6631e-02,  6.6781e-02,  1.0051e-01],\n",
              "                        [-6.7198e-02, -7.6692e-02,  4.6543e-02],\n",
              "                        [-1.1231e-02, -4.2033e-02, -8.9953e-02]]],\n",
              "              \n",
              "              \n",
              "                      [[[ 1.6481e-01,  5.8464e-02, -8.2955e-02],\n",
              "                        [-1.2338e-02,  8.7811e-02, -5.4012e-02],\n",
              "                        [ 1.6196e-02,  1.7144e-01, -4.0591e-02]],\n",
              "              \n",
              "                       [[-6.4995e-01,  1.7480e-01, -5.6449e-01],\n",
              "                        [-6.1279e-01,  6.0151e-01, -5.6742e-02],\n",
              "                        [-9.6613e-02, -7.2076e-02,  3.1030e-01]],\n",
              "              \n",
              "                       [[-5.6389e-03,  1.2291e-03, -2.3812e-02],\n",
              "                        [-5.5668e-03,  7.7126e-02,  5.6428e-02],\n",
              "                        [ 9.2824e-03, -3.5338e-02,  4.8564e-02]],\n",
              "              \n",
              "                       [[-7.2808e-02,  7.1828e-02,  1.4868e-02],\n",
              "                        [ 6.4164e-02,  4.3557e-02, -2.0347e-01],\n",
              "                        [ 3.7783e-02,  1.3470e-02, -1.0213e-01]],\n",
              "              \n",
              "                       [[ 1.2113e-01, -1.7104e-02, -6.3377e-02],\n",
              "                        [-3.7352e-02,  1.3407e-01, -1.0814e-01],\n",
              "                        [ 1.0270e-01,  9.7032e-02, -3.6519e-02]],\n",
              "              \n",
              "                       [[ 7.7995e-02,  1.1107e-02, -1.1079e-01],\n",
              "                        [ 7.8632e-02,  2.8439e-02,  7.9108e-03],\n",
              "                        [-7.7046e-02,  2.6653e-02, -4.6910e-02]],\n",
              "              \n",
              "                       [[-4.6269e-01, -1.1759e-01,  3.3233e-01],\n",
              "                        [-1.7693e-01,  1.0085e-01, -1.0411e-01],\n",
              "                        [-7.3945e-02,  2.0532e-01,  6.6342e-02]],\n",
              "              \n",
              "                       [[-3.0911e-01,  6.1124e-01, -3.4209e-02],\n",
              "                        [-2.4178e-01,  2.3069e-01, -9.5969e-02],\n",
              "                        [ 1.0446e-01, -2.8673e-01, -4.6724e-02]],\n",
              "              \n",
              "                       [[-2.8695e-01, -2.7125e-01,  3.6179e-02],\n",
              "                        [-3.4222e-02, -2.1449e-01, -5.8696e-02],\n",
              "                        [-1.4135e-02, -9.2415e-02, -2.1186e-01]],\n",
              "              \n",
              "                       [[ 5.3913e-02, -3.3025e-02, -1.2234e-01],\n",
              "                        [-3.8601e-02, -3.1815e-02, -7.0596e-02],\n",
              "                        [ 3.2299e-02, -1.0840e-01, -7.6292e-02]]],\n",
              "              \n",
              "              \n",
              "                      [[[-1.0604e-01, -1.2157e-02, -1.3729e-02],\n",
              "                        [-3.7245e-02,  9.0696e-02, -1.1334e-01],\n",
              "                        [ 9.7221e-03, -7.2976e-03,  3.1721e-02]],\n",
              "              \n",
              "                       [[ 1.3832e-01, -1.5474e-01, -4.1541e-01],\n",
              "                        [ 5.2134e-02, -3.3198e-01,  3.8380e-02],\n",
              "                        [-4.4826e-02, -4.4317e-01,  5.7513e-01]],\n",
              "              \n",
              "                       [[ 4.4351e-02, -3.0609e-02, -3.6259e-03],\n",
              "                        [ 2.8361e-02, -1.7084e-02,  8.2650e-02],\n",
              "                        [-8.1516e-02,  5.2511e-02, -6.3837e-02]],\n",
              "              \n",
              "                       [[-7.5671e-02,  2.5561e-02,  3.6676e-02],\n",
              "                        [ 9.3301e-02,  4.2742e-02, -2.7388e-02],\n",
              "                        [ 6.3591e-02, -6.4704e-02, -2.6861e-02]],\n",
              "              \n",
              "                       [[-4.9928e-02,  1.2771e-02,  5.3371e-02],\n",
              "                        [-8.4291e-02, -8.5437e-02, -8.5036e-02],\n",
              "                        [ 1.9705e-02, -1.8049e-01,  1.5752e-02]],\n",
              "              \n",
              "                       [[-9.8279e-02,  4.5671e-02,  6.3308e-02],\n",
              "                        [-7.5568e-02, -1.2236e-01,  4.6251e-03],\n",
              "                        [-3.1197e-02,  9.3512e-03, -6.7334e-02]],\n",
              "              \n",
              "                       [[-2.3714e-02, -8.4532e-02, -1.3637e-01],\n",
              "                        [-1.4482e-01, -1.1436e-01, -1.0024e-01],\n",
              "                        [-1.3565e-02, -2.2636e-01, -1.0132e-01]],\n",
              "              \n",
              "                       [[-1.1070e-01,  3.6547e-02,  6.0999e-02],\n",
              "                        [-1.0302e-01, -1.8095e-02,  1.5402e-01],\n",
              "                        [-2.0954e-01, -7.7662e-03, -4.0025e-03]],\n",
              "              \n",
              "                       [[ 1.6236e-01,  1.9998e-01,  9.9548e-02],\n",
              "                        [ 5.5452e-03, -3.8744e-02, -4.7185e-01],\n",
              "                        [ 3.8861e-01,  7.8735e-02, -2.5752e-01]],\n",
              "              \n",
              "                       [[ 4.3365e-02,  5.4139e-02,  7.8655e-02],\n",
              "                        [ 2.6999e-02, -1.1363e-01, -1.4672e-01],\n",
              "                        [-8.1204e-02,  1.6143e-02, -1.2282e-01]]],\n",
              "              \n",
              "              \n",
              "                      [[[-9.3417e-02, -1.3680e-01, -5.6805e-02],\n",
              "                        [-5.6679e-02, -6.8415e-02, -6.9979e-02],\n",
              "                        [ 3.6054e-02, -7.8500e-02, -4.0362e-02]],\n",
              "              \n",
              "                       [[ 5.1219e-01,  3.4649e-01,  2.8907e-01],\n",
              "                        [-1.7095e-01, -2.5110e-01, -2.1231e-01],\n",
              "                        [-1.1358e-01, -5.1238e-02, -1.1888e-01]],\n",
              "              \n",
              "                       [[-1.0097e-01, -9.3828e-02, -3.4082e-02],\n",
              "                        [-1.0699e-03, -4.8600e-02, -8.4142e-02],\n",
              "                        [ 1.0410e-02, -8.3807e-02, -8.1380e-02]],\n",
              "              \n",
              "                       [[-2.3640e-02, -7.0485e-02,  2.2468e-01],\n",
              "                        [ 7.4674e-02, -1.0762e-02,  4.9217e-02],\n",
              "                        [ 8.6049e-02,  7.9701e-02, -9.4780e-02]],\n",
              "              \n",
              "                       [[-3.2411e-02, -9.9800e-02, -7.2901e-02],\n",
              "                        [-6.0889e-02, -1.7870e-02, -5.5784e-02],\n",
              "                        [ 2.0723e-01,  9.5628e-02,  1.0801e-01]],\n",
              "              \n",
              "                       [[ 2.5316e-02, -5.3863e-02,  3.2537e-02],\n",
              "                        [-7.2194e-02, -5.8290e-02, -3.8529e-02],\n",
              "                        [-2.3771e-02, -9.4291e-02,  4.4621e-02]],\n",
              "              \n",
              "                       [[ 1.9571e-01, -2.1206e-01,  2.4389e-01],\n",
              "                        [-1.7468e-02, -1.5900e-01, -5.2421e-02],\n",
              "                        [ 3.4199e-02,  1.7828e-02, -1.5319e-01]],\n",
              "              \n",
              "                       [[ 1.2110e-02, -4.4362e-02,  5.1520e-02],\n",
              "                        [-1.6105e-01, -9.2098e-02, -8.1378e-02],\n",
              "                        [-1.8768e-01, -2.3207e-02,  1.2399e-01]],\n",
              "              \n",
              "                       [[-1.4896e-01,  9.6157e-02, -7.0235e-02],\n",
              "                        [-2.9644e-02,  4.9090e-02,  1.1436e-01],\n",
              "                        [-4.4682e-02,  2.3110e-02, -2.8918e-02]],\n",
              "              \n",
              "                       [[-8.6543e-02, -2.4661e-03, -3.0800e-02],\n",
              "                        [ 8.6143e-02,  9.7288e-02,  1.8543e-02],\n",
              "                        [ 9.7073e-02, -4.9426e-02,  1.0043e-01]]],\n",
              "              \n",
              "              \n",
              "                      [[[ 1.1760e-01, -2.1956e-02, -1.4929e-01],\n",
              "                        [ 5.3028e-02, -1.6221e-02, -4.7741e-02],\n",
              "                        [-2.2268e-02,  3.6587e-02, -5.6924e-02]],\n",
              "              \n",
              "                       [[-1.8182e-01, -4.6146e-01, -1.1963e-02],\n",
              "                        [-4.2629e-01, -4.1557e-01, -2.9730e-01],\n",
              "                        [ 1.7521e-01,  6.4692e-01,  9.9881e-02]],\n",
              "              \n",
              "                       [[ 4.1410e-02, -6.1440e-02, -8.1753e-02],\n",
              "                        [-5.9941e-03, -6.3986e-02, -9.1840e-02],\n",
              "                        [-9.5139e-02, -7.0976e-02,  8.5481e-02]],\n",
              "              \n",
              "                       [[ 9.0565e-02, -6.7565e-02, -1.0798e-01],\n",
              "                        [-4.2958e-02, -8.0240e-02, -5.6232e-02],\n",
              "                        [ 5.8943e-02, -2.2124e-02, -3.5851e-03]],\n",
              "              \n",
              "                       [[-2.0352e-01,  5.2230e-02, -1.2630e-01],\n",
              "                        [-7.3198e-02, -4.1413e-02, -6.9974e-02],\n",
              "                        [ 2.2635e-01, -2.0146e-02, -1.9871e-01]],\n",
              "              \n",
              "                       [[ 1.4088e-02, -9.9697e-02,  8.6231e-02],\n",
              "                        [-7.7657e-02,  5.3012e-02, -9.2298e-02],\n",
              "                        [-8.0695e-02,  1.4582e-02,  2.6509e-02]],\n",
              "              \n",
              "                       [[ 3.5686e-01,  3.0275e-01, -2.6470e-01],\n",
              "                        [-2.4303e-01,  5.5938e-02, -1.2509e-01],\n",
              "                        [-9.8220e-02, -4.3745e-01, -2.0302e-01]],\n",
              "              \n",
              "                       [[ 1.4278e-01, -9.7276e-02, -1.3646e-01],\n",
              "                        [ 1.3430e-02,  1.9941e-01,  8.9031e-02],\n",
              "                        [-2.4330e-01, -3.1216e-01,  3.1134e-01]],\n",
              "              \n",
              "                       [[ 6.7897e-02, -2.1283e-01,  2.0331e-01],\n",
              "                        [-1.3702e-01, -3.4147e-01, -8.3654e-02],\n",
              "                        [ 2.4368e-01,  1.2140e-01, -1.1277e-01]],\n",
              "              \n",
              "                       [[ 1.1985e-01,  8.7702e-02, -6.1380e-03],\n",
              "                        [-4.1377e-02, -5.0558e-02,  7.1384e-02],\n",
              "                        [ 8.6967e-02,  6.3691e-02, -9.2017e-02]]],\n",
              "              \n",
              "              \n",
              "                      [[[ 5.5099e-02,  6.0278e-03,  1.6573e-01],\n",
              "                        [ 1.1680e-01, -8.1340e-02, -4.4158e-02],\n",
              "                        [ 1.0252e-01, -5.3845e-02,  1.5819e-01]],\n",
              "              \n",
              "                       [[ 1.0758e-01,  1.7048e-01,  2.5109e-01],\n",
              "                        [-1.1689e-01, -2.3436e-01, -4.5114e-01],\n",
              "                        [-2.7646e-01, -2.1630e-01,  8.0984e-02]],\n",
              "              \n",
              "                       [[-6.2178e-03, -7.7866e-02, -2.5011e-02],\n",
              "                        [-3.5799e-02,  6.5956e-02, -3.1046e-02],\n",
              "                        [-2.9881e-02, -6.7916e-02, -4.2338e-02]],\n",
              "              \n",
              "                       [[ 1.1572e-01,  7.0193e-02,  3.5907e-02],\n",
              "                        [-1.3212e-01,  1.2237e-01,  2.5175e-02],\n",
              "                        [-1.9836e-01, -3.6016e-03,  3.0592e-02]],\n",
              "              \n",
              "                       [[ 1.8779e-01,  1.4097e-01,  9.3802e-02],\n",
              "                        [-9.8427e-02,  1.5564e-01, -1.1250e-01],\n",
              "                        [-3.6461e-01, -1.5256e-01, -7.6803e-03]],\n",
              "              \n",
              "                       [[-6.9690e-02, -6.0018e-02,  3.8605e-03],\n",
              "                        [ 8.6268e-03, -4.7080e-03, -5.8965e-02],\n",
              "                        [ 1.0280e-01, -6.8291e-03,  6.9807e-02]],\n",
              "              \n",
              "                       [[-5.9537e-02, -5.7837e-01, -1.8862e-01],\n",
              "                        [ 2.5043e-01,  1.8436e-01, -1.8301e-01],\n",
              "                        [ 1.2801e-01,  2.8988e-01, -2.2990e-01]],\n",
              "              \n",
              "                       [[-2.2163e-01, -3.6681e-01, -1.2365e-01],\n",
              "                        [-2.8947e-01, -4.8697e-01,  3.3806e-01],\n",
              "                        [ 4.8886e-01,  7.7590e-01, -2.1332e-01]],\n",
              "              \n",
              "                       [[ 3.5844e-02,  4.1275e-01,  2.0092e-01],\n",
              "                        [-9.7616e-02,  7.5650e-02,  1.1358e-01],\n",
              "                        [-3.7644e-01, -8.5065e-01, -3.1757e-02]],\n",
              "              \n",
              "                       [[ 5.4926e-02, -9.2121e-02,  4.2825e-02],\n",
              "                        [ 8.4266e-03, -5.8915e-02, -3.4876e-02],\n",
              "                        [-2.1973e-02, -1.2508e-01,  5.5857e-02]]],\n",
              "              \n",
              "              \n",
              "                      [[[ 7.6820e-02, -2.8124e-02,  9.9298e-02],\n",
              "                        [-3.5452e-02,  2.8978e-02, -6.6895e-02],\n",
              "                        [ 2.5143e-03,  5.3307e-02,  4.7688e-02]],\n",
              "              \n",
              "                       [[-1.1820e-01, -1.1006e-01,  5.5455e-03],\n",
              "                        [ 1.8355e-02,  2.7932e-03, -8.8558e-02],\n",
              "                        [ 4.2036e-04,  1.0087e-02,  4.8843e-02]],\n",
              "              \n",
              "                       [[ 9.1482e-03,  3.7845e-03, -5.1537e-03],\n",
              "                        [ 6.5272e-02,  8.3948e-03,  9.0732e-02],\n",
              "                        [ 6.1837e-02, -7.1728e-02, -8.4665e-04]],\n",
              "              \n",
              "                       [[-8.8207e-02, -8.1825e-02,  1.5185e-02],\n",
              "                        [ 2.5816e-02, -8.5053e-03,  9.5247e-02],\n",
              "                        [-5.8409e-02, -4.4123e-02, -2.3094e-02]],\n",
              "              \n",
              "                       [[-5.0480e-04, -7.5101e-03,  9.0074e-02],\n",
              "                        [-4.7234e-02, -5.5068e-02,  1.9290e-02],\n",
              "                        [ 7.3336e-02,  2.1843e-02,  6.9003e-02]],\n",
              "              \n",
              "                       [[-2.6899e-04,  7.0537e-02,  3.6842e-02],\n",
              "                        [ 7.5073e-02, -1.1186e-02, -9.4992e-02],\n",
              "                        [-4.2829e-02,  5.0908e-02,  7.8787e-02]],\n",
              "              \n",
              "                       [[-1.0469e-01,  2.6425e-02, -3.2545e-02],\n",
              "                        [-8.8518e-02, -4.9461e-03, -1.4073e-02],\n",
              "                        [ 2.9802e-02, -4.6621e-02,  2.2456e-02]],\n",
              "              \n",
              "                       [[-9.4123e-02, -7.0927e-02, -1.0328e-02],\n",
              "                        [ 1.2995e-01,  1.3638e-01,  4.3005e-02],\n",
              "                        [-1.3247e-01, -2.7837e-04, -1.4248e-01]],\n",
              "              \n",
              "                       [[-1.3575e-01, -3.7498e-02, -1.2102e-01],\n",
              "                        [ 3.9795e-02, -1.1612e-01, -2.9325e-02],\n",
              "                        [ 1.9628e-02, -1.3375e-01, -2.9486e-03]],\n",
              "              \n",
              "                       [[-1.7855e-02,  5.2286e-02,  9.6781e-02],\n",
              "                        [-5.2854e-02, -5.6126e-02,  7.0840e-02],\n",
              "                        [-8.9616e-03, -2.9679e-02,  5.6374e-02]]],\n",
              "              \n",
              "              \n",
              "                      [[[-1.9745e-01, -5.3026e-02,  5.2266e-02],\n",
              "                        [ 1.2006e-01, -4.2756e-02, -2.4419e-02],\n",
              "                        [-2.4994e-02,  2.1066e-02,  6.4992e-02]],\n",
              "              \n",
              "                       [[-6.8314e-02, -4.3074e-01, -5.9645e-02],\n",
              "                        [ 1.6706e-01, -1.6478e-01, -1.8953e-01],\n",
              "                        [-7.3905e-02, -2.0478e-01, -3.6500e-01]],\n",
              "              \n",
              "                       [[-2.9875e-03, -3.6907e-02, -7.4726e-02],\n",
              "                        [-4.7462e-02, -1.0312e-01, -6.5841e-02],\n",
              "                        [-1.1349e-02, -1.0674e-01, -9.6173e-02]],\n",
              "              \n",
              "                       [[ 7.0139e-02,  1.1899e-01, -1.3779e-01],\n",
              "                        [-7.3539e-02,  1.3222e-01, -1.0338e-01],\n",
              "                        [-1.6736e-01, -7.9613e-02, -1.5000e-02]],\n",
              "              \n",
              "                       [[ 6.5469e-02, -2.6054e-01,  9.2087e-02],\n",
              "                        [ 1.3169e-01,  7.5670e-02, -2.0782e-01],\n",
              "                        [ 4.3206e-02,  2.6262e-02, -2.3960e-01]],\n",
              "              \n",
              "                       [[ 1.2346e-01, -9.4917e-02,  1.7863e-02],\n",
              "                        [-7.0787e-02, -1.4293e-02,  1.0138e-01],\n",
              "                        [ 1.2726e-01, -6.1572e-03, -5.5592e-02]],\n",
              "              \n",
              "                       [[-7.5542e-02, -5.2344e-01,  7.9640e-02],\n",
              "                        [-2.5160e-01, -4.1604e-01, -3.3171e-01],\n",
              "                        [ 5.6779e-02,  2.1174e-01, -2.3134e-01]],\n",
              "              \n",
              "                       [[-1.1924e-01, -3.5263e-01, -8.2160e-02],\n",
              "                        [-2.8057e-02, -5.3143e-01,  1.6955e-01],\n",
              "                        [ 4.3023e-01, -1.2852e-01,  7.0156e-02]],\n",
              "              \n",
              "                       [[ 1.5666e-01,  1.2333e-01,  2.0250e-01],\n",
              "                        [ 4.2138e-02,  3.4422e-01,  1.9896e-01],\n",
              "                        [-1.0907e-01,  6.7798e-02,  2.9041e-01]],\n",
              "              \n",
              "                       [[ 7.8981e-02,  7.4492e-02, -1.0136e-01],\n",
              "                        [-1.7305e-02, -1.1230e-01, -8.1786e-03],\n",
              "                        [-1.0954e-01, -3.0772e-02, -8.6438e-02]]],\n",
              "              \n",
              "              \n",
              "                      [[[ 3.3794e-02, -1.6056e-03, -6.2385e-02],\n",
              "                        [ 5.4924e-02,  1.2498e-02, -1.1845e-01],\n",
              "                        [ 9.3825e-02,  3.7553e-02,  3.7130e-02]],\n",
              "              \n",
              "                       [[-2.3796e-01, -2.6499e-01, -6.9674e-02],\n",
              "                        [-3.4903e-01,  4.4252e-02,  1.0252e-02],\n",
              "                        [-1.6727e-01,  2.7869e-01,  2.3405e-01]],\n",
              "              \n",
              "                       [[-6.3213e-02,  6.8960e-02,  6.4962e-02],\n",
              "                        [ 2.3517e-02,  8.1627e-02,  3.8986e-02],\n",
              "                        [ 5.3237e-02, -5.8070e-02,  7.6373e-02]],\n",
              "              \n",
              "                       [[ 2.4048e-02,  5.9708e-02, -1.9622e-02],\n",
              "                        [ 6.5994e-02,  8.6070e-02, -5.8086e-02],\n",
              "                        [ 8.2436e-02, -6.5418e-02, -4.5979e-02]],\n",
              "              \n",
              "                       [[-8.4568e-02,  4.3291e-03, -1.0001e-01],\n",
              "                        [-3.8934e-02, -8.0064e-02, -3.2327e-02],\n",
              "                        [-1.3186e-01, -8.8238e-02, -7.6067e-02]],\n",
              "              \n",
              "                       [[-2.6266e-02, -5.7162e-02,  4.7168e-02],\n",
              "                        [-1.1259e-01, -1.0972e-01, -5.8992e-03],\n",
              "                        [-8.5619e-02,  4.2150e-02, -7.4246e-02]],\n",
              "              \n",
              "                       [[ 2.3150e-01, -1.1687e-01, -2.4404e-01],\n",
              "                        [ 2.1863e-01, -3.5720e-01, -4.9649e-01],\n",
              "                        [ 1.0991e-01, -1.2722e-01, -2.7230e-01]],\n",
              "              \n",
              "                       [[-2.1667e-01,  1.1853e-01,  7.3213e-02],\n",
              "                        [ 1.3460e-01,  9.5584e-02, -4.7475e-02],\n",
              "                        [ 2.6215e-01,  3.7280e-01,  1.7818e-01]],\n",
              "              \n",
              "                       [[ 5.3197e-01, -1.0128e-01, -3.8322e-01],\n",
              "                        [-1.1121e-01, -1.4373e-01, -2.2956e-01],\n",
              "                        [-2.2667e-01, -3.4445e-01, -1.1528e-01]],\n",
              "              \n",
              "                       [[-6.5112e-02, -9.3831e-02, -1.6239e-02],\n",
              "                        [-5.2555e-02, -5.3913e-02,  6.7650e-02],\n",
              "                        [-3.9719e-02, -4.7632e-02,  5.8397e-02]]]])),\n",
              "             ('conv_block_2.2.bias',\n",
              "              tensor([ 0.2090, -0.2309,  0.2111,  0.0626, -0.0748,  0.2196,  0.1247, -0.0889,\n",
              "                       0.0033, -0.1437])),\n",
              "             ('classifier.1.weight',\n",
              "              tensor([[-0.0229, -0.0403,  0.0670,  ...,  0.0078, -0.0116, -0.0265],\n",
              "                      [ 0.0073,  0.1533,  0.2515,  ...,  0.0043,  0.0224,  0.0420],\n",
              "                      [-0.0272,  0.1035,  0.1157,  ...,  0.0386, -0.0269,  0.0608],\n",
              "                      ...,\n",
              "                      [-0.0571, -0.0850, -0.0960,  ...,  0.0215,  0.0009, -0.0172],\n",
              "                      [ 0.1198,  0.2564, -0.0811,  ...,  0.0055,  0.0359, -0.0150],\n",
              "                      [-0.0453, -0.1119, -0.0801,  ..., -0.0145, -0.0409,  0.0257]])),\n",
              "             ('classifier.1.bias',\n",
              "              tensor([ 0.0532, -0.1374,  0.4262, -0.0200, -0.3830, -0.1830,  0.1566, -0.0018,\n",
              "                       0.1573, -0.1049]))])"
            ]
          },
          "metadata": {},
          "execution_count": 69
        }
      ]
    },
    {
      "cell_type": "code",
      "source": [
        "# Create new instance.\n",
        "torch.manual_seed(42)\n",
        "\n",
        "loaded_model_2 = FashionMNISTModelV2(input_shape=1,\n",
        "                                     hidden_units=10,\n",
        "                                     output_shape=len(class_names))\n",
        "\n",
        "# Load model state dict.\n",
        "loaded_model_2.load_state_dict(torch.load(f=MODEL_SAVE_PATH))\n",
        "\n",
        "# Send the model to target device.\n",
        "loaded_model_2.to(device)"
      ],
      "metadata": {
        "colab": {
          "base_uri": "https://localhost:8080/"
        },
        "id": "zuypklUeJg7b",
        "outputId": "a4f449a7-b9c3-4922-b2f0-721f59ebd42a"
      },
      "execution_count": null,
      "outputs": [
        {
          "output_type": "execute_result",
          "data": {
            "text/plain": [
              "FashionMNISTModelV2(\n",
              "  (conv_block_1): Sequential(\n",
              "    (0): Conv2d(1, 10, kernel_size=(3, 3), stride=(1, 1), padding=(1, 1))\n",
              "    (1): ReLU()\n",
              "    (2): Conv2d(10, 10, kernel_size=(3, 3), stride=(1, 1), padding=(1, 1))\n",
              "    (3): ReLU()\n",
              "    (4): MaxPool2d(kernel_size=2, stride=2, padding=0, dilation=1, ceil_mode=False)\n",
              "  )\n",
              "  (conv_block_2): Sequential(\n",
              "    (0): Conv2d(10, 10, kernel_size=(3, 3), stride=(1, 1), padding=(1, 1))\n",
              "    (1): ReLU()\n",
              "    (2): Conv2d(10, 10, kernel_size=(3, 3), stride=(1, 1), padding=(1, 1))\n",
              "    (3): ReLU()\n",
              "    (4): MaxPool2d(kernel_size=2, stride=2, padding=0, dilation=1, ceil_mode=False)\n",
              "  )\n",
              "  (classifier): Sequential(\n",
              "    (0): Flatten(start_dim=1, end_dim=-1)\n",
              "    (1): Linear(in_features=490, out_features=10, bias=True)\n",
              "  )\n",
              ")"
            ]
          },
          "metadata": {},
          "execution_count": 70
        }
      ]
    },
    {
      "cell_type": "code",
      "source": [
        "model_2_results"
      ],
      "metadata": {
        "colab": {
          "base_uri": "https://localhost:8080/"
        },
        "id": "3eZaggNEKOgS",
        "outputId": "b289fbaa-252f-4afb-eaec-e24c0cf82053"
      },
      "execution_count": null,
      "outputs": [
        {
          "output_type": "execute_result",
          "data": {
            "text/plain": [
              "{'model_name': 'FashionMNISTModelV2',\n",
              " 'model_loss': 0.32718968391418457,\n",
              " 'model_acc': 88.06908945686901}"
            ]
          },
          "metadata": {},
          "execution_count": 71
        }
      ]
    },
    {
      "cell_type": "code",
      "source": [
        "# Evaluate loaded model.\n",
        "torch.manual_seed(42)\n",
        "loaded_model_2_results = eval_model(model=loaded_model_2,\n",
        "                                    data_loader=test_dataloader,\n",
        "                                    loss_fn=loss_fn,\n",
        "                                    accuracy_fn=accuracy_fn)\n",
        "loaded_model_2_results"
      ],
      "metadata": {
        "colab": {
          "base_uri": "https://localhost:8080/",
          "height": 101,
          "referenced_widgets": [
            "968b62ba0f4f4946825464b6ae8c3a7d",
            "58c12899c90c43a9bde331001f1762a1",
            "e524678fb7d8469780909ec570ff7848",
            "7cb1e15165624ba493768d12fd36c1a9",
            "81dbfafa02254000ae582f894301050f",
            "df9aae2cf47f487289c06d072be02b64",
            "bf822300f8d840bd8da86ef254bdc988",
            "0850a8ac784c4c60b59c93afcabf8b6a",
            "bfc000f6cb4942308bfc65239772357d",
            "728c2864cd284e1b8e94a32fa421429b",
            "f3744d90c04a4caf965e558bed404fcb"
          ]
        },
        "id": "8mQkauyuKJnP",
        "outputId": "46f74520-8610-4365-9aa6-9d7510497c79"
      },
      "execution_count": null,
      "outputs": [
        {
          "output_type": "display_data",
          "data": {
            "text/plain": [
              "  0%|          | 0/313 [00:00<?, ?it/s]"
            ],
            "application/vnd.jupyter.widget-view+json": {
              "version_major": 2,
              "version_minor": 0,
              "model_id": "968b62ba0f4f4946825464b6ae8c3a7d"
            }
          },
          "metadata": {}
        },
        {
          "output_type": "execute_result",
          "data": {
            "text/plain": [
              "{'model_name': 'FashionMNISTModelV2',\n",
              " 'model_loss': 0.32718968391418457,\n",
              " 'model_acc': 88.06908945686901}"
            ]
          },
          "metadata": {},
          "execution_count": 72
        }
      ]
    },
    {
      "cell_type": "markdown",
      "source": [
        "If we get discripancies between loaded_model and the built model. Then we should check the saved path and manual seeding"
      ],
      "metadata": {
        "id": "VEba0ar3K5UU"
      }
    },
    {
      "cell_type": "code",
      "source": [
        "# Check if model results.\n",
        "torch.isclose(torch.tensor(model_2_results[\"model_loss\"]),\n",
        "             torch.tensor(loaded_model_2_results[\"model_loss\"]),\n",
        "              atol=1e-02) # Tolerance level."
      ],
      "metadata": {
        "colab": {
          "base_uri": "https://localhost:8080/"
        },
        "id": "dW4mFdcgKbhh",
        "outputId": "9627cca1-c210-432d-c3b4-c6eb4a3295e1"
      },
      "execution_count": null,
      "outputs": [
        {
          "output_type": "execute_result",
          "data": {
            "text/plain": [
              "tensor(True)"
            ]
          },
          "metadata": {},
          "execution_count": 74
        }
      ]
    },
    {
      "cell_type": "code",
      "source": [],
      "metadata": {
        "id": "mmUfDAyJLKux"
      },
      "execution_count": null,
      "outputs": []
    }
  ]
}